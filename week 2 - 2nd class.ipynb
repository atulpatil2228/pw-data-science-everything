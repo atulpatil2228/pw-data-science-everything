{
 "cells": [
  {
   "cell_type": "code",
   "execution_count": 1,
   "id": "33bad7cb-5568-4e24-9e05-d1297ec79802",
   "metadata": {},
   "outputs": [],
   "source": [
    "a = 10 "
   ]
  },
  {
   "cell_type": "code",
   "execution_count": 2,
   "id": "88ba3220-6553-46b6-88f1-9b1ff13a2d45",
   "metadata": {},
   "outputs": [],
   "source": [
    "a = \"c\""
   ]
  },
  {
   "cell_type": "code",
   "execution_count": 4,
   "id": "0b374b61-e91f-4212-85f0-47ae6c8f238f",
   "metadata": {},
   "outputs": [
    {
     "data": {
      "text/plain": [
       "str"
      ]
     },
     "execution_count": 4,
     "metadata": {},
     "output_type": "execute_result"
    }
   ],
   "source": [
    "type(a)"
   ]
  },
  {
   "cell_type": "code",
   "execution_count": 6,
   "id": "af26d236-712a-407c-8c92-270fb10824e4",
   "metadata": {},
   "outputs": [
    {
     "data": {
      "text/plain": [
       "123"
      ]
     },
     "execution_count": 6,
     "metadata": {},
     "output_type": "execute_result"
    }
   ],
   "source": [
    "int(\"123\")"
   ]
  },
  {
   "cell_type": "code",
   "execution_count": 9,
   "id": "77a43d36-872d-4173-8b45-f0ea8ec9820e",
   "metadata": {},
   "outputs": [
    {
     "name": "stdout",
     "output_type": "stream",
     "text": [
      "abc\n"
     ]
    }
   ],
   "source": [
    "print(\"abc\")"
   ]
  },
  {
   "cell_type": "code",
   "execution_count": 11,
   "id": "d3eabdca-4198-4790-b231-7dba20aa08d7",
   "metadata": {},
   "outputs": [
    {
     "name": "stdout",
     "output_type": "stream",
     "text": [
      "My age is : 32\n"
     ]
    }
   ],
   "source": [
    "age = 32\n",
    "print(\"My age is :\",age )"
   ]
  },
  {
   "cell_type": "markdown",
   "id": "b181b0bc-b59c-4817-b3c2-e322856f4c7e",
   "metadata": {},
   "source": [
    "## f string"
   ]
  },
  {
   "cell_type": "code",
   "execution_count": 13,
   "id": "52d2d56c-ee54-461d-b450-18b37997b0ae",
   "metadata": {},
   "outputs": [
    {
     "name": "stdout",
     "output_type": "stream",
     "text": [
      "My age is :32\n"
     ]
    }
   ],
   "source": [
    "print(f\"My age is :{age}\")"
   ]
  },
  {
   "cell_type": "code",
   "execution_count": 14,
   "id": "0b402b5c-0b0f-4ef1-8f60-8a5db7b5d8d0",
   "metadata": {},
   "outputs": [
    {
     "data": {
      "text/plain": [
       "int"
      ]
     },
     "execution_count": 14,
     "metadata": {},
     "output_type": "execute_result"
    }
   ],
   "source": [
    "type (age)"
   ]
  },
  {
   "cell_type": "markdown",
   "id": "287ef2d6-5bc4-4a12-a858-043f812205b7",
   "metadata": {},
   "source": [
    "## format way"
   ]
  },
  {
   "cell_type": "code",
   "execution_count": 16,
   "id": "952b1281-6bd6-43d3-a391-10f074a284a7",
   "metadata": {},
   "outputs": [
    {
     "name": "stdout",
     "output_type": "stream",
     "text": [
      "my name is atul and my age is 24\n"
     ]
    }
   ],
   "source": [
    "name = \"atul\"\n",
    "age = 24\n",
    "print(\"my name is {} and my age is {}\".format(name,age))"
   ]
  },
  {
   "cell_type": "code",
   "execution_count": null,
   "id": "7b9feb9d-0237-44a8-b64f-70baca4cc708",
   "metadata": {},
   "outputs": [],
   "source": []
  },
  {
   "cell_type": "code",
   "execution_count": 17,
   "id": "ab097cef-37e2-49e3-a6ff-a9d68def566b",
   "metadata": {},
   "outputs": [
    {
     "name": "stdout",
     "output_type": "stream",
     "text": [
      "my name is 24 and my age is atul\n"
     ]
    }
   ],
   "source": [
    "name = \"atul\"\n",
    "age = 24\n",
    "print(\"my name is {} and my age is {}\".format(age , name ))"
   ]
  },
  {
   "cell_type": "markdown",
   "id": "bf0ed5e7-a0da-492c-ac38-e62b3be23def",
   "metadata": {},
   "source": [
    "## markdown"
   ]
  },
  {
   "cell_type": "code",
   "execution_count": 25,
   "id": "0a81ec64-eb41-4bae-899e-fe74c7906e17",
   "metadata": {},
   "outputs": [
    {
     "name": "stdout",
     "output_type": "stream",
     "text": [
      "my name is atul and my age is 24\n"
     ]
    }
   ],
   "source": [
    "## placeholder\n",
    "name = \"atul\"\n",
    "age = 24\n",
    "print(\"my name is {} and my age is {}\".format( name, age))"
   ]
  },
  {
   "cell_type": "code",
   "execution_count": 5,
   "id": "4334b687-c777-4293-aaf8-1d02823cf5f9",
   "metadata": {},
   "outputs": [
    {
     "name": "stdout",
     "output_type": "stream",
     "text": [
      " my age is 28 and i have completed my degree : is bsc with the name atul patil\n"
     ]
    }
   ],
   "source": [
    "name = \"atul patil\"\n",
    "age = 28\n",
    "degree = \"bsc\"\n",
    "\n",
    "print(\" my age is {} and i have completed my degree : is {} with the name {}\".format ( age,degree,name))"
   ]
  },
  {
   "cell_type": "code",
   "execution_count": 6,
   "id": "3c8dfc7a-78b4-4c1e-a9f2-e294f70eb842",
   "metadata": {},
   "outputs": [
    {
     "name": "stdout",
     "output_type": "stream",
     "text": [
      "my age is 28 and i have completed : my degree is bsc with the name atul patil\n"
     ]
    }
   ],
   "source": [
    "print(f\"my age is {age} and i have completed : my degree is {degree} with the name {name}\")"
   ]
  },
  {
   "cell_type": "markdown",
   "id": "34e2aa59-e2b5-450e-ba00-461f4e06a5bc",
   "metadata": {},
   "source": [
    "## Control flow\n",
    "### Decision Making Statements"
   ]
  },
  {
   "cell_type": "markdown",
   "id": "1a0cf6b6-902f-4b56-a250-565288e2c8ce",
   "metadata": {},
   "source": [
    "## if statements"
   ]
  },
  {
   "cell_type": "code",
   "execution_count": 8,
   "id": "6586f933-ea0b-46de-9e49-9a8d12398d07",
   "metadata": {},
   "outputs": [
    {
     "name": "stdout",
     "output_type": "stream",
     "text": [
      "you are eligible to vote\n"
     ]
    }
   ],
   "source": [
    "age = 18\n",
    "if age >= 18 :\n",
    "    print(\"you are eligible to vote\")"
   ]
  },
  {
   "cell_type": "code",
   "execution_count": 11,
   "id": "0b29f850-24fe-4989-89d4-ba684f02f66e",
   "metadata": {},
   "outputs": [
    {
     "name": "stdout",
     "output_type": "stream",
     "text": [
      "you are eligible to vote\n"
     ]
    }
   ],
   "source": [
    "age = 18\n",
    "if age <= 18 :\n",
    "    print(\"you are eligible to vote\")"
   ]
  },
  {
   "cell_type": "code",
   "execution_count": 14,
   "id": "2922bd97-ba41-4410-8ffc-fc19ed5ee729",
   "metadata": {},
   "outputs": [
    {
     "name": "stdout",
     "output_type": "stream",
     "text": [
      "you are not  eligible to vote\n"
     ]
    }
   ],
   "source": [
    "age = 17\n",
    "if age < 18 :\n",
    "    print(\"you are not  eligible to vote\")"
   ]
  },
  {
   "cell_type": "code",
   "execution_count": null,
   "id": "c5444c9c-0dc1-43f4-8850-b7977ab873a4",
   "metadata": {},
   "outputs": [],
   "source": []
  },
  {
   "cell_type": "code",
   "execution_count": 15,
   "id": "88c307ad-d444-43b0-a75b-dd9203246f43",
   "metadata": {},
   "outputs": [
    {
     "name": "stdin",
     "output_type": "stream",
     "text": [
      "enter your name atul\n"
     ]
    }
   ],
   "source": [
    "name = input(\"enter your name\")"
   ]
  },
  {
   "cell_type": "code",
   "execution_count": 18,
   "id": "f8b7cbd3-0180-4ea0-8dd2-9f6dc926ba46",
   "metadata": {},
   "outputs": [
    {
     "data": {
      "text/plain": [
       "'atul patil'"
      ]
     },
     "execution_count": 18,
     "metadata": {},
     "output_type": "execute_result"
    }
   ],
   "source": [
    "name "
   ]
  },
  {
   "cell_type": "code",
   "execution_count": 17,
   "id": "ee82645b-648d-4ce1-be05-f7f41d66836a",
   "metadata": {},
   "outputs": [
    {
     "name": "stdin",
     "output_type": "stream",
     "text": [
      "enter your name atul patil\n"
     ]
    },
    {
     "data": {
      "text/plain": [
       "str"
      ]
     },
     "execution_count": 17,
     "metadata": {},
     "output_type": "execute_result"
    }
   ],
   "source": [
    "type(name)"
   ]
  },
  {
   "cell_type": "code",
   "execution_count": 19,
   "id": "100c5561-51c4-4c75-8939-055de51635fb",
   "metadata": {},
   "outputs": [
    {
     "name": "stdin",
     "output_type": "stream",
     "text": [
      "enter your age  24\n"
     ]
    }
   ],
   "source": [
    "age = int(input(\"enter your age \"))"
   ]
  },
  {
   "cell_type": "code",
   "execution_count": 20,
   "id": "1531ee8d-5857-4140-8dc8-874edf49fe7b",
   "metadata": {},
   "outputs": [
    {
     "data": {
      "text/plain": [
       "int"
      ]
     },
     "execution_count": 20,
     "metadata": {},
     "output_type": "execute_result"
    }
   ],
   "source": [
    "type(age)"
   ]
  },
  {
   "cell_type": "markdown",
   "id": "e368b98f-9a40-4d72-95ee-6b4cdd4312f3",
   "metadata": {},
   "source": [
    "## task - 1\n",
    "## take input age \n",
    "## check wether age >= 18 and age <=45\n",
    "## display you are young blood"
   ]
  },
  {
   "cell_type": "code",
   "execution_count": 10,
   "id": "d1e48e4f-053a-4ea0-a36e-442648c67c4e",
   "metadata": {},
   "outputs": [
    {
     "name": "stdin",
     "output_type": "stream",
     "text": [
      "enter your age  34\n"
     ]
    },
    {
     "name": "stdout",
     "output_type": "stream",
     "text": [
      "you are young blood\n"
     ]
    }
   ],
   "source": [
    " age = int(input(\"enter your age \"))\n",
    "if age >= 18 and  age <= 45 :\n",
    "    print(\"you are young blood\")\n",
    "    \n",
    "   \n",
    "        \n",
    "        \n",
    "        \n",
    "        \n",
    "     "
   ]
  },
  {
   "cell_type": "markdown",
   "id": "0a19d0eb-8e26-4258-ae81-63c5ad40786f",
   "metadata": {},
   "source": []
  },
  {
   "cell_type": "markdown",
   "id": "d0933415-2b67-49af-b1d8-2ffc88830b78",
   "metadata": {},
   "source": [
    "## if else statement"
   ]
  },
  {
   "cell_type": "code",
   "execution_count": 12,
   "id": "453788ba-2905-4c2a-a967-d21891609d23",
   "metadata": {},
   "outputs": [
    {
     "name": "stdin",
     "output_type": "stream",
     "text": [
      "enter your age  56\n"
     ]
    },
    {
     "name": "stdout",
     "output_type": "stream",
     "text": [
      "thank you we will let you know\n"
     ]
    }
   ],
   "source": [
    "age = int(input(\"enter your age \"))\n",
    "if age >= 18 and  age <= 45 :\n",
    "    print(\"you are young blood\")\n",
    "    \n",
    "else:\n",
    "    print(\"thank you we will let you know\")"
   ]
  },
  {
   "cell_type": "markdown",
   "id": "33f7241c-8f85-4ac8-b9fd-c8d74a52d4f1",
   "metadata": {},
   "source": [
    " ## mall = input the product price\n",
    " ## task 2 if else statement\n",
    " ## product > 1000rs 20 % off\n",
    " ## print the product price\n",
    " ##  product <= 1000 rs 30 % off\n",
    " ## print the product price"
   ]
  },
  {
   "cell_type": "code",
   "execution_count": 1,
   "id": "2f46d448-0788-45c0-9e8a-4fb709160672",
   "metadata": {},
   "outputs": [
    {
     "name": "stdin",
     "output_type": "stream",
     "text": [
      " enter the price 78\n"
     ]
    }
   ],
   "source": []
  },
  {
   "cell_type": "code",
   "execution_count": null,
   "id": "7a5ea8b0-dbad-4b83-aff7-3e1824133518",
   "metadata": {},
   "outputs": [],
   "source": []
  },
  {
   "cell_type": "code",
   "execution_count": null,
   "id": "b57e747a-4844-4f19-93fa-c739e1851e42",
   "metadata": {},
   "outputs": [],
   "source": [
    "product_price =int(input ( \" enter the price\"))\n",
    "if product_price > 1000:\n",
    "    print(f\"the product price is {product_price*0.8}\")\n",
    "    \n",
    "else:\n",
    "    print(f\"the price of the product is {product_price*0.7}\")\n"
   ]
  },
  {
   "cell_type": "code",
   "execution_count": null,
   "id": "58382810-4b12-4771-afef-91a6b3f3daf7",
   "metadata": {},
   "outputs": [],
   "source": []
  },
  {
   "cell_type": "markdown",
   "id": "e999370f-c347-4042-a889-2f2081c80ced",
   "metadata": {},
   "source": [
    "### mall - input the product price\n",
    "### product price > 3000rs 20 % of\n",
    "### price is == 4000 you get a trip to goa\n",
    "### print the product price after removing the discount\n",
    "### product price >= 2000 rs and <= 3000rs 30% off\n",
    "### print the product price after removing the discount\n",
    "### price == 2999 u will get an additional gift{we should use nessetd IF}\n",
    "### product 0 rs and >= 2000rs 40 % off\n",
    "### print the product price after removing the discount"
   ]
  },
  {
   "cell_type": "code",
   "execution_count": null,
   "id": "b1db7747-3853-4cd2-8ee3-aa61189f3050",
   "metadata": {},
   "outputs": [],
   "source": []
  },
  {
   "cell_type": "code",
   "execution_count": 11,
   "id": "5ca4d655-aa3e-4371-a54d-1de37be75abd",
   "metadata": {},
   "outputs": [
    {
     "name": "stdin",
     "output_type": "stream",
     "text": [
      "enter the product price 4000\n"
     ]
    },
    {
     "name": "stdout",
     "output_type": "stream",
     "text": [
      "you get a goa trip\n",
      "The price of the product 3200.0\n"
     ]
    }
   ],
   "source": [
    "product_price =  int(input(\"enter the product price\"))\n",
    "if product_price > 3000 :\n",
    "    if product_price==4000:\n",
    "        print(\"you get a goa trip\")\n",
    "    print(\"The price of the product {}\".format(product_price*0.8))\n",
    "    \n",
    "elif product_price >= 2000 and product_price <= 3000 :\n",
    "    if product_price==2999:\n",
    "        print(\"congratulations you get an additional gift\")\n",
    "    print(\"The price of the product{}\".format(product_price*0.7))\n",
    "    \n",
    "else:\n",
    "    print(\"The price of the product {}\".format(product_price*0.6))"
   ]
  },
  {
   "cell_type": "code",
   "execution_count": 12,
   "id": "2f5d693a-1030-42ca-b596-d2a967b150eb",
   "metadata": {},
   "outputs": [],
   "source": [
    "## comparision operator"
   ]
  },
  {
   "cell_type": "code",
   "execution_count": null,
   "id": "2cf1360c-9b75-438f-8967-23a132622c0f",
   "metadata": {},
   "outputs": [],
   "source": []
  },
  {
   "cell_type": "code",
   "execution_count": null,
   "id": "674c6443-337c-4961-8287-34d7b75456e6",
   "metadata": {},
   "outputs": [],
   "source": []
  },
  {
   "cell_type": "code",
   "execution_count": null,
   "id": "8ae24510-e2b4-4e87-b154-2a072edfbc86",
   "metadata": {},
   "outputs": [],
   "source": []
  },
  {
   "cell_type": "code",
   "execution_count": null,
   "id": "1b09ed9d-5aa2-4a32-9b1f-1acdccc3c196",
   "metadata": {},
   "outputs": [],
   "source": []
  },
  {
   "cell_type": "code",
   "execution_count": null,
   "id": "71cadb89-0797-48dc-b7fb-5a46613282e0",
   "metadata": {},
   "outputs": [],
   "source": []
  },
  {
   "cell_type": "code",
   "execution_count": null,
   "id": "9dfea81a-e014-453a-b847-8ae148b4fb6f",
   "metadata": {},
   "outputs": [],
   "source": []
  },
  {
   "cell_type": "code",
   "execution_count": 2,
   "id": "e2b6db76-b48c-4c80-a5f8-56e28f8575b0",
   "metadata": {},
   "outputs": [
    {
     "name": "stdin",
     "output_type": "stream",
     "text": [
      "enter the price 89\n"
     ]
    },
    {
     "name": "stdout",
     "output_type": "stream",
     "text": [
      "The price of the productis 62.3\n"
     ]
    }
   ],
   "source": [
    "product = int(input(\"enter the price\"))\n",
    "if product > 1000 :\n",
    "    print(\"The price of the product is {}\".format(product*0.8))\n",
    "else:\n",
    "    print(\"The price of the productis {}\".format(product*0.7))\n",
    "    "
   ]
  },
  {
   "cell_type": "code",
   "execution_count": null,
   "id": "37e998c0-75b2-4b87-9a7a-46c6570bb61c",
   "metadata": {},
   "outputs": [],
   "source": []
  },
  {
   "cell_type": "code",
   "execution_count": 7,
   "id": "a280caa3-64ed-4757-bc86-2e9592a9fd0d",
   "metadata": {},
   "outputs": [
    {
     "name": "stdin",
     "output_type": "stream",
     "text": [
      "enter the price 90000000\n"
     ]
    },
    {
     "name": "stdout",
     "output_type": "stream",
     "text": [
      "The price of the product is 72000000.0\n"
     ]
    }
   ],
   "source": [
    "product = int(input(\"enter the price\"))\n",
    "if product > 1000 :\n",
    "    print(F\"The price of the product is {product*0.8}\")\n",
    "else:\n",
    "    print(f\"The price of the productis {product*0.7}\")\n",
    "    "
   ]
  },
  {
   "cell_type": "code",
   "execution_count": null,
   "id": "e3998613-eb28-47a9-ab65-773349657e59",
   "metadata": {},
   "outputs": [],
   "source": []
  },
  {
   "cell_type": "code",
   "execution_count": null,
   "id": "868771e7-c450-44c5-84a9-ac0952b9ec9d",
   "metadata": {},
   "outputs": [],
   "source": []
  },
  {
   "cell_type": "code",
   "execution_count": null,
   "id": "f8f78cd9-a2bf-44a1-ab20-4a5670ca1e85",
   "metadata": {},
   "outputs": [],
   "source": []
  },
  {
   "cell_type": "code",
   "execution_count": null,
   "id": "46e97308-5a24-482a-8819-7adb96075d6a",
   "metadata": {},
   "outputs": [],
   "source": [
    "Product_price = int(input (\"Enter the price\"))\n",
    "if Product_price > 3000:\n",
    "    print(\"The price of the product{}\".format(Product_price*0.8))\n",
    "    \n",
    "elif Product_price >= 2000 and Product_price <= 3000 :\n",
    "    print(\"The price of the product {}\".format(Product_price*0.7))\n",
    "    \n",
    "else :\n",
    "    print(\"The price of the product{}\".format(Product_price * 0.6 ))"
   ]
  },
  {
   "cell_type": "code",
   "execution_count": null,
   "id": "c04cdb3e-4bb9-4a54-873b-a8916972d5f6",
   "metadata": {},
   "outputs": [],
   "source": []
  },
  {
   "cell_type": "code",
   "execution_count": null,
   "id": "fbd5121b-32b0-438f-b9fa-59223c12c98d",
   "metadata": {},
   "outputs": [],
   "source": []
  },
  {
   "cell_type": "code",
   "execution_count": 13,
   "id": "ae282208-fe6c-4aae-b142-68d027071570",
   "metadata": {},
   "outputs": [
    {
     "name": "stdin",
     "output_type": "stream",
     "text": [
      "Enter the number 10000\n"
     ]
    },
    {
     "name": "stdout",
     "output_type": "stream",
     "text": [
      "Go home\n"
     ]
    }
   ],
   "source": [
    "### single statement suites\n",
    "val =int(input(\"Enter the number\"))\n",
    "if(val<=999):print(\"value is less than equal to 999\")\n",
    "else:\n",
    "    print(\"Go home\")"
   ]
  },
  {
   "cell_type": "code",
   "execution_count": null,
   "id": "fd705be2-972b-439d-99c4-b2c564b9ad8b",
   "metadata": {},
   "outputs": [],
   "source": []
  },
  {
   "cell_type": "markdown",
   "id": "549d337d-8619-4266-8e43-d943822c9d02",
   "metadata": {},
   "source": [
    "## loop statments\n",
    "1. while loop\n",
    "2. for loop\n",
    "3. nested loop\n",
    "4. loop control (break , continue , pass)"
   ]
  },
  {
   "cell_type": "markdown",
   "id": "cddd2aa9-98d6-4643-ade4-6c975fb54cf5",
   "metadata": {},
   "source": [
    "### while loop"
   ]
  },
  {
   "cell_type": "code",
   "execution_count": 4,
   "id": "17ed2935-4ed1-43fd-acb7-8517c8cba0b7",
   "metadata": {},
   "outputs": [
    {
     "name": "stdout",
     "output_type": "stream",
     "text": [
      "26\n",
      "27\n",
      "28\n",
      "29\n",
      "30\n",
      "31\n",
      "32\n",
      "33\n",
      "34\n",
      "35\n",
      "36\n",
      "37\n",
      "38\n",
      "39\n",
      "40\n",
      "41\n",
      "42\n",
      "43\n",
      "44\n",
      "45\n",
      "46\n",
      "47\n",
      "48\n",
      "49\n",
      "50\n",
      "51\n",
      "52\n",
      "53\n",
      "54\n",
      "55\n",
      "56\n",
      "57\n",
      "58\n",
      "59\n",
      "60\n",
      "61\n",
      "Its time for reteriment\n"
     ]
    }
   ],
   "source": [
    "### while loop while else\n",
    "joining_age = 25\n",
    "while joining_age <= 60 :\n",
    "    joining_age=joining_age+1\n",
    "    print(joining_age)\n",
    "else:\n",
    "    print(\"Its time for reteriment\")"
   ]
  },
  {
   "cell_type": "code",
   "execution_count": null,
   "id": "1626bbd3-f325-4bb3-a909-5f5559a96fa1",
   "metadata": {},
   "outputs": [],
   "source": []
  },
  {
   "cell_type": "code",
   "execution_count": 5,
   "id": "3f2a766a-59df-44c1-bfd1-ff21e10cc367",
   "metadata": {},
   "outputs": [
    {
     "name": "stdout",
     "output_type": "stream",
     "text": [
      "25\n",
      "26\n",
      "27\n",
      "28\n",
      "29\n",
      "30\n",
      "31\n",
      "32\n",
      "33\n",
      "34\n",
      "35\n",
      "36\n",
      "37\n",
      "38\n",
      "39\n",
      "40\n",
      "41\n",
      "42\n",
      "43\n",
      "44\n",
      "45\n",
      "46\n",
      "47\n",
      "48\n",
      "49\n",
      "50\n",
      "51\n",
      "52\n",
      "53\n",
      "54\n",
      "55\n",
      "56\n",
      "57\n",
      "58\n",
      "59\n",
      "60\n",
      "Its time for reteriment\n"
     ]
    }
   ],
   "source": [
    "joining_age = 25\n",
    "while joining_age <= 60 :\n",
    "    print(joining_age)\n",
    "    joining_age=joining_age+1\n",
    "\n",
    "else:\n",
    "    print(\"Its time for reteriment\")"
   ]
  },
  {
   "cell_type": "code",
   "execution_count": null,
   "id": "f0e4a9e5-5f90-4877-8e2d-9a75a34422d4",
   "metadata": {},
   "outputs": [],
   "source": []
  },
  {
   "cell_type": "code",
   "execution_count": 6,
   "id": "e2f8dd67-fefc-4c0a-b032-8733e6164a30",
   "metadata": {},
   "outputs": [
    {
     "name": "stdout",
     "output_type": "stream",
     "text": [
      "900\n",
      "800\n",
      "700\n",
      "600\n",
      "500\n",
      "400\n",
      "300\n",
      "200\n",
      "100\n",
      "0\n"
     ]
    }
   ],
   "source": [
    "### atm machine with 1000 rupees\n",
    "total_amount = 1000\n",
    "while total_amount!=0:\n",
    "    total_amount = total_amount-100\n",
    "    print(total_amount)"
   ]
  },
  {
   "cell_type": "code",
   "execution_count": 10,
   "id": "060eb1f4-0151-4af4-8064-2d9367381dcb",
   "metadata": {},
   "outputs": [
    {
     "name": "stdout",
     "output_type": "stream",
     "text": [
      "1000\n",
      "900\n",
      "800\n",
      "700\n",
      "600\n",
      "500\n",
      "400\n",
      "300\n",
      "200\n",
      "100\n",
      "put more money bank walhho\n"
     ]
    }
   ],
   "source": [
    "total_amount = 1000\n",
    "while total_amount!=0:\n",
    "    print(total_amount)\n",
    "    total_amount = total_amount-100\n",
    "else:\n",
    "    print(\"put more money bank walhho\")"
   ]
  },
  {
   "cell_type": "code",
   "execution_count": null,
   "id": "eb57ce0e-0f28-4973-82c0-27b52f2ab07e",
   "metadata": {},
   "outputs": [],
   "source": []
  },
  {
   "cell_type": "markdown",
   "id": "ff4a4c82-b995-407d-8c82-bb987b11c6e1",
   "metadata": {},
   "source": [
    "## for loop"
   ]
  },
  {
   "cell_type": "code",
   "execution_count": null,
   "id": "e49e5b58-b82a-46ce-a7b9-cdf0a381147c",
   "metadata": {},
   "outputs": [],
   "source": []
  },
  {
   "cell_type": "code",
   "execution_count": 2,
   "id": "874bc344-fb74-4029-a992-48a430522f31",
   "metadata": {},
   "outputs": [],
   "source": [
    "lst=[\"atul\",1,2,3,4,\"apple\",\"banana\"]"
   ]
  },
  {
   "cell_type": "code",
   "execution_count": 13,
   "id": "70429580-2ce4-4800-b2a2-2b9e6bc69d17",
   "metadata": {},
   "outputs": [
    {
     "data": {
      "text/plain": [
       "list"
      ]
     },
     "execution_count": 13,
     "metadata": {},
     "output_type": "execute_result"
    }
   ],
   "source": [
    "type(lst)"
   ]
  },
  {
   "cell_type": "code",
   "execution_count": 14,
   "id": "6e98a697-5e7c-444c-a188-9621a9c0a12f",
   "metadata": {},
   "outputs": [
    {
     "data": {
      "text/plain": [
       "1"
      ]
     },
     "execution_count": 14,
     "metadata": {},
     "output_type": "execute_result"
    }
   ],
   "source": [
    "lst[0]"
   ]
  },
  {
   "cell_type": "code",
   "execution_count": 17,
   "id": "08a4391e-e068-470d-a48d-410015909c03",
   "metadata": {},
   "outputs": [
    {
     "data": {
      "text/plain": [
       "['atul', 1, 2, 3, 4, 'apple', 'banana']"
      ]
     },
     "execution_count": 17,
     "metadata": {},
     "output_type": "execute_result"
    }
   ],
   "source": [
    "lst"
   ]
  },
  {
   "cell_type": "code",
   "execution_count": 3,
   "id": "20853dd6-283d-43c4-ba3c-219f9501a44e",
   "metadata": {},
   "outputs": [
    {
     "name": "stdout",
     "output_type": "stream",
     "text": [
      "atul\n",
      "1\n",
      "2\n",
      "3\n",
      "4\n",
      "apple\n",
      "banana\n"
     ]
    }
   ],
   "source": [
    "for x in lst:\n",
    "    print(x)"
   ]
  },
  {
   "cell_type": "code",
   "execution_count": null,
   "id": "223a7236-b5cf-4c9c-b7a2-1b2bed3b80a4",
   "metadata": {},
   "outputs": [],
   "source": []
  },
  {
   "cell_type": "code",
   "execution_count": 4,
   "id": "0da28f69-1296-4fa3-b721-a8ae7a1e6144",
   "metadata": {},
   "outputs": [],
   "source": [
    "fruit_list = [\"Mango\",\"cherry\",\"apple\",\"papaya\",\"banana\"]"
   ]
  },
  {
   "cell_type": "code",
   "execution_count": 5,
   "id": "fc1f35e5-1856-401e-aa09-33d7fa4d319b",
   "metadata": {},
   "outputs": [
    {
     "name": "stdout",
     "output_type": "stream",
     "text": [
      "Mango\n",
      "cherry\n",
      "The fruit is cherry\n",
      "apple\n",
      "papaya\n",
      "banana\n"
     ]
    }
   ],
   "source": [
    "for a in fruit_list:\n",
    "    print(a)\n",
    "    if a == \"cherry\":\n",
    "        print(\"The fruit is cherry\")"
   ]
  },
  {
   "cell_type": "code",
   "execution_count": 6,
   "id": "96a5fd95-0338-46fa-a084-9c697a740262",
   "metadata": {},
   "outputs": [
    {
     "name": "stdout",
     "output_type": "stream",
     "text": [
      "MangocherryThe fruit is cherry\n",
      "applepapayabanana"
     ]
    }
   ],
   "source": [
    "for a in fruit_list:\n",
    "    print(a,end='')\n",
    "    if a == \"cherry\":\n",
    "        print(\"The fruit is cherry\")"
   ]
  },
  {
   "cell_type": "code",
   "execution_count": 7,
   "id": "f0ec47f3-89fc-465b-8048-eeeafef79190",
   "metadata": {},
   "outputs": [
    {
     "name": "stdout",
     "output_type": "stream",
     "text": [
      "Mango\n",
      "cherry\n",
      "The fruit is cherry\n"
     ]
    }
   ],
   "source": [
    "for a in fruit_list:\n",
    "    print(a)\n",
    "    if a == \"cherry\":\n",
    "        print(\"The fruit is cherry\")\n",
    "        break"
   ]
  },
  {
   "cell_type": "code",
   "execution_count": 9,
   "id": "055c50a0-0a55-411c-84ba-7a9fdb85f204",
   "metadata": {},
   "outputs": [
    {
     "name": "stdout",
     "output_type": "stream",
     "text": [
      "m\n",
      "a\n",
      "n\n",
      "g\n",
      "o\n"
     ]
    }
   ],
   "source": [
    "fruit = \"mango\"\n",
    "for m in fruit:\n",
    "    print(m)"
   ]
  },
  {
   "cell_type": "code",
   "execution_count": 10,
   "id": "b978ad06-4e32-4294-b6ec-640ae2c7a39b",
   "metadata": {},
   "outputs": [
    {
     "data": {
      "text/plain": [
       "'g'"
      ]
     },
     "execution_count": 10,
     "metadata": {},
     "output_type": "execute_result"
    }
   ],
   "source": [
    "fruit[3]"
   ]
  },
  {
   "cell_type": "code",
   "execution_count": null,
   "id": "a4d39744-4259-4c4d-b8f0-596b929cede2",
   "metadata": {},
   "outputs": [],
   "source": [
    "### Nested loops\n",
    "n = 7"
   ]
  },
  {
   "cell_type": "code",
   "execution_count": null,
   "id": "7900ef6e-aec0-4367-be4e-eaa89596c0e6",
   "metadata": {},
   "outputs": [],
   "source": []
  },
  {
   "cell_type": "code",
   "execution_count": 13,
   "id": "7f02ab7a-b355-4027-b57f-f4832c77250d",
   "metadata": {},
   "outputs": [
    {
     "name": "stdout",
     "output_type": "stream",
     "text": [
      "1\n",
      "2\n",
      "3\n",
      "4\n",
      "5\n",
      "6\n",
      "7\n",
      "8\n",
      "9\n"
     ]
    }
   ],
   "source": [
    "for i in range(1,10):\n",
    "    print (i)"
   ]
  },
  {
   "cell_type": "code",
   "execution_count": 15,
   "id": "395f713c-7d4e-4daa-9be5-9669357509ac",
   "metadata": {},
   "outputs": [
    {
     "name": "stdout",
     "output_type": "stream",
     "text": [
      "1\n",
      "3\n",
      "5\n",
      "7\n",
      "9\n"
     ]
    }
   ],
   "source": [
    "for i in range(1,10,2):\n",
    "    print (i)"
   ]
  },
  {
   "cell_type": "code",
   "execution_count": null,
   "id": "9b710c62-10c3-4e0f-8156-1eeaf18c5668",
   "metadata": {},
   "outputs": [],
   "source": []
  },
  {
   "cell_type": "code",
   "execution_count": 17,
   "id": "f6dc5721-63a1-4d56-a07f-522304df5b71",
   "metadata": {},
   "outputs": [
    {
     "name": "stdout",
     "output_type": "stream",
     "text": [
      "*\n",
      "**\n",
      "***\n",
      "****\n",
      "*****\n",
      "******\n",
      "*******\n"
     ]
    }
   ],
   "source": [
    "### Nested loops\n",
    "n = 7\n",
    "\n",
    "for i in range(0,n):\n",
    "    for j in range (0,i+1):\n",
    "        print(\"*\",end=\"\")\n",
    "    print(\"\\r\")    "
   ]
  },
  {
   "cell_type": "markdown",
   "id": "dbf08f5c-8491-483d-b40f-78b6b89eb469",
   "metadata": {},
   "source": [
    "### loop controls\n",
    "## Break and continue"
   ]
  },
  {
   "cell_type": "code",
   "execution_count": 18,
   "id": "5fa5069f-07b4-4418-88e2-d35a2c2499cc",
   "metadata": {},
   "outputs": [
    {
     "name": "stdout",
     "output_type": "stream",
     "text": [
      "Mango\n",
      "cherry\n",
      "apple\n",
      "papaya\n",
      "banana\n"
     ]
    }
   ],
   "source": [
    "fruit_list = [\"Mango\",\"cherry\",\"apple\",\"papaya\",\"banana\"]\n",
    "for i in fruit_list:\n",
    "    print(i)"
   ]
  },
  {
   "cell_type": "code",
   "execution_count": 20,
   "id": "02177794-1cea-4065-bcac-84850198ce8d",
   "metadata": {},
   "outputs": [],
   "source": [
    "fruit_list = [\"Mango\",\"cherry\",\"apple\",\"papaya\",\"banana\"]\n",
    "if i == \"apple\":\n",
    "    print(\"the fruit is apple\")\n",
    "    print(i)"
   ]
  },
  {
   "cell_type": "code",
   "execution_count": null,
   "id": "2657e8ce-f610-441e-9f86-ccd362f8826d",
   "metadata": {},
   "outputs": [],
   "source": []
  },
  {
   "cell_type": "code",
   "execution_count": 22,
   "id": "5a4d9806-9e47-496f-a26f-de84c212b30a",
   "metadata": {},
   "outputs": [
    {
     "name": "stdout",
     "output_type": "stream",
     "text": [
      "Mango\n",
      "cherry\n",
      "The fruit is apple\n"
     ]
    }
   ],
   "source": [
    "fruit_list = [\"Mango\",\"cherry\",\"apple\",\"papaya\",\"banana\"]\n",
    "for i in fruit_list:\n",
    "    if i == \"apple\":\n",
    "        print(\"The fruit is apple\")\n",
    "        break\n",
    "    print(i)"
   ]
  },
  {
   "cell_type": "code",
   "execution_count": 23,
   "id": "070cb412-aefa-4ced-899d-7f831bb457ee",
   "metadata": {},
   "outputs": [
    {
     "name": "stdout",
     "output_type": "stream",
     "text": [
      "Mango\n",
      "cherry\n",
      "The fruit is apple\n",
      "apple\n",
      "papaya\n",
      "banana\n"
     ]
    }
   ],
   "source": [
    "fruit_list = [\"Mango\",\"cherry\",\"apple\",\"papaya\",\"banana\"]\n",
    "for i in fruit_list:\n",
    "    if i == \"apple\":\n",
    "        print(\"The fruit is apple\")\n",
    "        pass\n",
    "    print(i)"
   ]
  },
  {
   "cell_type": "code",
   "execution_count": 24,
   "id": "09f4c84f-f0e8-4211-a79b-92cc9f1a5a75",
   "metadata": {},
   "outputs": [
    {
     "name": "stdout",
     "output_type": "stream",
     "text": [
      "Mango\n",
      "cherry\n",
      "The fruit is apple\n",
      "papaya\n",
      "banana\n"
     ]
    }
   ],
   "source": [
    "fruit_list = [\"Mango\",\"cherry\",\"apple\",\"papaya\",\"banana\"]\n",
    "for i in fruit_list:\n",
    "    if i == \"apple\":\n",
    "        print(\"The fruit is apple\")\n",
    "        continue\n",
    "    print(i)"
   ]
  },
  {
   "cell_type": "code",
   "execution_count": null,
   "id": "dcd3baff-43dc-4fd0-b9b0-54d63aa6c144",
   "metadata": {},
   "outputs": [],
   "source": []
  },
  {
   "cell_type": "code",
   "execution_count": null,
   "id": "95ccf0ac-dbee-4a11-92fe-ab1b2f28894b",
   "metadata": {},
   "outputs": [],
   "source": []
  },
  {
   "cell_type": "code",
   "execution_count": null,
   "id": "edf4aec4-6108-4b08-b63d-7fd9a52c92c3",
   "metadata": {},
   "outputs": [],
   "source": []
  },
  {
   "cell_type": "code",
   "execution_count": null,
   "id": "89c6683a-e628-49d2-a37d-d3426f6cc76b",
   "metadata": {},
   "outputs": [],
   "source": []
  },
  {
   "cell_type": "code",
   "execution_count": null,
   "id": "6e9305cc-2de2-466a-915f-1a68bbb20cb5",
   "metadata": {},
   "outputs": [],
   "source": []
  },
  {
   "cell_type": "code",
   "execution_count": null,
   "id": "e6773ab1-098f-4fca-ac61-04229eab079e",
   "metadata": {},
   "outputs": [],
   "source": []
  },
  {
   "cell_type": "code",
   "execution_count": null,
   "id": "8bfc72a7-98e7-4e78-80d5-3436b6d793cc",
   "metadata": {},
   "outputs": [],
   "source": []
  },
  {
   "cell_type": "code",
   "execution_count": null,
   "id": "c846285e-4f35-4fd5-9528-9f0c6316d4c1",
   "metadata": {},
   "outputs": [],
   "source": []
  },
  {
   "cell_type": "code",
   "execution_count": null,
   "id": "7718733d-2eaa-4429-a4fa-402b20c5bf11",
   "metadata": {},
   "outputs": [],
   "source": []
  }
 ],
 "metadata": {
  "kernelspec": {
   "display_name": "Python 3 (ipykernel)",
   "language": "python",
   "name": "python3"
  },
  "language_info": {
   "codemirror_mode": {
    "name": "ipython",
    "version": 3
   },
   "file_extension": ".py",
   "mimetype": "text/x-python",
   "name": "python",
   "nbconvert_exporter": "python",
   "pygments_lexer": "ipython3",
   "version": "3.10.8"
  }
 },
 "nbformat": 4,
 "nbformat_minor": 5
}
