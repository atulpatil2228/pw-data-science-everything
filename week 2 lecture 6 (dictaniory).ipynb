{
 "cells": [
  {
   "cell_type": "code",
   "execution_count": 1,
   "id": "8708d8b1-3003-4a3b-8052-31dce5c06feb",
   "metadata": {},
   "outputs": [],
   "source": [
    "d = {}"
   ]
  },
  {
   "cell_type": "code",
   "execution_count": 2,
   "id": "0317a757-f54b-4307-be9b-c770cde76ca8",
   "metadata": {},
   "outputs": [
    {
     "data": {
      "text/plain": [
       "dict"
      ]
     },
     "execution_count": 2,
     "metadata": {},
     "output_type": "execute_result"
    }
   ],
   "source": [
    "type (d)"
   ]
  },
  {
   "cell_type": "code",
   "execution_count": 3,
   "id": "c084f602-f474-4fd6-ba7e-fa7a0bedf2d1",
   "metadata": {},
   "outputs": [],
   "source": [
    "d1 = {\"name\" : \"atul_patil\",\"emai_id\":\"atulpatil45678@gmail.com\", \"number\":7676294018} "
   ]
  },
  {
   "cell_type": "code",
   "execution_count": 4,
   "id": "4c1ea5a3-647d-4474-a386-9111ae24bc13",
   "metadata": {},
   "outputs": [
    {
     "data": {
      "text/plain": [
       "dict"
      ]
     },
     "execution_count": 4,
     "metadata": {},
     "output_type": "execute_result"
    }
   ],
   "source": [
    "type(d1)"
   ]
  },
  {
   "cell_type": "code",
   "execution_count": 5,
   "id": "b18ceb26-390c-426c-a97f-6708c37cf9db",
   "metadata": {},
   "outputs": [
    {
     "data": {
      "text/plain": [
       "{'name': 'atul_patil',\n",
       " 'emai_id': 'atulpatil45678@gmail.com',\n",
       " 'number': 7676294018}"
      ]
     },
     "execution_count": 5,
     "metadata": {},
     "output_type": "execute_result"
    }
   ],
   "source": [
    "d1"
   ]
  },
  {
   "cell_type": "code",
   "execution_count": 6,
   "id": "20a09c27-8202-4439-bd31-dad54b25dbd3",
   "metadata": {},
   "outputs": [],
   "source": [
    "d2 = {\"name\": \"atul\", \"name\": \"atul_patil\"}"
   ]
  },
  {
   "cell_type": "code",
   "execution_count": 7,
   "id": "51e6fcc8-4876-49b0-a7fd-67036f55fd13",
   "metadata": {},
   "outputs": [
    {
     "data": {
      "text/plain": [
       "{'name': 'atul_patil'}"
      ]
     },
     "execution_count": 7,
     "metadata": {},
     "output_type": "execute_result"
    }
   ],
   "source": [
    "d2"
   ]
  },
  {
   "cell_type": "code",
   "execution_count": 8,
   "id": "4a9495bc-8e00-4517-8e38-3ad1da085d1b",
   "metadata": {},
   "outputs": [],
   "source": [
    "d3 = {234567 : \"abc\"}"
   ]
  },
  {
   "cell_type": "code",
   "execution_count": 9,
   "id": "b30956a6-d83f-4cf1-b441-7abb1b7ebc9b",
   "metadata": {},
   "outputs": [
    {
     "data": {
      "text/plain": [
       "{234567: 'abc'}"
      ]
     },
     "execution_count": 9,
     "metadata": {},
     "output_type": "execute_result"
    }
   ],
   "source": [
    "d3"
   ]
  },
  {
   "cell_type": "code",
   "execution_count": 10,
   "id": "b94d5d6b-1c91-4e46-a460-0c279fa4b92c",
   "metadata": {},
   "outputs": [],
   "source": [
    "d4 = {23.345 : \"abs\"}"
   ]
  },
  {
   "cell_type": "code",
   "execution_count": 11,
   "id": "3de98b61-1a3d-496c-b6b9-d8434b0e1f1c",
   "metadata": {},
   "outputs": [
    {
     "data": {
      "text/plain": [
       "{23.345: 'abs'}"
      ]
     },
     "execution_count": 11,
     "metadata": {},
     "output_type": "execute_result"
    }
   ],
   "source": [
    "d4\n"
   ]
  },
  {
   "cell_type": "code",
   "execution_count": 12,
   "id": "f5c0fe39-8f8a-4e55-b43f-c2b9e5713192",
   "metadata": {},
   "outputs": [],
   "source": [
    "d5 = {True : \"abc\"}"
   ]
  },
  {
   "cell_type": "code",
   "execution_count": 13,
   "id": "deaf6638-af9c-4cdd-b71a-50ecc629826f",
   "metadata": {},
   "outputs": [
    {
     "data": {
      "text/plain": [
       "{True: 'abc'}"
      ]
     },
     "execution_count": 13,
     "metadata": {},
     "output_type": "execute_result"
    }
   ],
   "source": [
    "d5"
   ]
  },
  {
   "cell_type": "code",
   "execution_count": 16,
   "id": "6666dfda-e914-460b-95f5-dd4deee72d49",
   "metadata": {},
   "outputs": [
    {
     "ename": "SyntaxError",
     "evalue": "incomplete input (3218231181.py, line 1)",
     "output_type": "error",
     "traceback": [
      "\u001b[0;36m  Cell \u001b[0;32mIn[16], line 1\u001b[0;36m\u001b[0m\n\u001b[0;31m    d6 = {#:\"abc\"}\u001b[0m\n\u001b[0m                  ^\u001b[0m\n\u001b[0;31mSyntaxError\u001b[0m\u001b[0;31m:\u001b[0m incomplete input\n"
     ]
    }
   ],
   "source": [
    "d6 = {#:\"abc\"}"
   ]
  },
  {
   "cell_type": "code",
   "execution_count": 17,
   "id": "6b6355c4-5208-4d28-b101-c6de01938b1d",
   "metadata": {},
   "outputs": [
    {
     "ename": "SyntaxError",
     "evalue": "invalid syntax (630726308.py, line 1)",
     "output_type": "error",
     "traceback": [
      "\u001b[0;36m  Cell \u001b[0;32mIn[17], line 1\u001b[0;36m\u001b[0m\n\u001b[0;31m    d7 = {@ : \"abc\"}\u001b[0m\n\u001b[0m          ^\u001b[0m\n\u001b[0;31mSyntaxError\u001b[0m\u001b[0;31m:\u001b[0m invalid syntax\n"
     ]
    }
   ],
   "source": [
    "d7 = {@ : \"abc\"}"
   ]
  },
  {
   "cell_type": "markdown",
   "id": "71dd4716-4606-48b7-9904-c53139ca9922",
   "metadata": {},
   "source": [
    "## conclusion : i wont be able to take special character but in case if u take in dpecial quote "
   ]
  },
  {
   "cell_type": "code",
   "execution_count": 18,
   "id": "e6298e29-48da-40e1-bb82-0d10989856ca",
   "metadata": {},
   "outputs": [
    {
     "ename": "TypeError",
     "evalue": "unhashable type: 'list'",
     "output_type": "error",
     "traceback": [
      "\u001b[0;31m---------------------------------------------------------------------------\u001b[0m",
      "\u001b[0;31mTypeError\u001b[0m                                 Traceback (most recent call last)",
      "Cell \u001b[0;32mIn[18], line 1\u001b[0m\n\u001b[0;32m----> 1\u001b[0m d8 \u001b[38;5;241m=\u001b[39m {[\u001b[38;5;241m1\u001b[39m,\u001b[38;5;241m2\u001b[39m,\u001b[38;5;241m34\u001b[39m] : \u001b[38;5;124m\"\u001b[39m\u001b[38;5;124mabc\u001b[39m\u001b[38;5;124m\"\u001b[39m}\n",
      "\u001b[0;31mTypeError\u001b[0m: unhashable type: 'list'"
     ]
    }
   ],
   "source": [
    "d8 = {[1,2,34] : \"abc\"}"
   ]
  },
  {
   "cell_type": "code",
   "execution_count": 19,
   "id": "b145e1b6-9f95-4350-be55-9bb697e54229",
   "metadata": {},
   "outputs": [],
   "source": [
    "d9  = {(1,2,3): \"abc\"}"
   ]
  },
  {
   "cell_type": "code",
   "execution_count": 20,
   "id": "cce65b5b-cba6-480a-b471-1521c9fe5671",
   "metadata": {},
   "outputs": [
    {
     "data": {
      "text/plain": [
       "{(1, 2, 3): 'abc'}"
      ]
     },
     "execution_count": 20,
     "metadata": {},
     "output_type": "execute_result"
    }
   ],
   "source": [
    "d9"
   ]
  },
  {
   "cell_type": "code",
   "execution_count": 21,
   "id": "7dfc4a14-607c-4e85-8bf4-e7630d981a83",
   "metadata": {},
   "outputs": [],
   "source": [
    "## in case of tuple , it is working as a key"
   ]
  },
  {
   "cell_type": "code",
   "execution_count": 22,
   "id": "02f7cfe6-c7c7-4d65-a2dc-949e89c33b2e",
   "metadata": {},
   "outputs": [
    {
     "ename": "TypeError",
     "evalue": "unhashable type: 'set'",
     "output_type": "error",
     "traceback": [
      "\u001b[0;31m---------------------------------------------------------------------------\u001b[0m",
      "\u001b[0;31mTypeError\u001b[0m                                 Traceback (most recent call last)",
      "Cell \u001b[0;32mIn[22], line 1\u001b[0m\n\u001b[0;32m----> 1\u001b[0m d10 \u001b[38;5;241m=\u001b[39m {{\u001b[38;5;241m1\u001b[39m,\u001b[38;5;241m2\u001b[39m,\u001b[38;5;241m3\u001b[39m,\u001b[38;5;241m4\u001b[39m} : \u001b[38;5;124m\"\u001b[39m\u001b[38;5;124matul_patil\u001b[39m\u001b[38;5;124m\"\u001b[39m}\n",
      "\u001b[0;31mTypeError\u001b[0m: unhashable type: 'set'"
     ]
    }
   ],
   "source": [
    "d10 = {{1,2,3,4} : \"atul_patil\"}"
   ]
  },
  {
   "cell_type": "code",
   "execution_count": 24,
   "id": "9459a0ef-1235-4879-824c-1dc1d685092d",
   "metadata": {},
   "outputs": [
    {
     "ename": "TypeError",
     "evalue": "unhashable type: 'dict'",
     "output_type": "error",
     "traceback": [
      "\u001b[0;31m---------------------------------------------------------------------------\u001b[0m",
      "\u001b[0;31mTypeError\u001b[0m                                 Traceback (most recent call last)",
      "Cell \u001b[0;32mIn[24], line 1\u001b[0m\n\u001b[0;32m----> 1\u001b[0m d11  : {{\u001b[38;5;124m\"\u001b[39m\u001b[38;5;124matul_patil\u001b[39m\u001b[38;5;124m\"\u001b[39m:\u001b[38;5;241m28\u001b[39m} : \u001b[38;5;124m\"\u001b[39m\u001b[38;5;124mabc\u001b[39m\u001b[38;5;124m\"\u001b[39m}\n",
      "\u001b[0;31mTypeError\u001b[0m: unhashable type: 'dict'"
     ]
    }
   ],
   "source": [
    "d11  : {{\"atul_patil\":28} : \"abc\"}"
   ]
  },
  {
   "cell_type": "code",
   "execution_count": 25,
   "id": "ba195b76-1989-4527-8038-65ae6707828e",
   "metadata": {},
   "outputs": [],
   "source": [
    "d12 = {\"course_name\": [\"data science master\",\"webdev\",\"java with dsa with system and design\"]}"
   ]
  },
  {
   "cell_type": "code",
   "execution_count": 26,
   "id": "67172ba8-820e-4c5d-8fb2-10c3b1278c4e",
   "metadata": {},
   "outputs": [
    {
     "data": {
      "text/plain": [
       "{'course_name': ['data science master',\n",
       "  'webdev',\n",
       "  'java with dsa with system and design']}"
      ]
     },
     "execution_count": 26,
     "metadata": {},
     "output_type": "execute_result"
    }
   ],
   "source": [
    "d12"
   ]
  },
  {
   "cell_type": "code",
   "execution_count": 27,
   "id": "a1c2337b-ab3a-4daa-8764-3cfa39cee815",
   "metadata": {},
   "outputs": [],
   "source": [
    "## one single key with different values "
   ]
  },
  {
   "cell_type": "code",
   "execution_count": 28,
   "id": "30c6289d-b5b0-4b0b-b673-b0ebac4554da",
   "metadata": {},
   "outputs": [],
   "source": [
    "d13 = {\"key\":(1,2,3,4,5)}"
   ]
  },
  {
   "cell_type": "code",
   "execution_count": 29,
   "id": "84584e17-b3a4-462e-891e-be5f3a10fa96",
   "metadata": {},
   "outputs": [
    {
     "data": {
      "text/plain": [
       "{'key': (1, 2, 3, 4, 5)}"
      ]
     },
     "execution_count": 29,
     "metadata": {},
     "output_type": "execute_result"
    }
   ],
   "source": [
    "d13"
   ]
  },
  {
   "cell_type": "code",
   "execution_count": 35,
   "id": "1b467ba3-f1d4-4969-bdfe-19de8269cecd",
   "metadata": {},
   "outputs": [],
   "source": [
    "d14 : {\"key\":{1,2,3,4,5}}"
   ]
  },
  {
   "cell_type": "code",
   "execution_count": 8,
   "id": "2bac42a7-6f8f-4c6e-b396-a0260824e2e0",
   "metadata": {},
   "outputs": [],
   "source": [
    "d15 = {\"key\":{\"name\" : \"atul_patil\",\"class\": \"data science masters\"}}"
   ]
  },
  {
   "cell_type": "code",
   "execution_count": 40,
   "id": "ca634452-e115-4958-bf22-f6d73d3fd9d7",
   "metadata": {},
   "outputs": [
    {
     "data": {
      "text/plain": [
       "{'key': {'name': 'atul_patil', 'class': 'data science masters'}}"
      ]
     },
     "execution_count": 40,
     "metadata": {},
     "output_type": "execute_result"
    }
   ],
   "source": [
    "d15"
   ]
  },
  {
   "cell_type": "code",
   "execution_count": 41,
   "id": "fbebb9a9-77b7-4a7f-9f2c-b41ebbc59e81",
   "metadata": {},
   "outputs": [],
   "source": [
    "## nested dictationary"
   ]
  },
  {
   "cell_type": "code",
   "execution_count": 1,
   "id": "e02d6133-6bcf-4537-b901-0456832c7013",
   "metadata": {},
   "outputs": [],
   "source": [
    "d16 = {\"batch_name\" : [\"data science masters\",\"web dev\",\"java with dsa\"] ,\"start_date\" : (28,14,21), \"mentor_name\": {\"pratik_prason\",\"atul_patil\",\"prabhakar_patil\",\"kusum_patil\",\"savitha_patil\"}}"
   ]
  },
  {
   "cell_type": "code",
   "execution_count": null,
   "id": "c434fb80-e889-4f1c-a7d0-9ba0758386ce",
   "metadata": {},
   "outputs": [],
   "source": []
  },
  {
   "cell_type": "code",
   "execution_count": 2,
   "id": "b7c9417d-1c3a-40f9-a598-90e3b74d2c32",
   "metadata": {},
   "outputs": [
    {
     "data": {
      "text/plain": [
       "{'batch_name': ['data science masters', 'web dev', 'java with dsa'],\n",
       " 'start_date': (28, 14, 21),\n",
       " 'mentor_name': {'atul_patil',\n",
       "  'kusum_patil',\n",
       "  'prabhakar_patil',\n",
       "  'pratik_prason',\n",
       "  'savitha_patil'}}"
      ]
     },
     "execution_count": 2,
     "metadata": {},
     "output_type": "execute_result"
    }
   ],
   "source": [
    "d16"
   ]
  },
  {
   "cell_type": "code",
   "execution_count": 23,
   "id": "eb795bb4-ed7d-4092-98f0-d7c31fa60e5f",
   "metadata": {},
   "outputs": [],
   "source": [
    "d16[\"timing\"] = (8,8,8)"
   ]
  },
  {
   "cell_type": "code",
   "execution_count": 8,
   "id": "09b8dd3a-ae5f-4f99-8e22-7c1feb3fbfe2",
   "metadata": {},
   "outputs": [
    {
     "data": {
      "text/plain": [
       "{'batch_name': ['data science masters', 'web dev', 'java with dsa'],\n",
       " 'start_date': (28, 14, 21),\n",
       " 'mentor_name': {'atul_patil',\n",
       "  'kusum_patil',\n",
       "  'prabhakar_patil',\n",
       "  'pratik_prason',\n",
       "  'savitha_patil'},\n",
       " 'timing': (8, 8, 8)}"
      ]
     },
     "execution_count": 8,
     "metadata": {},
     "output_type": "execute_result"
    }
   ],
   "source": [
    "d16"
   ]
  },
  {
   "cell_type": "code",
   "execution_count": 9,
   "id": "ec6c1519-788e-4933-93c0-50d525b7454d",
   "metadata": {},
   "outputs": [
    {
     "data": {
      "text/plain": [
       "['data science masters', 'web dev', 'java with dsa']"
      ]
     },
     "execution_count": 9,
     "metadata": {},
     "output_type": "execute_result"
    }
   ],
   "source": [
    "d16['batch_name']"
   ]
  },
  {
   "cell_type": "code",
   "execution_count": 12,
   "id": "7e324c54-975e-4616-a321-244e219a6715",
   "metadata": {},
   "outputs": [
    {
     "data": {
      "text/plain": [
       "{'atul_patil',\n",
       " 'kusum_patil',\n",
       " 'prabhakar_patil',\n",
       " 'pratik_prason',\n",
       " 'savitha_patil'}"
      ]
     },
     "execution_count": 12,
     "metadata": {},
     "output_type": "execute_result"
    }
   ],
   "source": [
    "d16 ['mentor_name']"
   ]
  },
  {
   "cell_type": "code",
   "execution_count": 14,
   "id": "8124c5b9-56dc-488d-b7a2-402edc50b8ba",
   "metadata": {},
   "outputs": [
    {
     "data": {
      "text/plain": [
       "set"
      ]
     },
     "execution_count": 14,
     "metadata": {},
     "output_type": "execute_result"
    }
   ],
   "source": [
    "type(d16 ['mentor_name'])"
   ]
  },
  {
   "cell_type": "code",
   "execution_count": 15,
   "id": "b23868fd-ce54-416c-a2a2-64795b3ccf08",
   "metadata": {},
   "outputs": [
    {
     "ename": "KeyError",
     "evalue": "'key'",
     "output_type": "error",
     "traceback": [
      "\u001b[0;31m---------------------------------------------------------------------------\u001b[0m",
      "\u001b[0;31mKeyError\u001b[0m                                  Traceback (most recent call last)",
      "Cell \u001b[0;32mIn[15], line 1\u001b[0m\n\u001b[0;32m----> 1\u001b[0m \u001b[43md16\u001b[49m\u001b[43m \u001b[49m\u001b[43m[\u001b[49m\u001b[38;5;124;43m\"\u001b[39;49m\u001b[38;5;124;43mkey\u001b[39;49m\u001b[38;5;124;43m\"\u001b[39;49m\u001b[43m]\u001b[49m\n",
      "\u001b[0;31mKeyError\u001b[0m: 'key'"
     ]
    }
   ],
   "source": [
    "d16 [\"key\"]"
   ]
  },
  {
   "cell_type": "code",
   "execution_count": 4,
   "id": "31c001cb-ff35-471e-b457-4be196373658",
   "metadata": {},
   "outputs": [],
   "source": [
    "d16[\"name\"] = \"atul_prabhakr_patil\""
   ]
  },
  {
   "cell_type": "code",
   "execution_count": 17,
   "id": "d00269c5-6fb4-48ba-8730-a18f96d8fd27",
   "metadata": {},
   "outputs": [
    {
     "data": {
      "text/plain": [
       "{'batch_name': ['data science masters', 'web dev', 'java with dsa'],\n",
       " 'start_date': (28, 14, 21),\n",
       " 'mentor_name': {'atul_patil',\n",
       "  'kusum_patil',\n",
       "  'prabhakar_patil',\n",
       "  'pratik_prason',\n",
       "  'savitha_patil'},\n",
       " 'timing': (8, 8, 8),\n",
       " 'name': 'atul_prabhakr_patil'}"
      ]
     },
     "execution_count": 17,
     "metadata": {},
     "output_type": "execute_result"
    }
   ],
   "source": [
    "d16"
   ]
  },
  {
   "cell_type": "code",
   "execution_count": 5,
   "id": "7040b2b2-0b54-4adc-ae18-baedb4ae6500",
   "metadata": {},
   "outputs": [
    {
     "data": {
      "text/plain": [
       "'atul_prabhakr_patil'"
      ]
     },
     "execution_count": 5,
     "metadata": {},
     "output_type": "execute_result"
    }
   ],
   "source": [
    "d16['name']"
   ]
  },
  {
   "cell_type": "code",
   "execution_count": 6,
   "id": "df1bccf3-6821-4168-a885-ed395edefa2d",
   "metadata": {},
   "outputs": [
    {
     "data": {
      "text/plain": [
       "'ATUL_PRABHAKR_PATIL'"
      ]
     },
     "execution_count": 6,
     "metadata": {},
     "output_type": "execute_result"
    }
   ],
   "source": [
    "d16['name'].upper()"
   ]
  },
  {
   "cell_type": "code",
   "execution_count": 7,
   "id": "ca948f3a-9475-447c-8359-0e4ff05ed091",
   "metadata": {},
   "outputs": [
    {
     "data": {
      "text/plain": [
       "'atul_prabhakr_patil'"
      ]
     },
     "execution_count": 7,
     "metadata": {},
     "output_type": "execute_result"
    }
   ],
   "source": [
    "d16['name'].lower()"
   ]
  },
  {
   "cell_type": "code",
   "execution_count": 9,
   "id": "58671448-43cd-4334-bdd3-9b47acfe0910",
   "metadata": {},
   "outputs": [
    {
     "data": {
      "text/plain": [
       "{'key': {'name': 'atul_patil', 'class': 'data science masters'}}"
      ]
     },
     "execution_count": 9,
     "metadata": {},
     "output_type": "execute_result"
    }
   ],
   "source": [
    "d15"
   ]
  },
  {
   "cell_type": "code",
   "execution_count": 10,
   "id": "5c0b71bf-ba7c-47f9-98d8-7d9dbd2ea2bc",
   "metadata": {},
   "outputs": [
    {
     "data": {
      "text/plain": [
       "{'name': 'atul_patil', 'class': 'data science masters'}"
      ]
     },
     "execution_count": 10,
     "metadata": {},
     "output_type": "execute_result"
    }
   ],
   "source": [
    "d15['key']"
   ]
  },
  {
   "cell_type": "code",
   "execution_count": 11,
   "id": "15f36810-5c5f-4ec1-9609-d9d1d0d88615",
   "metadata": {},
   "outputs": [
    {
     "data": {
      "text/plain": [
       "dict"
      ]
     },
     "execution_count": 11,
     "metadata": {},
     "output_type": "execute_result"
    }
   ],
   "source": [
    "type(d15['key'])"
   ]
  },
  {
   "cell_type": "code",
   "execution_count": 12,
   "id": "53f6c1cf-340d-43d4-a17d-f2ca579c0072",
   "metadata": {},
   "outputs": [
    {
     "data": {
      "text/plain": [
       "'data science masters'"
      ]
     },
     "execution_count": 12,
     "metadata": {},
     "output_type": "execute_result"
    }
   ],
   "source": [
    "d15['key']['class']"
   ]
  },
  {
   "cell_type": "code",
   "execution_count": 13,
   "id": "2668a58b-cd00-4acb-ab59-4c02a3b23a50",
   "metadata": {},
   "outputs": [
    {
     "data": {
      "text/plain": [
       "{'key': {'name': 'atul_patil', 'class': 'data science masters'}}"
      ]
     },
     "execution_count": 13,
     "metadata": {},
     "output_type": "execute_result"
    }
   ],
   "source": [
    "d15"
   ]
  },
  {
   "cell_type": "code",
   "execution_count": 15,
   "id": "8dfaa975-45d6-4031-82a4-0eb612eb21ff",
   "metadata": {},
   "outputs": [],
   "source": [
    "d15[\"key1\"] = \"abc\""
   ]
  },
  {
   "cell_type": "code",
   "execution_count": 16,
   "id": "1944cea5-abbc-486f-9511-c38c05cb9fbd",
   "metadata": {},
   "outputs": [
    {
     "data": {
      "text/plain": [
       "{'key': {'name': 'atul_patil', 'class': 'data science masters'}, 'key1': 'abc'}"
      ]
     },
     "execution_count": 16,
     "metadata": {},
     "output_type": "execute_result"
    }
   ],
   "source": [
    "d15"
   ]
  },
  {
   "cell_type": "code",
   "execution_count": 17,
   "id": "abdc56ac-abdf-413e-a716-fd787b0109e7",
   "metadata": {},
   "outputs": [],
   "source": [
    "del d15 [\"key1\"]"
   ]
  },
  {
   "cell_type": "code",
   "execution_count": 18,
   "id": "29e94401-460f-4a55-bf48-40a2fd7aaf62",
   "metadata": {},
   "outputs": [
    {
     "data": {
      "text/plain": [
       "{'key': {'name': 'atul_patil', 'class': 'data science masters'}}"
      ]
     },
     "execution_count": 18,
     "metadata": {},
     "output_type": "execute_result"
    }
   ],
   "source": [
    "d15"
   ]
  },
  {
   "cell_type": "code",
   "execution_count": 19,
   "id": "8e707394-b915-4a9c-8e19-c1900cde7652",
   "metadata": {},
   "outputs": [],
   "source": [
    "d15.clear()"
   ]
  },
  {
   "cell_type": "code",
   "execution_count": 20,
   "id": "112109f4-cb41-4b3e-8a30-1d0bdb6a642f",
   "metadata": {},
   "outputs": [
    {
     "data": {
      "text/plain": [
       "{}"
      ]
     },
     "execution_count": 20,
     "metadata": {},
     "output_type": "execute_result"
    }
   ],
   "source": [
    "d15"
   ]
  },
  {
   "cell_type": "code",
   "execution_count": 24,
   "id": "94f1a449-1650-49fd-88fb-a000f2041765",
   "metadata": {},
   "outputs": [
    {
     "data": {
      "text/plain": [
       "5"
      ]
     },
     "execution_count": 24,
     "metadata": {},
     "output_type": "execute_result"
    }
   ],
   "source": [
    "len(d16)"
   ]
  },
  {
   "cell_type": "code",
   "execution_count": 25,
   "id": "622732d2-11a9-499a-8ec8-9f5eaa79e57f",
   "metadata": {},
   "outputs": [
    {
     "data": {
      "text/plain": [
       "{'batch_name': ['data science masters', 'web dev', 'java with dsa'],\n",
       " 'start_date': (28, 14, 21),\n",
       " 'mentor_name': {'atul_patil',\n",
       "  'kusum_patil',\n",
       "  'prabhakar_patil',\n",
       "  'pratik_prason',\n",
       "  'savitha_patil'},\n",
       " 'name': 'atul_prabhakr_patil',\n",
       " 'timing': (8, 8, 8)}"
      ]
     },
     "execution_count": 25,
     "metadata": {},
     "output_type": "execute_result"
    }
   ],
   "source": [
    "d16"
   ]
  },
  {
   "cell_type": "code",
   "execution_count": 26,
   "id": "9fcdf67e-9801-441c-a81d-f67a1a4c5d64",
   "metadata": {},
   "outputs": [
    {
     "data": {
      "text/plain": [
       "dict_keys(['batch_name', 'start_date', 'mentor_name', 'name', 'timing'])"
      ]
     },
     "execution_count": 26,
     "metadata": {},
     "output_type": "execute_result"
    }
   ],
   "source": [
    "d16.keys()"
   ]
  },
  {
   "cell_type": "code",
   "execution_count": 27,
   "id": "ca5ec7b5-0218-4244-b7d2-d7cb1ad429bb",
   "metadata": {},
   "outputs": [
    {
     "data": {
      "text/plain": [
       "dict_values([['data science masters', 'web dev', 'java with dsa'], (28, 14, 21), {'savitha_patil', 'atul_patil', 'kusum_patil', 'pratik_prason', 'prabhakar_patil'}, 'atul_prabhakr_patil', (8, 8, 8)])"
      ]
     },
     "execution_count": 27,
     "metadata": {},
     "output_type": "execute_result"
    }
   ],
   "source": [
    "d16.values()"
   ]
  },
  {
   "cell_type": "code",
   "execution_count": 28,
   "id": "e0327191-2b08-47b2-908f-82fb6754c6ca",
   "metadata": {},
   "outputs": [
    {
     "data": {
      "text/plain": [
       "[['data science masters', 'web dev', 'java with dsa'],\n",
       " (28, 14, 21),\n",
       " {'atul_patil',\n",
       "  'kusum_patil',\n",
       "  'prabhakar_patil',\n",
       "  'pratik_prason',\n",
       "  'savitha_patil'},\n",
       " 'atul_prabhakr_patil',\n",
       " (8, 8, 8)]"
      ]
     },
     "execution_count": 28,
     "metadata": {},
     "output_type": "execute_result"
    }
   ],
   "source": [
    "list(d16.values())"
   ]
  },
  {
   "cell_type": "code",
   "execution_count": 29,
   "id": "0f4e692d-c755-4203-8074-16603ba8dd56",
   "metadata": {},
   "outputs": [
    {
     "data": {
      "text/plain": [
       "['batch_name', 'start_date', 'mentor_name', 'name', 'timing']"
      ]
     },
     "execution_count": 29,
     "metadata": {},
     "output_type": "execute_result"
    }
   ],
   "source": [
    "list(d16.keys())"
   ]
  },
  {
   "cell_type": "code",
   "execution_count": 30,
   "id": "662c06a2-6745-460d-9068-293fda750b09",
   "metadata": {},
   "outputs": [
    {
     "data": {
      "text/plain": [
       "dict_items([('batch_name', ['data science masters', 'web dev', 'java with dsa']), ('start_date', (28, 14, 21)), ('mentor_name', {'savitha_patil', 'atul_patil', 'kusum_patil', 'pratik_prason', 'prabhakar_patil'}), ('name', 'atul_prabhakr_patil'), ('timing', (8, 8, 8))])"
      ]
     },
     "execution_count": 30,
     "metadata": {},
     "output_type": "execute_result"
    }
   ],
   "source": [
    "d16.items()"
   ]
  },
  {
   "cell_type": "code",
   "execution_count": 31,
   "id": "bca60407-3204-4612-a3cd-2f81d3e34bd4",
   "metadata": {},
   "outputs": [
    {
     "data": {
      "text/plain": [
       "[('batch_name', ['data science masters', 'web dev', 'java with dsa']),\n",
       " ('start_date', (28, 14, 21)),\n",
       " ('mentor_name',\n",
       "  {'atul_patil',\n",
       "   'kusum_patil',\n",
       "   'prabhakar_patil',\n",
       "   'pratik_prason',\n",
       "   'savitha_patil'}),\n",
       " ('name', 'atul_prabhakr_patil'),\n",
       " ('timing', (8, 8, 8))]"
      ]
     },
     "execution_count": 31,
     "metadata": {},
     "output_type": "execute_result"
    }
   ],
   "source": [
    "list(d16.items())"
   ]
  },
  {
   "cell_type": "code",
   "execution_count": 32,
   "id": "596e8281-3fbd-43f7-aa16-55c154a60707",
   "metadata": {},
   "outputs": [
    {
     "data": {
      "text/plain": [
       "{'batch_name': ['data science masters', 'web dev', 'java with dsa'],\n",
       " 'start_date': (28, 14, 21),\n",
       " 'mentor_name': {'atul_patil',\n",
       "  'kusum_patil',\n",
       "  'prabhakar_patil',\n",
       "  'pratik_prason',\n",
       "  'savitha_patil'},\n",
       " 'name': 'atul_prabhakr_patil',\n",
       " 'timing': (8, 8, 8)}"
      ]
     },
     "execution_count": 32,
     "metadata": {},
     "output_type": "execute_result"
    }
   ],
   "source": [
    "d16"
   ]
  },
  {
   "cell_type": "code",
   "execution_count": 33,
   "id": "7a58406c-3a23-4efd-99f6-7a8fd6b5483d",
   "metadata": {},
   "outputs": [],
   "source": [
    "d17 = d16.copy()"
   ]
  },
  {
   "cell_type": "code",
   "execution_count": 34,
   "id": "28ec2cb9-d4cc-4aa2-a86a-1f0a571e0af1",
   "metadata": {},
   "outputs": [
    {
     "data": {
      "text/plain": [
       "{'batch_name': ['data science masters', 'web dev', 'java with dsa'],\n",
       " 'start_date': (28, 14, 21),\n",
       " 'mentor_name': {'atul_patil',\n",
       "  'kusum_patil',\n",
       "  'prabhakar_patil',\n",
       "  'pratik_prason',\n",
       "  'savitha_patil'},\n",
       " 'name': 'atul_prabhakr_patil',\n",
       " 'timing': (8, 8, 8)}"
      ]
     },
     "execution_count": 34,
     "metadata": {},
     "output_type": "execute_result"
    }
   ],
   "source": [
    "d17"
   ]
  },
  {
   "cell_type": "code",
   "execution_count": 35,
   "id": "9284b29e-08de-437b-b2c9-e9dd8830e266",
   "metadata": {},
   "outputs": [],
   "source": [
    "d18 = d16"
   ]
  },
  {
   "cell_type": "code",
   "execution_count": 36,
   "id": "2449e5f9-2f84-46c6-b99e-ea853ef1f518",
   "metadata": {},
   "outputs": [
    {
     "data": {
      "text/plain": [
       "{'batch_name': ['data science masters', 'web dev', 'java with dsa'],\n",
       " 'start_date': (28, 14, 21),\n",
       " 'mentor_name': {'atul_patil',\n",
       "  'kusum_patil',\n",
       "  'prabhakar_patil',\n",
       "  'pratik_prason',\n",
       "  'savitha_patil'},\n",
       " 'name': 'atul_prabhakr_patil',\n",
       " 'timing': (8, 8, 8)}"
      ]
     },
     "execution_count": 36,
     "metadata": {},
     "output_type": "execute_result"
    }
   ],
   "source": [
    "d18"
   ]
  },
  {
   "cell_type": "code",
   "execution_count": 37,
   "id": "ce7a1677-1599-4ce9-8c83-503dcc3c6448",
   "metadata": {},
   "outputs": [],
   "source": [
    "del d16[\"name\"]"
   ]
  },
  {
   "cell_type": "code",
   "execution_count": 38,
   "id": "6cae4682-e2a6-4ce6-9fa3-047882c93426",
   "metadata": {},
   "outputs": [
    {
     "data": {
      "text/plain": [
       "{'batch_name': ['data science masters', 'web dev', 'java with dsa'],\n",
       " 'start_date': (28, 14, 21),\n",
       " 'mentor_name': {'atul_patil',\n",
       "  'kusum_patil',\n",
       "  'prabhakar_patil',\n",
       "  'pratik_prason',\n",
       "  'savitha_patil'},\n",
       " 'timing': (8, 8, 8)}"
      ]
     },
     "execution_count": 38,
     "metadata": {},
     "output_type": "execute_result"
    }
   ],
   "source": [
    "d16"
   ]
  },
  {
   "cell_type": "code",
   "execution_count": null,
   "id": "80fa9bb2-f307-443f-b1bc-95eebab8133d",
   "metadata": {},
   "outputs": [],
   "source": []
  },
  {
   "cell_type": "code",
   "execution_count": null,
   "id": "b0e6b4d6-1d0c-4c3b-978f-2323119d1d3e",
   "metadata": {},
   "outputs": [],
   "source": []
  },
  {
   "cell_type": "code",
   "execution_count": null,
   "id": "47fc1f97-0bfc-45d8-bbae-67a0ad65077e",
   "metadata": {},
   "outputs": [],
   "source": []
  },
  {
   "cell_type": "code",
   "execution_count": null,
   "id": "5f6e0447-2983-456c-84eb-850a5ee31591",
   "metadata": {},
   "outputs": [],
   "source": []
  },
  {
   "cell_type": "code",
   "execution_count": null,
   "id": "e6303f5e-3a75-46b0-a55a-4ff5fae6e5b6",
   "metadata": {},
   "outputs": [],
   "source": []
  },
  {
   "cell_type": "code",
   "execution_count": null,
   "id": "fd866235-1843-4a98-80a0-cd7d7b8bdbba",
   "metadata": {},
   "outputs": [],
   "source": []
  },
  {
   "cell_type": "code",
   "execution_count": 39,
   "id": "59123708-a4bb-4614-97b0-d380fb77ad16",
   "metadata": {},
   "outputs": [
    {
     "data": {
      "text/plain": [
       "{'batch_name': ['data science masters', 'web dev', 'java with dsa'],\n",
       " 'start_date': (28, 14, 21),\n",
       " 'mentor_name': {'atul_patil',\n",
       "  'kusum_patil',\n",
       "  'prabhakar_patil',\n",
       "  'pratik_prason',\n",
       "  'savitha_patil'},\n",
       " 'name': 'atul_prabhakr_patil',\n",
       " 'timing': (8, 8, 8)}"
      ]
     },
     "execution_count": 39,
     "metadata": {},
     "output_type": "execute_result"
    }
   ],
   "source": [
    "d17"
   ]
  },
  {
   "cell_type": "code",
   "execution_count": 41,
   "id": "0c5b234f-d799-405d-8093-e71a0ad43560",
   "metadata": {},
   "outputs": [
    {
     "data": {
      "text/plain": [
       "{'batch_name': ['data science masters', 'web dev', 'java with dsa'],\n",
       " 'start_date': (28, 14, 21),\n",
       " 'mentor_name': {'atul_patil',\n",
       "  'kusum_patil',\n",
       "  'prabhakar_patil',\n",
       "  'pratik_prason',\n",
       "  'savitha_patil'},\n",
       " 'timing': (8, 8, 8)}"
      ]
     },
     "execution_count": 41,
     "metadata": {},
     "output_type": "execute_result"
    }
   ],
   "source": [
    "d18 ## name  has gone "
   ]
  },
  {
   "cell_type": "code",
   "execution_count": 42,
   "id": "4102fa89-2002-42ef-8e88-a3715a25381f",
   "metadata": {},
   "outputs": [
    {
     "data": {
      "text/plain": [
       "{'batch_name': ['data science masters', 'web dev', 'java with dsa'],\n",
       " 'start_date': (28, 14, 21),\n",
       " 'mentor_name': {'atul_patil',\n",
       "  'kusum_patil',\n",
       "  'prabhakar_patil',\n",
       "  'pratik_prason',\n",
       "  'savitha_patil'},\n",
       " 'timing': (8, 8, 8)}"
      ]
     },
     "execution_count": 42,
     "metadata": {},
     "output_type": "execute_result"
    }
   ],
   "source": [
    "d16"
   ]
  },
  {
   "cell_type": "code",
   "execution_count": 43,
   "id": "0337fba9-b0aa-4615-88d2-e1af60159fae",
   "metadata": {},
   "outputs": [
    {
     "ename": "TypeError",
     "evalue": "pop expected at least 1 argument, got 0",
     "output_type": "error",
     "traceback": [
      "\u001b[0;31m---------------------------------------------------------------------------\u001b[0m",
      "\u001b[0;31mTypeError\u001b[0m                                 Traceback (most recent call last)",
      "Cell \u001b[0;32mIn[43], line 1\u001b[0m\n\u001b[0;32m----> 1\u001b[0m \u001b[43md16\u001b[49m\u001b[38;5;241;43m.\u001b[39;49m\u001b[43mpop\u001b[49m\u001b[43m(\u001b[49m\u001b[43m)\u001b[49m\n",
      "\u001b[0;31mTypeError\u001b[0m: pop expected at least 1 argument, got 0"
     ]
    }
   ],
   "source": [
    "d16.pop()"
   ]
  },
  {
   "cell_type": "code",
   "execution_count": 44,
   "id": "148237ff-4c2a-4a9d-a7e0-5a542e84c32d",
   "metadata": {},
   "outputs": [
    {
     "data": {
      "text/plain": [
       "(8, 8, 8)"
      ]
     },
     "execution_count": 44,
     "metadata": {},
     "output_type": "execute_result"
    }
   ],
   "source": [
    "d16.pop(\"timing\")"
   ]
  },
  {
   "cell_type": "code",
   "execution_count": 45,
   "id": "2bf92041-66d7-4dad-87e9-3052121e1d39",
   "metadata": {},
   "outputs": [
    {
     "data": {
      "text/plain": [
       "{'batch_name': ['data science masters', 'web dev', 'java with dsa'],\n",
       " 'start_date': (28, 14, 21),\n",
       " 'mentor_name': {'atul_patil',\n",
       "  'kusum_patil',\n",
       "  'prabhakar_patil',\n",
       "  'pratik_prason',\n",
       "  'savitha_patil'}}"
      ]
     },
     "execution_count": 45,
     "metadata": {},
     "output_type": "execute_result"
    }
   ],
   "source": [
    "d16"
   ]
  },
  {
   "cell_type": "code",
   "execution_count": 46,
   "id": "7baa2850-90ae-47ea-8e04-9ef9ffac197d",
   "metadata": {},
   "outputs": [
    {
     "data": {
      "text/plain": [
       "{'atul_patil',\n",
       " 'kusum_patil',\n",
       " 'prabhakar_patil',\n",
       " 'pratik_prason',\n",
       " 'savitha_patil'}"
      ]
     },
     "execution_count": 46,
     "metadata": {},
     "output_type": "execute_result"
    }
   ],
   "source": [
    "d16.pop(\"mentor_name\")"
   ]
  },
  {
   "cell_type": "code",
   "execution_count": 47,
   "id": "6f80e78a-c7d0-40e6-8021-877b45dfa7a6",
   "metadata": {},
   "outputs": [
    {
     "data": {
      "text/plain": [
       "{'batch_name': ['data science masters', 'web dev', 'java with dsa'],\n",
       " 'start_date': (28, 14, 21)}"
      ]
     },
     "execution_count": 47,
     "metadata": {},
     "output_type": "execute_result"
    }
   ],
   "source": [
    "d16"
   ]
  },
  {
   "cell_type": "code",
   "execution_count": 52,
   "id": "f01a96d9-a387-43b7-a38c-2e851b9071fb",
   "metadata": {},
   "outputs": [
    {
     "data": {
      "text/plain": [
       "{1: ('a', 'b', 'c'), 2: ('a', 'b', 'c'), 3: ('a', 'b', 'c')}"
      ]
     },
     "execution_count": 52,
     "metadata": {},
     "output_type": "execute_result"
    }
   ],
   "source": [
    "d16.fromkeys((1,2,3),(\"a\",\"b\",\"c\"))"
   ]
  },
  {
   "cell_type": "code",
   "execution_count": 53,
   "id": "d1073b2f-8311-48d3-aa5a-c465db840417",
   "metadata": {},
   "outputs": [],
   "source": [
    "d19 = {\"key1\": \"value\", \"key2\" : \"value1\"}\n",
    "d20 = {\"key3\": \"value3\", \"key4\": \"value4\"}"
   ]
  },
  {
   "cell_type": "code",
   "execution_count": 54,
   "id": "27ae1fb5-ecd7-4c64-ab81-0c0d63f728fa",
   "metadata": {},
   "outputs": [
    {
     "data": {
      "text/plain": [
       "({'key1': 'value', 'key2': 'value1'}, {'key3': 'value3', 'key4': 'value4'})"
      ]
     },
     "execution_count": 54,
     "metadata": {},
     "output_type": "execute_result"
    }
   ],
   "source": [
    "(d19,d20)"
   ]
  },
  {
   "cell_type": "code",
   "execution_count": 55,
   "id": "e024ace9-903c-4389-921b-a96a1edd4517",
   "metadata": {},
   "outputs": [],
   "source": [
    "d19.update(d20)"
   ]
  },
  {
   "cell_type": "code",
   "execution_count": 56,
   "id": "3a5a0143-e5b3-4449-b38c-455fbb7fe211",
   "metadata": {},
   "outputs": [
    {
     "data": {
      "text/plain": [
       "{'key1': 'value', 'key2': 'value1', 'key3': 'value3', 'key4': 'value4'}"
      ]
     },
     "execution_count": 56,
     "metadata": {},
     "output_type": "execute_result"
    }
   ],
   "source": [
    "d19"
   ]
  },
  {
   "cell_type": "code",
   "execution_count": 57,
   "id": "d7db55fe-d273-47c6-a85f-29f3046b2870",
   "metadata": {},
   "outputs": [
    {
     "data": {
      "text/plain": [
       "{'key3': 'value3', 'key4': 'value4'}"
      ]
     },
     "execution_count": 57,
     "metadata": {},
     "output_type": "execute_result"
    }
   ],
   "source": [
    "d20"
   ]
  },
  {
   "cell_type": "code",
   "execution_count": 58,
   "id": "55db5396-5e3d-4d40-9841-2e1aba77a197",
   "metadata": {},
   "outputs": [],
   "source": [
    "d20.update(d19)"
   ]
  },
  {
   "cell_type": "code",
   "execution_count": 59,
   "id": "e9916fa3-292f-4033-b79b-b2b78c842116",
   "metadata": {},
   "outputs": [
    {
     "data": {
      "text/plain": [
       "{'key3': 'value3', 'key4': 'value4', 'key1': 'value', 'key2': 'value1'}"
      ]
     },
     "execution_count": 59,
     "metadata": {},
     "output_type": "execute_result"
    }
   ],
   "source": [
    "d20"
   ]
  },
  {
   "cell_type": "code",
   "execution_count": 60,
   "id": "1ade845d-1b07-45b1-8863-243e017334d9",
   "metadata": {},
   "outputs": [],
   "source": [
    "d20.get(\"anna\")"
   ]
  },
  {
   "cell_type": "code",
   "execution_count": 61,
   "id": "a45c1c9f-3f9a-41d8-9394-2b46b8aa9108",
   "metadata": {},
   "outputs": [
    {
     "data": {
      "text/plain": [
       "'value3'"
      ]
     },
     "execution_count": 61,
     "metadata": {},
     "output_type": "execute_result"
    }
   ],
   "source": [
    "d20.get(\"key3\")"
   ]
  },
  {
   "cell_type": "code",
   "execution_count": 62,
   "id": "d5ef722c-e291-4376-b3bb-b769ce269f31",
   "metadata": {},
   "outputs": [
    {
     "data": {
      "text/plain": [
       "'value3'"
      ]
     },
     "execution_count": 62,
     "metadata": {},
     "output_type": "execute_result"
    }
   ],
   "source": [
    "d20[\"key3\"]"
   ]
  },
  {
   "cell_type": "code",
   "execution_count": 63,
   "id": "c5516c72-f2fd-4451-a05c-b8f9f118ca59",
   "metadata": {},
   "outputs": [
    {
     "ename": "KeyError",
     "evalue": "'anna'",
     "output_type": "error",
     "traceback": [
      "\u001b[0;31m---------------------------------------------------------------------------\u001b[0m",
      "\u001b[0;31mKeyError\u001b[0m                                  Traceback (most recent call last)",
      "Cell \u001b[0;32mIn[63], line 1\u001b[0m\n\u001b[0;32m----> 1\u001b[0m \u001b[43md20\u001b[49m\u001b[43m[\u001b[49m\u001b[38;5;124;43m\"\u001b[39;49m\u001b[38;5;124;43manna\u001b[39;49m\u001b[38;5;124;43m\"\u001b[39;49m\u001b[43m]\u001b[49m\n",
      "\u001b[0;31mKeyError\u001b[0m: 'anna'"
     ]
    }
   ],
   "source": [
    "d20[\"anna\"]"
   ]
  },
  {
   "cell_type": "markdown",
   "id": "841f32f0-a559-4490-89ca-5cef4792b25c",
   "metadata": {},
   "source": [
    "dictionary comprehesion "
   ]
  },
  {
   "cell_type": "code",
   "execution_count": 72,
   "id": "236b0904-cb17-414b-bc73-fa9411378833",
   "metadata": {},
   "outputs": [
    {
     "data": {
      "text/plain": [
       "{1: 1, 2: 4, 3: 9, 4: 16, 5: 25, 6: 36, 7: 49, 8: 64, 9: 81, 10: 100}"
      ]
     },
     "execution_count": 72,
     "metadata": {},
     "output_type": "execute_result"
    }
   ],
   "source": [
    "{i : i**2 for i in range(1,11)}"
   ]
  },
  {
   "cell_type": "code",
   "execution_count": 68,
   "id": "c050ccb1-f6a4-4a77-837d-a3da64a97011",
   "metadata": {},
   "outputs": [
    {
     "data": {
      "text/plain": [
       "[1, 2, 3, 4, 5, 6, 7, 8, 9, 10]"
      ]
     },
     "execution_count": 68,
     "metadata": {},
     "output_type": "execute_result"
    }
   ],
   "source": [
    "list(range(1,11))"
   ]
  },
  {
   "cell_type": "code",
   "execution_count": 74,
   "id": "894f5178-4473-41dc-a87c-001181de40b0",
   "metadata": {},
   "outputs": [
    {
     "data": {
      "text/plain": [
       "{1: 11, 2: 12, 3: 13, 4: 14, 5: 15, 6: 16, 7: 17, 8: 18, 9: 19, 10: 20}"
      ]
     },
     "execution_count": 74,
     "metadata": {},
     "output_type": "execute_result"
    }
   ],
   "source": [
    "{i : i+10 for i in range(1,11)}"
   ]
  },
  {
   "cell_type": "code",
   "execution_count": null,
   "id": "62de8c5c-19de-44f7-8536-b0eee049ee7b",
   "metadata": {},
   "outputs": [],
   "source": []
  },
  {
   "cell_type": "code",
   "execution_count": 86,
   "id": "9144b902-082a-45a6-929b-22c0fdb7561e",
   "metadata": {},
   "outputs": [],
   "source": [
    "import math\n",
    "d21 = {i : math.log10(i) for i in range (1,11)}\n"
   ]
  },
  {
   "cell_type": "code",
   "execution_count": 83,
   "id": "04c478aa-07e7-4d76-b5a2-eaf6c9c86c3e",
   "metadata": {},
   "outputs": [
    {
     "data": {
      "text/plain": [
       "{'batch_name': ['data science masters', 'web dev', 'java with dsa'],\n",
       " 'start_date': (28, 14, 21)}"
      ]
     },
     "execution_count": 83,
     "metadata": {},
     "output_type": "execute_result"
    }
   ],
   "source": [
    "d16 "
   ]
  },
  {
   "cell_type": "code",
   "execution_count": 84,
   "id": "1f28501b-43b0-4789-a3ad-0b230bdc9ece",
   "metadata": {},
   "outputs": [
    {
     "data": {
      "text/plain": [
       "True"
      ]
     },
     "execution_count": 84,
     "metadata": {},
     "output_type": "execute_result"
    }
   ],
   "source": [
    "'batch_name' in d16"
   ]
  },
  {
   "cell_type": "code",
   "execution_count": 87,
   "id": "53af735e-f592-4497-a35a-3e2f5977ac98",
   "metadata": {},
   "outputs": [
    {
     "data": {
      "text/plain": [
       "{1: 0.0,\n",
       " 2: 0.3010299956639812,\n",
       " 3: 0.47712125471966244,\n",
       " 4: 0.6020599913279624,\n",
       " 5: 0.6989700043360189,\n",
       " 6: 0.7781512503836436,\n",
       " 7: 0.8450980400142568,\n",
       " 8: 0.9030899869919435,\n",
       " 9: 0.9542425094393249,\n",
       " 10: 1.0}"
      ]
     },
     "execution_count": 87,
     "metadata": {},
     "output_type": "execute_result"
    }
   ],
   "source": [
    "d21"
   ]
  },
  {
   "cell_type": "code",
   "execution_count": 88,
   "id": "7eaa8ae1-7fbb-4130-8e5a-5df041a2e42d",
   "metadata": {},
   "outputs": [
    {
     "data": {
      "text/plain": [
       "dict_keys([1, 2, 3, 4, 5, 6, 7, 8, 9, 10])"
      ]
     },
     "execution_count": 88,
     "metadata": {},
     "output_type": "execute_result"
    }
   ],
   "source": [
    "d21.keys()"
   ]
  },
  {
   "cell_type": "code",
   "execution_count": 89,
   "id": "a903b775-cfc3-47c6-9f6f-f11403159137",
   "metadata": {},
   "outputs": [
    {
     "ename": "SyntaxError",
     "evalue": "incomplete input (2181899273.py, line 1)",
     "output_type": "error",
     "traceback": [
      "\u001b[0;36m  Cell \u001b[0;32mIn[89], line 1\u001b[0;36m\u001b[0m\n\u001b[0;31m    for i in d21.keys():\u001b[0m\n\u001b[0m                        ^\u001b[0m\n\u001b[0;31mSyntaxError\u001b[0m\u001b[0;31m:\u001b[0m incomplete input\n"
     ]
    }
   ],
   "source": [
    "for i in d21.keys():\n",
    "    if i % 2 == 0 :\n",
    "        "
   ]
  },
  {
   "cell_type": "code",
   "execution_count": null,
   "id": "a9e5e19e-f6cc-4a12-8fb2-f99aec6a3a7d",
   "metadata": {},
   "outputs": [],
   "source": []
  },
  {
   "cell_type": "code",
   "execution_count": null,
   "id": "d98a5c0a-86bf-4068-b758-881f34469788",
   "metadata": {},
   "outputs": [],
   "source": []
  },
  {
   "cell_type": "code",
   "execution_count": null,
   "id": "e460d5eb-d002-46ba-a940-0689f6b1ec29",
   "metadata": {},
   "outputs": [],
   "source": []
  },
  {
   "cell_type": "code",
   "execution_count": null,
   "id": "2e63fa16-5206-48f7-ad4f-97d6958fee8a",
   "metadata": {},
   "outputs": [],
   "source": []
  },
  {
   "cell_type": "code",
   "execution_count": null,
   "id": "6880af0f-1853-4722-85d8-26369e2283f7",
   "metadata": {},
   "outputs": [],
   "source": []
  },
  {
   "cell_type": "code",
   "execution_count": null,
   "id": "19968b90-6b89-401c-b558-835a59a77a3d",
   "metadata": {},
   "outputs": [],
   "source": []
  },
  {
   "cell_type": "code",
   "execution_count": null,
   "id": "1673845a-fada-4148-8ab6-75011d5014c9",
   "metadata": {},
   "outputs": [],
   "source": []
  },
  {
   "cell_type": "code",
   "execution_count": null,
   "id": "4553b053-8cd6-4f00-8947-53539e471f16",
   "metadata": {},
   "outputs": [],
   "source": []
  },
  {
   "cell_type": "code",
   "execution_count": null,
   "id": "e8b03f29-71e6-445f-a0f7-acd2a7e52ada",
   "metadata": {},
   "outputs": [],
   "source": []
  },
  {
   "cell_type": "code",
   "execution_count": null,
   "id": "5781c162-601e-447d-be57-8d78564c54fd",
   "metadata": {},
   "outputs": [],
   "source": []
  },
  {
   "cell_type": "code",
   "execution_count": null,
   "id": "cd1e9c04-fbc8-4825-b7ff-f6f282a6070b",
   "metadata": {},
   "outputs": [],
   "source": []
  },
  {
   "cell_type": "code",
   "execution_count": null,
   "id": "2dc74861-8ee7-4419-9a48-1c2574a8e62b",
   "metadata": {},
   "outputs": [],
   "source": []
  },
  {
   "cell_type": "code",
   "execution_count": null,
   "id": "43715f6b-f6bb-45e3-9f3b-d1ae0b923092",
   "metadata": {},
   "outputs": [],
   "source": []
  },
  {
   "cell_type": "code",
   "execution_count": null,
   "id": "e9ec7bb9-fa29-44b2-ab34-462c13761b49",
   "metadata": {},
   "outputs": [],
   "source": []
  },
  {
   "cell_type": "code",
   "execution_count": null,
   "id": "2cf30ac8-662d-4f13-bda8-2e52895250ec",
   "metadata": {},
   "outputs": [],
   "source": []
  },
  {
   "cell_type": "code",
   "execution_count": null,
   "id": "10662dcc-247b-4c4d-828b-570f5c107664",
   "metadata": {},
   "outputs": [],
   "source": []
  },
  {
   "cell_type": "code",
   "execution_count": null,
   "id": "ede883ae-68d6-4da0-bfc0-35a226e76446",
   "metadata": {},
   "outputs": [],
   "source": []
  },
  {
   "cell_type": "code",
   "execution_count": null,
   "id": "9c2843f7-fe2f-4e58-8184-a27db789f70d",
   "metadata": {},
   "outputs": [],
   "source": []
  },
  {
   "cell_type": "code",
   "execution_count": null,
   "id": "1a9e0b09-db25-4b68-98d6-10d690f7108f",
   "metadata": {},
   "outputs": [],
   "source": []
  },
  {
   "cell_type": "code",
   "execution_count": null,
   "id": "9d00e587-a68f-48f7-bbcf-9d0f8f9ba302",
   "metadata": {},
   "outputs": [],
   "source": []
  },
  {
   "cell_type": "code",
   "execution_count": null,
   "id": "43a936ad-8606-4fe2-87e9-90b400f5ff91",
   "metadata": {},
   "outputs": [],
   "source": []
  },
  {
   "cell_type": "code",
   "execution_count": null,
   "id": "6edefbfe-7747-448f-91d2-549d11211d02",
   "metadata": {},
   "outputs": [],
   "source": []
  },
  {
   "cell_type": "code",
   "execution_count": null,
   "id": "1d09c89a-47d1-4f68-8a05-f5198d3616a7",
   "metadata": {},
   "outputs": [],
   "source": []
  },
  {
   "cell_type": "code",
   "execution_count": null,
   "id": "3cabb8ae-ecf1-4ce3-a82d-b59ca8d12850",
   "metadata": {},
   "outputs": [],
   "source": []
  },
  {
   "cell_type": "code",
   "execution_count": null,
   "id": "b6b98d22-f8c9-4bb2-ba29-5bab174e76ed",
   "metadata": {},
   "outputs": [],
   "source": []
  },
  {
   "cell_type": "code",
   "execution_count": null,
   "id": "682f90d6-da3c-4c2e-b07f-7a33c9f91806",
   "metadata": {},
   "outputs": [],
   "source": []
  },
  {
   "cell_type": "code",
   "execution_count": null,
   "id": "5f2f7b3d-567b-4398-bb17-623289f5bc48",
   "metadata": {},
   "outputs": [],
   "source": []
  },
  {
   "cell_type": "code",
   "execution_count": null,
   "id": "39d57beb-feed-413c-aa2f-8e5f2b470f39",
   "metadata": {},
   "outputs": [],
   "source": []
  },
  {
   "cell_type": "code",
   "execution_count": null,
   "id": "b7b7ec1f-f08f-4e64-94fa-b153dcd62e6c",
   "metadata": {},
   "outputs": [],
   "source": []
  },
  {
   "cell_type": "code",
   "execution_count": null,
   "id": "6e66aea5-9e16-41d9-8d9d-3052ad49a816",
   "metadata": {},
   "outputs": [],
   "source": []
  },
  {
   "cell_type": "code",
   "execution_count": null,
   "id": "8b7d7ab5-b93e-471c-ba21-e79fdeeac9c0",
   "metadata": {},
   "outputs": [],
   "source": []
  },
  {
   "cell_type": "code",
   "execution_count": null,
   "id": "c79fb0c4-04b3-418f-a7c3-9d2893159024",
   "metadata": {},
   "outputs": [],
   "source": []
  },
  {
   "cell_type": "code",
   "execution_count": null,
   "id": "59d51a58-a784-447c-84f7-73bfe94ec5f0",
   "metadata": {},
   "outputs": [],
   "source": []
  },
  {
   "cell_type": "code",
   "execution_count": null,
   "id": "9cf9e43d-16de-4c20-bc5e-e4313ff7d5d9",
   "metadata": {},
   "outputs": [],
   "source": []
  },
  {
   "cell_type": "code",
   "execution_count": null,
   "id": "bca920bd-6380-4ad5-a6c8-ad0f91b86e28",
   "metadata": {},
   "outputs": [],
   "source": []
  },
  {
   "cell_type": "code",
   "execution_count": null,
   "id": "5d97b7f2-7728-4d58-b767-a86f126e3112",
   "metadata": {},
   "outputs": [],
   "source": []
  },
  {
   "cell_type": "code",
   "execution_count": null,
   "id": "fa527a4c-740c-48a6-823d-f8f92456bdbc",
   "metadata": {},
   "outputs": [],
   "source": []
  },
  {
   "cell_type": "code",
   "execution_count": null,
   "id": "13efc68a-3cca-4822-8e1c-03901d5edfac",
   "metadata": {},
   "outputs": [],
   "source": []
  },
  {
   "cell_type": "code",
   "execution_count": null,
   "id": "7937a0fe-5b3f-4400-8f2d-7bc13a5ebbfc",
   "metadata": {},
   "outputs": [],
   "source": []
  },
  {
   "cell_type": "code",
   "execution_count": null,
   "id": "6b00d744-a56a-4810-8128-22b408e8be30",
   "metadata": {},
   "outputs": [],
   "source": []
  },
  {
   "cell_type": "code",
   "execution_count": null,
   "id": "795410b7-69c4-49a0-bff1-c155864cecc7",
   "metadata": {},
   "outputs": [],
   "source": []
  },
  {
   "cell_type": "code",
   "execution_count": null,
   "id": "1d8431eb-4883-40b9-a0c9-62d35a512be7",
   "metadata": {},
   "outputs": [],
   "source": []
  },
  {
   "cell_type": "code",
   "execution_count": null,
   "id": "a1006ee6-1bbe-4311-b35a-b57a2460e547",
   "metadata": {},
   "outputs": [],
   "source": []
  },
  {
   "cell_type": "code",
   "execution_count": null,
   "id": "d0a56664-0473-4cc6-a4cf-9b3a8353a010",
   "metadata": {},
   "outputs": [],
   "source": []
  },
  {
   "cell_type": "code",
   "execution_count": null,
   "id": "0d0d4167-8417-4ef2-9db2-cc50fa00b9cb",
   "metadata": {},
   "outputs": [],
   "source": []
  },
  {
   "cell_type": "code",
   "execution_count": null,
   "id": "edf17f53-765f-4788-939b-eed84b34a1f3",
   "metadata": {},
   "outputs": [],
   "source": []
  },
  {
   "cell_type": "code",
   "execution_count": null,
   "id": "10ca934f-ecb3-4e50-b7a0-a073fd0ef98e",
   "metadata": {},
   "outputs": [],
   "source": []
  },
  {
   "cell_type": "code",
   "execution_count": null,
   "id": "e9dba307-6a3d-4b11-b007-fcd6aee1bc29",
   "metadata": {},
   "outputs": [],
   "source": []
  },
  {
   "cell_type": "code",
   "execution_count": null,
   "id": "32730682-cc6b-4e73-99b5-1856c12d6245",
   "metadata": {},
   "outputs": [],
   "source": []
  },
  {
   "cell_type": "code",
   "execution_count": null,
   "id": "013a6e03-589d-483d-9e7e-74298c7c803d",
   "metadata": {},
   "outputs": [],
   "source": []
  },
  {
   "cell_type": "code",
   "execution_count": null,
   "id": "8dee2d5c-1ed8-4808-8d1b-f2a2cec0e84f",
   "metadata": {},
   "outputs": [],
   "source": []
  },
  {
   "cell_type": "code",
   "execution_count": null,
   "id": "01e9d277-6541-401a-8196-da8256413d3a",
   "metadata": {},
   "outputs": [],
   "source": []
  },
  {
   "cell_type": "code",
   "execution_count": null,
   "id": "7fe60270-6f7a-403a-bdaf-ac62599a294f",
   "metadata": {},
   "outputs": [],
   "source": []
  },
  {
   "cell_type": "code",
   "execution_count": null,
   "id": "4c062c18-6c9e-4406-b7ae-80d5a89f62ed",
   "metadata": {},
   "outputs": [],
   "source": []
  },
  {
   "cell_type": "code",
   "execution_count": null,
   "id": "ae83b761-0aca-4f24-88aa-bb026c4c5797",
   "metadata": {},
   "outputs": [],
   "source": []
  },
  {
   "cell_type": "code",
   "execution_count": null,
   "id": "c6fc3bb4-bee6-42d0-93d2-2caab07e9d73",
   "metadata": {},
   "outputs": [],
   "source": []
  },
  {
   "cell_type": "code",
   "execution_count": null,
   "id": "5c36dd8d-b3b8-43e6-bf0e-13bda6e59d76",
   "metadata": {},
   "outputs": [],
   "source": []
  },
  {
   "cell_type": "code",
   "execution_count": null,
   "id": "43d4d22e-8d8c-41c6-8d22-178d7aa2b829",
   "metadata": {},
   "outputs": [],
   "source": []
  },
  {
   "cell_type": "code",
   "execution_count": null,
   "id": "60035387-c758-479b-a560-dbf0401e4fc1",
   "metadata": {},
   "outputs": [],
   "source": []
  },
  {
   "cell_type": "code",
   "execution_count": null,
   "id": "e68348dc-a0ba-4096-b9e7-9615a9d9be67",
   "metadata": {},
   "outputs": [],
   "source": []
  },
  {
   "cell_type": "code",
   "execution_count": null,
   "id": "a3372430-7044-4288-8d7d-64a50be272bc",
   "metadata": {},
   "outputs": [],
   "source": []
  },
  {
   "cell_type": "code",
   "execution_count": null,
   "id": "7bade0d1-aff4-4f51-bb32-b4f146e42076",
   "metadata": {},
   "outputs": [],
   "source": []
  },
  {
   "cell_type": "code",
   "execution_count": null,
   "id": "e364d4dc-8010-4b7c-9423-0ed61dba92ec",
   "metadata": {},
   "outputs": [],
   "source": []
  },
  {
   "cell_type": "code",
   "execution_count": null,
   "id": "5fc6ec9d-a196-4860-8e59-45aa3da1e767",
   "metadata": {},
   "outputs": [],
   "source": []
  },
  {
   "cell_type": "code",
   "execution_count": null,
   "id": "4b315b3f-1c51-4a82-8667-e1bb01f5da93",
   "metadata": {},
   "outputs": [],
   "source": []
  },
  {
   "cell_type": "code",
   "execution_count": null,
   "id": "ad55df7d-a923-4973-9675-016d9ab88a73",
   "metadata": {},
   "outputs": [],
   "source": []
  },
  {
   "cell_type": "code",
   "execution_count": null,
   "id": "50945e20-0600-429a-ace9-ce8f353aedaf",
   "metadata": {},
   "outputs": [],
   "source": []
  },
  {
   "cell_type": "code",
   "execution_count": null,
   "id": "5008bb45-1843-4ee3-a666-9490e5b26513",
   "metadata": {},
   "outputs": [],
   "source": []
  },
  {
   "cell_type": "code",
   "execution_count": null,
   "id": "80af0fe8-7c69-421b-8b70-8ff67e2d1612",
   "metadata": {},
   "outputs": [],
   "source": []
  },
  {
   "cell_type": "code",
   "execution_count": null,
   "id": "dece87b3-0a51-4041-81d4-a441960265cf",
   "metadata": {},
   "outputs": [],
   "source": []
  },
  {
   "cell_type": "code",
   "execution_count": null,
   "id": "58d47261-70c2-47a7-957f-e77c443eec36",
   "metadata": {},
   "outputs": [],
   "source": []
  },
  {
   "cell_type": "code",
   "execution_count": null,
   "id": "e7fbb5c5-2513-4988-8a1b-f2f26c099379",
   "metadata": {},
   "outputs": [],
   "source": []
  },
  {
   "cell_type": "code",
   "execution_count": null,
   "id": "02135ef4-ea73-40eb-87f0-78fedf211dd7",
   "metadata": {},
   "outputs": [],
   "source": []
  },
  {
   "cell_type": "code",
   "execution_count": null,
   "id": "e4d106fb-0230-4502-af7d-c12991c34425",
   "metadata": {},
   "outputs": [],
   "source": []
  },
  {
   "cell_type": "code",
   "execution_count": null,
   "id": "5767e409-817b-4444-9f16-63db182e10f3",
   "metadata": {},
   "outputs": [],
   "source": []
  },
  {
   "cell_type": "code",
   "execution_count": null,
   "id": "9140c661-e694-4b35-9f6a-7096e960468a",
   "metadata": {},
   "outputs": [],
   "source": []
  },
  {
   "cell_type": "code",
   "execution_count": null,
   "id": "172ae7f7-93f4-4eeb-8949-d4f2318af3b8",
   "metadata": {},
   "outputs": [],
   "source": []
  },
  {
   "cell_type": "code",
   "execution_count": null,
   "id": "16dfed0b-9382-4dee-baba-f44f78941052",
   "metadata": {},
   "outputs": [],
   "source": []
  },
  {
   "cell_type": "code",
   "execution_count": null,
   "id": "beafebe1-5b48-49c4-b356-0aed21bad351",
   "metadata": {},
   "outputs": [],
   "source": []
  },
  {
   "cell_type": "code",
   "execution_count": null,
   "id": "d28cbca8-cd37-4cb5-9d20-d9890cdafdaa",
   "metadata": {},
   "outputs": [],
   "source": []
  },
  {
   "cell_type": "code",
   "execution_count": null,
   "id": "0cea8b05-1f68-4e83-8646-5e2c93d1e0d9",
   "metadata": {},
   "outputs": [],
   "source": []
  },
  {
   "cell_type": "code",
   "execution_count": null,
   "id": "483b2922-2443-4eda-a25f-e597d96a6089",
   "metadata": {},
   "outputs": [],
   "source": []
  },
  {
   "cell_type": "code",
   "execution_count": null,
   "id": "df00e4f4-31eb-43e1-a374-1fc2623f8a01",
   "metadata": {},
   "outputs": [],
   "source": []
  },
  {
   "cell_type": "code",
   "execution_count": null,
   "id": "8b99b188-6147-4b52-b8a9-c253685b9836",
   "metadata": {},
   "outputs": [],
   "source": []
  },
  {
   "cell_type": "code",
   "execution_count": null,
   "id": "c5dfbbe3-80bb-4555-a41f-005752abe250",
   "metadata": {},
   "outputs": [],
   "source": []
  },
  {
   "cell_type": "code",
   "execution_count": null,
   "id": "8d2ddfe2-b484-4ac4-ba5b-492f7ef68731",
   "metadata": {},
   "outputs": [],
   "source": []
  },
  {
   "cell_type": "code",
   "execution_count": null,
   "id": "e7bbae47-7f92-4600-ba85-048c0cf87c7e",
   "metadata": {},
   "outputs": [],
   "source": []
  },
  {
   "cell_type": "code",
   "execution_count": null,
   "id": "9bc9a4ee-cfbf-459b-a924-2fd3ba61de95",
   "metadata": {},
   "outputs": [],
   "source": []
  },
  {
   "cell_type": "code",
   "execution_count": null,
   "id": "61730cb9-48b1-4671-a03a-f68052467922",
   "metadata": {},
   "outputs": [],
   "source": []
  },
  {
   "cell_type": "code",
   "execution_count": null,
   "id": "765cfb71-1e18-47cb-bef3-1ce9f86af992",
   "metadata": {},
   "outputs": [],
   "source": []
  },
  {
   "cell_type": "code",
   "execution_count": null,
   "id": "691721f7-a7fa-4de0-9585-d245503a2b5e",
   "metadata": {},
   "outputs": [],
   "source": []
  },
  {
   "cell_type": "code",
   "execution_count": null,
   "id": "7ad55a77-eb44-4409-8cac-c5beb7bc4521",
   "metadata": {},
   "outputs": [],
   "source": []
  },
  {
   "cell_type": "code",
   "execution_count": null,
   "id": "26cb7a44-538f-4e53-8ab9-cec845a59e51",
   "metadata": {},
   "outputs": [],
   "source": []
  },
  {
   "cell_type": "code",
   "execution_count": null,
   "id": "3732b555-9eea-422a-8ec1-1200ebd140e4",
   "metadata": {},
   "outputs": [],
   "source": []
  },
  {
   "cell_type": "code",
   "execution_count": null,
   "id": "56287780-249b-4e6b-aacb-e8cf948b7636",
   "metadata": {},
   "outputs": [],
   "source": []
  },
  {
   "cell_type": "code",
   "execution_count": null,
   "id": "4ca03515-ceb3-4cf7-bb1c-1d83416c93e0",
   "metadata": {},
   "outputs": [],
   "source": []
  },
  {
   "cell_type": "code",
   "execution_count": null,
   "id": "46fc0998-4899-4708-a747-e94fb235d493",
   "metadata": {},
   "outputs": [],
   "source": []
  },
  {
   "cell_type": "code",
   "execution_count": null,
   "id": "9e9c8ff7-c8ed-4794-aedd-a9f0cf8c67db",
   "metadata": {},
   "outputs": [],
   "source": []
  },
  {
   "cell_type": "code",
   "execution_count": null,
   "id": "1030d1a8-120e-488d-a513-0f0c074b911a",
   "metadata": {},
   "outputs": [],
   "source": []
  },
  {
   "cell_type": "code",
   "execution_count": null,
   "id": "8be81fca-1854-4eff-bae8-e1d9f41e393f",
   "metadata": {},
   "outputs": [],
   "source": []
  },
  {
   "cell_type": "code",
   "execution_count": null,
   "id": "5cfe1566-c135-49c0-95e7-31ed34d9c353",
   "metadata": {},
   "outputs": [],
   "source": []
  },
  {
   "cell_type": "code",
   "execution_count": null,
   "id": "48be9bec-eb97-4ef9-83cf-d92113c25637",
   "metadata": {},
   "outputs": [],
   "source": []
  },
  {
   "cell_type": "code",
   "execution_count": null,
   "id": "cffdc3d0-9d1a-4891-a475-3be3bd4f2d87",
   "metadata": {},
   "outputs": [],
   "source": []
  },
  {
   "cell_type": "code",
   "execution_count": null,
   "id": "12cf603d-b1c7-4fcc-946e-3e31fcf53a39",
   "metadata": {},
   "outputs": [],
   "source": []
  },
  {
   "cell_type": "code",
   "execution_count": null,
   "id": "c77d20fa-dd93-4797-8720-b239b9effb2d",
   "metadata": {},
   "outputs": [],
   "source": []
  },
  {
   "cell_type": "code",
   "execution_count": null,
   "id": "c053cca2-cd7f-489d-b95c-90c0fad8a562",
   "metadata": {},
   "outputs": [],
   "source": []
  },
  {
   "cell_type": "code",
   "execution_count": null,
   "id": "bff452b1-b12a-4952-b697-1d923cc2fc44",
   "metadata": {},
   "outputs": [],
   "source": []
  },
  {
   "cell_type": "code",
   "execution_count": null,
   "id": "d9a9ac2c-a8b5-4e6f-b7a3-4a0acb9f30d1",
   "metadata": {},
   "outputs": [],
   "source": []
  },
  {
   "cell_type": "code",
   "execution_count": null,
   "id": "42d48aeb-f472-425e-b85c-26eb16bdec7e",
   "metadata": {},
   "outputs": [],
   "source": []
  }
 ],
 "metadata": {
  "kernelspec": {
   "display_name": "Python 3 (ipykernel)",
   "language": "python",
   "name": "python3"
  },
  "language_info": {
   "codemirror_mode": {
    "name": "ipython",
    "version": 3
   },
   "file_extension": ".py",
   "mimetype": "text/x-python",
   "name": "python",
   "nbconvert_exporter": "python",
   "pygments_lexer": "ipython3",
   "version": "3.10.8"
  }
 },
 "nbformat": 4,
 "nbformat_minor": 5
}
