{
 "cells": [
  {
   "cell_type": "markdown",
   "id": "bcc551d8-7c13-4904-aa5e-492e67a73cb4",
   "metadata": {},
   "source": [
    "\"Oops\" stands for Object - Oriented Programming System"
   ]
  },
  {
   "cell_type": "code",
   "execution_count": 1,
   "id": "9c911d1d-1ae0-47ef-8642-71caeca2d83b",
   "metadata": {},
   "outputs": [],
   "source": [
    "a = 1"
   ]
  },
  {
   "cell_type": "code",
   "execution_count": 2,
   "id": "c1d90b92-1b56-46f3-8640-a8c3d8c2d292",
   "metadata": {},
   "outputs": [
    {
     "name": "stdout",
     "output_type": "stream",
     "text": [
      "<class 'int'>\n"
     ]
    }
   ],
   "source": [
    "print(type(a))"
   ]
  },
  {
   "cell_type": "code",
   "execution_count": 3,
   "id": "76e853af-3786-4319-adcb-8df7a085aec4",
   "metadata": {},
   "outputs": [
    {
     "name": "stdout",
     "output_type": "stream",
     "text": [
      "<class 'str'>\n"
     ]
    }
   ],
   "source": [
    "print((type(\"pwskills\")))"
   ]
  },
  {
   "cell_type": "code",
   "execution_count": 4,
   "id": "5c79d128-dc08-46d5-b30a-14358f8c6207",
   "metadata": {},
   "outputs": [],
   "source": [
    "class test :\n",
    "    pass"
   ]
  },
  {
   "cell_type": "code",
   "execution_count": 5,
   "id": "a11a097c-87ad-428f-b77b-403c19556add",
   "metadata": {},
   "outputs": [],
   "source": [
    "a = test()"
   ]
  },
  {
   "cell_type": "code",
   "execution_count": 6,
   "id": "cd02deb3-772f-4942-96a2-6a8874596251",
   "metadata": {},
   "outputs": [
    {
     "name": "stdout",
     "output_type": "stream",
     "text": [
      "<class '__main__.test'>\n"
     ]
    }
   ],
   "source": [
    "print((type(a)))"
   ]
  },
  {
   "cell_type": "code",
   "execution_count": 10,
   "id": "27527130-ae0e-413d-9bad-c151bd724b0d",
   "metadata": {},
   "outputs": [],
   "source": [
    " class pwskills:\n",
    "        \n",
    "        def welcome_msg(self):\n",
    "            print(\"welcome to pwskills\")"
   ]
  },
  {
   "cell_type": "code",
   "execution_count": 11,
   "id": "387287d5-5ee2-4a2f-82b1-9933fb496304",
   "metadata": {},
   "outputs": [],
   "source": [
    "atul = pwskills()"
   ]
  },
  {
   "cell_type": "code",
   "execution_count": 12,
   "id": "15192f8a-f753-4fc4-a818-e254305aa211",
   "metadata": {},
   "outputs": [
    {
     "name": "stdout",
     "output_type": "stream",
     "text": [
      "welcome to pwskills\n"
     ]
    }
   ],
   "source": [
    "atul.welcome_msg()"
   ]
  },
  {
   "cell_type": "code",
   "execution_count": 13,
   "id": "244556fd-a6b0-48a1-9aec-e08149c02dee",
   "metadata": {},
   "outputs": [],
   "source": [
    "abhi = pwskills()"
   ]
  },
  {
   "cell_type": "code",
   "execution_count": 14,
   "id": "70af58cf-729d-495c-b399-c7e17f50a291",
   "metadata": {},
   "outputs": [
    {
     "name": "stdout",
     "output_type": "stream",
     "text": [
      "welcome to pwskills\n"
     ]
    }
   ],
   "source": [
    "abhi.welcome_msg()"
   ]
  },
  {
   "cell_type": "code",
   "execution_count": 15,
   "id": "fa3cb74a-b82c-4707-9b96-69daec0a2570",
   "metadata": {},
   "outputs": [],
   "source": [
    "class pwskills1:\n",
    "    \n",
    "    def __init__(self,phone_number,email_id,student_id):\n",
    "        \n",
    "        self.phone_number = phone_number\n",
    "        self.email_id =email_id\n",
    "        self.student_id = student_id\n",
    "        \n",
    "    def return_student_details(self):\n",
    "        return self.phone_number,self.email_id,self.student_id"
   ]
  },
  {
   "cell_type": "code",
   "execution_count": 22,
   "id": "57421c0e-5f42-46e9-a57d-4d2dc1daa066",
   "metadata": {},
   "outputs": [],
   "source": [
    "atul = pwskills1(12223323334, \"atul@gmail.com\",1001)"
   ]
  },
  {
   "cell_type": "code",
   "execution_count": 20,
   "id": "a8e602de-44c1-46b8-9a46-b5bcaed25b12",
   "metadata": {},
   "outputs": [
    {
     "data": {
      "text/plain": [
       "12223323334"
      ]
     },
     "execution_count": 20,
     "metadata": {},
     "output_type": "execute_result"
    }
   ],
   "source": [
    "atul.phone_number"
   ]
  },
  {
   "cell_type": "code",
   "execution_count": 24,
   "id": "7fe4a5d4-f814-44b7-a81c-3967b4d2712e",
   "metadata": {},
   "outputs": [
    {
     "data": {
      "text/plain": [
       "'atul@gmail.com'"
      ]
     },
     "execution_count": 24,
     "metadata": {},
     "output_type": "execute_result"
    }
   ],
   "source": [
    "atul.email_id"
   ]
  },
  {
   "cell_type": "code",
   "execution_count": 25,
   "id": "d8f46938-6a38-4d03-9e3b-c5ab6e52b8f3",
   "metadata": {},
   "outputs": [
    {
     "data": {
      "text/plain": [
       "1001"
      ]
     },
     "execution_count": 25,
     "metadata": {},
     "output_type": "execute_result"
    }
   ],
   "source": [
    "atul.student_id"
   ]
  },
  {
   "cell_type": "code",
   "execution_count": 26,
   "id": "001cc469-cd80-4bb9-abd2-fae543749b94",
   "metadata": {},
   "outputs": [
    {
     "data": {
      "text/plain": [
       "(12223323334, 'atul@gmail.com', 1001)"
      ]
     },
     "execution_count": 26,
     "metadata": {},
     "output_type": "execute_result"
    }
   ],
   "source": [
    "atul.return_student_details()"
   ]
  },
  {
   "cell_type": "code",
   "execution_count": 28,
   "id": "451b804b-a453-4fb2-89e9-5d8147fc5fda",
   "metadata": {},
   "outputs": [],
   "source": [
    "abhi = pwskills1(1245677,\"abhi@gmail.com\",1221)"
   ]
  },
  {
   "cell_type": "code",
   "execution_count": 29,
   "id": "b4a7bff7-bd4c-4d4c-a6b9-61e750c48d93",
   "metadata": {},
   "outputs": [
    {
     "data": {
      "text/plain": [
       "1245677"
      ]
     },
     "execution_count": 29,
     "metadata": {},
     "output_type": "execute_result"
    }
   ],
   "source": [
    "abhi.phone_number"
   ]
  },
  {
   "cell_type": "code",
   "execution_count": 30,
   "id": "ca0fb77c-b2d9-49fd-82ab-f7433fefaa38",
   "metadata": {},
   "outputs": [
    {
     "data": {
      "text/plain": [
       "'abhi@gmail.com'"
      ]
     },
     "execution_count": 30,
     "metadata": {},
     "output_type": "execute_result"
    }
   ],
   "source": [
    "abhi.email_id"
   ]
  },
  {
   "cell_type": "code",
   "execution_count": 31,
   "id": "e9efbf4f-cafe-4ba7-b379-d2a3105eb58f",
   "metadata": {},
   "outputs": [
    {
     "data": {
      "text/plain": [
       "1221"
      ]
     },
     "execution_count": 31,
     "metadata": {},
     "output_type": "execute_result"
    }
   ],
   "source": [
    "abhi.student_id"
   ]
  },
  {
   "cell_type": "code",
   "execution_count": 33,
   "id": "12f2e181-82ca-4bac-bf37-4f7b7fd7748c",
   "metadata": {},
   "outputs": [
    {
     "data": {
      "text/plain": [
       "(1245677, 'abhi@gmail.com', 1221)"
      ]
     },
     "execution_count": 33,
     "metadata": {},
     "output_type": "execute_result"
    }
   ],
   "source": [
    "abhi.return_student_details()"
   ]
  },
  {
   "cell_type": "code",
   "execution_count": null,
   "id": "f6600db6-5718-4fac-a9d9-2e3f41060932",
   "metadata": {},
   "outputs": [],
   "source": []
  },
  {
   "cell_type": "code",
   "execution_count": 41,
   "id": "b042e0cb-2d84-40f8-9ee0-ab2da40575fc",
   "metadata": {},
   "outputs": [],
   "source": [
    "class pwskills2:\n",
    "    \n",
    "    def __init__(atul,phone_number,email_id,student_id):\n",
    "        \n",
    "        atul.phone_number = phone_number\n",
    "        atul.email_id =email_id\n",
    "        atul.student_id = student_id\n",
    "        \n",
    "    def return_student_details(self):\n",
    "        return atul.phone_number,atul.email_id,atul.student_id"
   ]
  },
  {
   "cell_type": "code",
   "execution_count": 36,
   "id": "ea7e887d-578f-4444-8022-b351cf43f746",
   "metadata": {},
   "outputs": [],
   "source": [
    "rutuja = pwskills2(1239393939,\"rutuja5050@gmail.com\",1001)"
   ]
  },
  {
   "cell_type": "code",
   "execution_count": 37,
   "id": "2c2e1395-fcc0-486f-8b61-a45045e4a58b",
   "metadata": {},
   "outputs": [
    {
     "data": {
      "text/plain": [
       "1239393939"
      ]
     },
     "execution_count": 37,
     "metadata": {},
     "output_type": "execute_result"
    }
   ],
   "source": [
    "rutuja.phone_number"
   ]
  },
  {
   "cell_type": "code",
   "execution_count": 38,
   "id": "0f988448-9383-4f63-b1bb-7d0ad80c9b07",
   "metadata": {},
   "outputs": [
    {
     "data": {
      "text/plain": [
       "'rutuja5050@gmail.com'"
      ]
     },
     "execution_count": 38,
     "metadata": {},
     "output_type": "execute_result"
    }
   ],
   "source": [
    "rutuja.email_id"
   ]
  },
  {
   "cell_type": "code",
   "execution_count": 39,
   "id": "ce2947f7-2913-4f6d-a847-cbbdfc4700b6",
   "metadata": {},
   "outputs": [
    {
     "data": {
      "text/plain": [
       "1001"
      ]
     },
     "execution_count": 39,
     "metadata": {},
     "output_type": "execute_result"
    }
   ],
   "source": [
    "rutuja.student_id"
   ]
  },
  {
   "cell_type": "code",
   "execution_count": 42,
   "id": "58273224-91e5-416e-abe6-243a68bb08a6",
   "metadata": {},
   "outputs": [
    {
     "data": {
      "text/plain": [
       "(12223323334, 'atul@gmail.com', 1001)"
      ]
     },
     "execution_count": 42,
     "metadata": {},
     "output_type": "execute_result"
    }
   ],
   "source": [
    "rutuja.return_student_details()"
   ]
  },
  {
   "cell_type": "code",
   "execution_count": 50,
   "id": "e8606f80-4b75-4655-95c0-2de02db41a55",
   "metadata": {},
   "outputs": [],
   "source": [
    "class pwskills3:\n",
    "    \n",
    "    def __init__(self,phone_number,email_id,student_id):\n",
    "        \n",
    "        self.phone_number1 = phone_number\n",
    "        self.email_id =email_id\n",
    "        self.student_id = student_id\n",
    "        \n",
    "    def return_student_details(self):\n",
    "        return self.phone_number,self.email_id,self.student_id"
   ]
  },
  {
   "cell_type": "code",
   "execution_count": 52,
   "id": "51e21050-94d3-4178-934d-8cfc7928c587",
   "metadata": {},
   "outputs": [],
   "source": [
    "anna = pwskills3(12212111,\"atulpatil93939@gmail.com\",12212)"
   ]
  },
  {
   "cell_type": "code",
   "execution_count": 53,
   "id": "bbc02088-59d6-4a4e-b469-fdceac41cd05",
   "metadata": {},
   "outputs": [
    {
     "data": {
      "text/plain": [
       "'atulpatil93939@gmail.com'"
      ]
     },
     "execution_count": 53,
     "metadata": {},
     "output_type": "execute_result"
    }
   ],
   "source": [
    "anna.email_id"
   ]
  },
  {
   "cell_type": "code",
   "execution_count": 54,
   "id": "44c1e43d-e758-4643-b99d-c522b2da3fb6",
   "metadata": {},
   "outputs": [
    {
     "data": {
      "text/plain": [
       "12212111"
      ]
     },
     "execution_count": 54,
     "metadata": {},
     "output_type": "execute_result"
    }
   ],
   "source": [
    "anna.phone_number1"
   ]
  },
  {
   "cell_type": "code",
   "execution_count": 55,
   "id": "56d7da00-3f1b-4ed6-8d68-a9e3e3b1b986",
   "metadata": {},
   "outputs": [
    {
     "ename": "AttributeError",
     "evalue": "'pwskills3' object has no attribute 'phone_number'",
     "output_type": "error",
     "traceback": [
      "\u001b[0;31m---------------------------------------------------------------------------\u001b[0m",
      "\u001b[0;31mAttributeError\u001b[0m                            Traceback (most recent call last)",
      "Cell \u001b[0;32mIn[55], line 1\u001b[0m\n\u001b[0;32m----> 1\u001b[0m \u001b[43manna\u001b[49m\u001b[38;5;241;43m.\u001b[39;49m\u001b[43mreturn_student_details\u001b[49m\u001b[43m(\u001b[49m\u001b[43m)\u001b[49m\n",
      "Cell \u001b[0;32mIn[50], line 10\u001b[0m, in \u001b[0;36mpwskills3.return_student_details\u001b[0;34m(self)\u001b[0m\n\u001b[1;32m      9\u001b[0m \u001b[38;5;28;01mdef\u001b[39;00m \u001b[38;5;21mreturn_student_details\u001b[39m(\u001b[38;5;28mself\u001b[39m):\n\u001b[0;32m---> 10\u001b[0m     \u001b[38;5;28;01mreturn\u001b[39;00m \u001b[38;5;28;43mself\u001b[39;49m\u001b[38;5;241;43m.\u001b[39;49m\u001b[43mphone_number\u001b[49m,\u001b[38;5;28mself\u001b[39m\u001b[38;5;241m.\u001b[39memail_id,\u001b[38;5;28mself\u001b[39m\u001b[38;5;241m.\u001b[39mstudent_id\n",
      "\u001b[0;31mAttributeError\u001b[0m: 'pwskills3' object has no attribute 'phone_number'"
     ]
    }
   ],
   "source": [
    "anna.return_student_details()"
   ]
  },
  {
   "cell_type": "code",
   "execution_count": null,
   "id": "aa1712de-fd6b-4be8-856e-b0d4d23eb9d5",
   "metadata": {},
   "outputs": [],
   "source": []
  },
  {
   "cell_type": "code",
   "execution_count": null,
   "id": "1a376ae3-d201-4321-8a14-06f046487024",
   "metadata": {},
   "outputs": [],
   "source": []
  },
  {
   "cell_type": "code",
   "execution_count": null,
   "id": "079ba0b6-aa3d-47a4-8188-e106a5e61769",
   "metadata": {},
   "outputs": [],
   "source": []
  },
  {
   "cell_type": "code",
   "execution_count": null,
   "id": "c2b83257-6fb9-4769-b39f-886b94c9b8a3",
   "metadata": {},
   "outputs": [],
   "source": []
  },
  {
   "cell_type": "code",
   "execution_count": null,
   "id": "5b322bbe-4192-4576-bf8d-e7baf023ede8",
   "metadata": {},
   "outputs": [],
   "source": []
  },
  {
   "cell_type": "code",
   "execution_count": null,
   "id": "65e83bee-d56d-4fb1-8b76-d36ecc6feb5f",
   "metadata": {},
   "outputs": [],
   "source": []
  },
  {
   "cell_type": "code",
   "execution_count": null,
   "id": "04fc7e77-422e-45c0-9189-4a8d74d95b2c",
   "metadata": {},
   "outputs": [],
   "source": []
  },
  {
   "cell_type": "code",
   "execution_count": null,
   "id": "a4ff0473-b327-4e5b-8c30-c0f43b72a3d8",
   "metadata": {},
   "outputs": [],
   "source": []
  },
  {
   "cell_type": "code",
   "execution_count": null,
   "id": "7ab457d9-a6ad-42bf-804f-17f03d521794",
   "metadata": {},
   "outputs": [],
   "source": []
  },
  {
   "cell_type": "code",
   "execution_count": null,
   "id": "8c5ff94b-8ae9-4d4a-81f8-d62897d05684",
   "metadata": {},
   "outputs": [],
   "source": []
  },
  {
   "cell_type": "code",
   "execution_count": null,
   "id": "5cc40cae-96c9-43ad-aa65-fd7ddcaf8322",
   "metadata": {},
   "outputs": [],
   "source": []
  },
  {
   "cell_type": "code",
   "execution_count": null,
   "id": "14bcd6f7-4bcd-4ecf-bce3-eb743d7734c2",
   "metadata": {},
   "outputs": [],
   "source": []
  },
  {
   "cell_type": "code",
   "execution_count": null,
   "id": "cf9c3062-ea02-46a2-b45a-33f4e4bfee36",
   "metadata": {},
   "outputs": [],
   "source": []
  },
  {
   "cell_type": "code",
   "execution_count": null,
   "id": "cdbd9c39-6a07-4189-9e6e-dc1b0a0ff0ec",
   "metadata": {},
   "outputs": [],
   "source": []
  },
  {
   "cell_type": "code",
   "execution_count": null,
   "id": "288e21c7-742e-4a67-ac99-b4cb1658da0b",
   "metadata": {},
   "outputs": [],
   "source": []
  },
  {
   "cell_type": "code",
   "execution_count": null,
   "id": "e61680fa-bbb5-46f5-867e-58f139c06b44",
   "metadata": {},
   "outputs": [],
   "source": []
  },
  {
   "cell_type": "code",
   "execution_count": null,
   "id": "c9bdad11-145d-47d2-99b7-e3e56ca450ff",
   "metadata": {},
   "outputs": [],
   "source": []
  },
  {
   "cell_type": "code",
   "execution_count": null,
   "id": "a20267c0-6085-422d-b561-3e286345e5fd",
   "metadata": {},
   "outputs": [],
   "source": []
  },
  {
   "cell_type": "code",
   "execution_count": null,
   "id": "92171446-b3e2-4350-90b9-cb20f4bb837b",
   "metadata": {},
   "outputs": [],
   "source": []
  },
  {
   "cell_type": "code",
   "execution_count": null,
   "id": "0533cf34-cdac-47a5-9cd5-8f87b65d8869",
   "metadata": {},
   "outputs": [],
   "source": []
  },
  {
   "cell_type": "code",
   "execution_count": null,
   "id": "0cda435a-379f-4a4a-9b24-a7db0466a4e1",
   "metadata": {},
   "outputs": [],
   "source": []
  },
  {
   "cell_type": "code",
   "execution_count": null,
   "id": "bd773c8d-d80c-460d-8247-f6b28c7a1ffe",
   "metadata": {},
   "outputs": [],
   "source": []
  },
  {
   "cell_type": "code",
   "execution_count": null,
   "id": "b0f41d4c-babd-4a03-bb35-43e09ec573fb",
   "metadata": {},
   "outputs": [],
   "source": []
  },
  {
   "cell_type": "code",
   "execution_count": null,
   "id": "189caa8d-ff96-4ac2-b925-ba33cf397899",
   "metadata": {},
   "outputs": [],
   "source": []
  },
  {
   "cell_type": "code",
   "execution_count": null,
   "id": "afe3bf1a-ce51-4f8d-8c2a-c2baf06c1bdd",
   "metadata": {},
   "outputs": [],
   "source": []
  },
  {
   "cell_type": "code",
   "execution_count": null,
   "id": "fdb5e1d4-1a80-4c42-b3e2-fdbdeefac4e6",
   "metadata": {},
   "outputs": [],
   "source": []
  },
  {
   "cell_type": "code",
   "execution_count": null,
   "id": "1f470357-c112-4c6f-864f-9694f5d99ef5",
   "metadata": {},
   "outputs": [],
   "source": []
  },
  {
   "cell_type": "code",
   "execution_count": null,
   "id": "063a66d4-cf8a-44c6-9c60-a28fa529a0aa",
   "metadata": {},
   "outputs": [],
   "source": []
  },
  {
   "cell_type": "code",
   "execution_count": null,
   "id": "09006386-239b-44d4-80dc-001d40ea71ad",
   "metadata": {},
   "outputs": [],
   "source": []
  },
  {
   "cell_type": "code",
   "execution_count": null,
   "id": "0212e700-0789-412f-a9ad-7e5542618619",
   "metadata": {},
   "outputs": [],
   "source": []
  },
  {
   "cell_type": "code",
   "execution_count": null,
   "id": "43371c72-f09d-4122-8c45-9016b990037f",
   "metadata": {},
   "outputs": [],
   "source": []
  },
  {
   "cell_type": "code",
   "execution_count": null,
   "id": "1a62cd18-7cfa-4a92-b1a1-7459ad3c826d",
   "metadata": {},
   "outputs": [],
   "source": []
  },
  {
   "cell_type": "code",
   "execution_count": null,
   "id": "cbf66004-248f-45cf-88b6-131ae00f6954",
   "metadata": {},
   "outputs": [],
   "source": []
  },
  {
   "cell_type": "code",
   "execution_count": null,
   "id": "d66670e7-68cb-46ec-9f5e-bda94d8417ac",
   "metadata": {},
   "outputs": [],
   "source": []
  },
  {
   "cell_type": "code",
   "execution_count": null,
   "id": "4dbddc78-76ad-46fa-9ff0-a12b6ca03f6f",
   "metadata": {},
   "outputs": [],
   "source": []
  },
  {
   "cell_type": "code",
   "execution_count": null,
   "id": "d64dca4b-38a0-4799-a6e9-3278b123fc13",
   "metadata": {},
   "outputs": [],
   "source": []
  },
  {
   "cell_type": "code",
   "execution_count": null,
   "id": "25548ac6-34c5-415e-a7a4-ed6f2d14147c",
   "metadata": {},
   "outputs": [],
   "source": []
  },
  {
   "cell_type": "code",
   "execution_count": null,
   "id": "a0e06c79-109c-4768-b508-f2aa9b311f6c",
   "metadata": {},
   "outputs": [],
   "source": []
  },
  {
   "cell_type": "code",
   "execution_count": null,
   "id": "342c7050-27ae-4aee-b103-956f2089b16d",
   "metadata": {},
   "outputs": [],
   "source": []
  },
  {
   "cell_type": "code",
   "execution_count": null,
   "id": "510b59b9-daa2-4637-a5dd-4afe634cdd83",
   "metadata": {},
   "outputs": [],
   "source": []
  },
  {
   "cell_type": "code",
   "execution_count": null,
   "id": "8198f080-59a6-4527-ab13-ec3df830c3db",
   "metadata": {},
   "outputs": [],
   "source": []
  },
  {
   "cell_type": "code",
   "execution_count": null,
   "id": "6154ff6e-5877-405c-8d08-5c9dd26b6dae",
   "metadata": {},
   "outputs": [],
   "source": []
  },
  {
   "cell_type": "code",
   "execution_count": null,
   "id": "c9aa72d9-58a9-4801-a528-0277b9946c10",
   "metadata": {},
   "outputs": [],
   "source": []
  },
  {
   "cell_type": "code",
   "execution_count": null,
   "id": "ccb59639-7842-4271-9bce-8577879a2f77",
   "metadata": {},
   "outputs": [],
   "source": []
  },
  {
   "cell_type": "code",
   "execution_count": null,
   "id": "397bc068-5ec3-4302-952e-bf5b34db6f24",
   "metadata": {},
   "outputs": [],
   "source": []
  },
  {
   "cell_type": "code",
   "execution_count": null,
   "id": "3bf2201d-9c4d-4ab4-90f3-6dee82ed68ea",
   "metadata": {},
   "outputs": [],
   "source": []
  },
  {
   "cell_type": "code",
   "execution_count": null,
   "id": "ab0edd52-812a-4cd0-909e-4b519c784d4e",
   "metadata": {},
   "outputs": [],
   "source": []
  },
  {
   "cell_type": "code",
   "execution_count": null,
   "id": "1469aac8-b724-4226-9232-c2e9f4845ae3",
   "metadata": {},
   "outputs": [],
   "source": []
  },
  {
   "cell_type": "code",
   "execution_count": null,
   "id": "1a0c9885-e5e7-4e5a-a733-d1180eaaa004",
   "metadata": {},
   "outputs": [],
   "source": []
  },
  {
   "cell_type": "code",
   "execution_count": null,
   "id": "5d7237c1-8f32-43f9-87a9-9cce817754e3",
   "metadata": {},
   "outputs": [],
   "source": []
  },
  {
   "cell_type": "code",
   "execution_count": null,
   "id": "1086a165-aee7-4f67-bc4b-97c660a2624c",
   "metadata": {},
   "outputs": [],
   "source": []
  },
  {
   "cell_type": "code",
   "execution_count": null,
   "id": "544877c5-38f0-4a97-a827-fb2e020fc5b8",
   "metadata": {},
   "outputs": [],
   "source": []
  },
  {
   "cell_type": "code",
   "execution_count": null,
   "id": "fa45c4d2-8d23-4864-82af-dd185a0f5b80",
   "metadata": {},
   "outputs": [],
   "source": []
  },
  {
   "cell_type": "code",
   "execution_count": null,
   "id": "012ffefe-cb95-4ace-9c73-1a27de031b93",
   "metadata": {},
   "outputs": [],
   "source": []
  },
  {
   "cell_type": "code",
   "execution_count": null,
   "id": "74917355-56ba-4ee8-902c-7eead24cccf4",
   "metadata": {},
   "outputs": [],
   "source": []
  },
  {
   "cell_type": "code",
   "execution_count": null,
   "id": "6a0359b3-a79d-4cb4-852f-817d5bd81a45",
   "metadata": {},
   "outputs": [],
   "source": []
  },
  {
   "cell_type": "code",
   "execution_count": null,
   "id": "b2abbfc7-3023-4c51-a40f-62a47dc79fcb",
   "metadata": {},
   "outputs": [],
   "source": []
  },
  {
   "cell_type": "code",
   "execution_count": null,
   "id": "e053cb5c-6fe2-4f14-90d5-f852df6705da",
   "metadata": {},
   "outputs": [],
   "source": []
  },
  {
   "cell_type": "code",
   "execution_count": null,
   "id": "7373623d-9d12-459f-a0a8-f2eb74be4cca",
   "metadata": {},
   "outputs": [],
   "source": []
  },
  {
   "cell_type": "code",
   "execution_count": null,
   "id": "1d97b76c-f19e-4a88-9f52-8ae4d475e807",
   "metadata": {},
   "outputs": [],
   "source": []
  },
  {
   "cell_type": "code",
   "execution_count": null,
   "id": "1fcecb7b-de43-4713-a9e7-5c3c55b215a0",
   "metadata": {},
   "outputs": [],
   "source": []
  },
  {
   "cell_type": "code",
   "execution_count": null,
   "id": "7f77a4e9-5709-4b90-937f-0f341e3deded",
   "metadata": {},
   "outputs": [],
   "source": []
  },
  {
   "cell_type": "code",
   "execution_count": null,
   "id": "b3101c2d-57d8-441c-85de-55aec8193e51",
   "metadata": {},
   "outputs": [],
   "source": []
  },
  {
   "cell_type": "code",
   "execution_count": null,
   "id": "2c457979-793e-4501-94e1-8028667c78b9",
   "metadata": {},
   "outputs": [],
   "source": []
  },
  {
   "cell_type": "code",
   "execution_count": null,
   "id": "cac2fc16-080a-4668-8972-e0928db78d1a",
   "metadata": {},
   "outputs": [],
   "source": []
  }
 ],
 "metadata": {
  "kernelspec": {
   "display_name": "Python 3 (ipykernel)",
   "language": "python",
   "name": "python3"
  },
  "language_info": {
   "codemirror_mode": {
    "name": "ipython",
    "version": 3
   },
   "file_extension": ".py",
   "mimetype": "text/x-python",
   "name": "python",
   "nbconvert_exporter": "python",
   "pygments_lexer": "ipython3",
   "version": "3.10.8"
  }
 },
 "nbformat": 4,
 "nbformat_minor": 5
}
