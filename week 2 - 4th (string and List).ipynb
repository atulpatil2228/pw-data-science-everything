{
 "cells": [
  {
   "cell_type": "code",
   "execution_count": 4,
   "id": "85fccb5c-5f3e-4642-acff-e790eb4a6d25",
   "metadata": {},
   "outputs": [],
   "source": [
    "name = \"pw skills\""
   ]
  },
  {
   "cell_type": "code",
   "execution_count": 5,
   "id": "dd86fe98-269c-4cc1-ac6e-a1b5a658112f",
   "metadata": {},
   "outputs": [
    {
     "data": {
      "text/plain": [
       "'PW SKILLS'"
      ]
     },
     "execution_count": 5,
     "metadata": {},
     "output_type": "execute_result"
    }
   ],
   "source": [
    "name.swapcase()"
   ]
  },
  {
   "cell_type": "code",
   "execution_count": 6,
   "id": "eec33244-d44c-40c0-b2ac-250be31cbde9",
   "metadata": {},
   "outputs": [
    {
     "data": {
      "text/plain": [
       "'Pw Skills'"
      ]
     },
     "execution_count": 6,
     "metadata": {},
     "output_type": "execute_result"
    }
   ],
   "source": [
    "name.title()"
   ]
  },
  {
   "cell_type": "code",
   "execution_count": 8,
   "id": "e8a21f67-7ca9-41b6-af81-5b87a6882630",
   "metadata": {},
   "outputs": [
    {
     "data": {
      "text/plain": [
       "'Pw skills'"
      ]
     },
     "execution_count": 8,
     "metadata": {},
     "output_type": "execute_result"
    }
   ],
   "source": [
    "name.capitalize()"
   ]
  },
  {
   "cell_type": "markdown",
   "id": "dd894623-efc4-4ef0-b5fc-f66f3033e1f5",
   "metadata": {},
   "source": [
    "# reversing a string"
   ]
  },
  {
   "cell_type": "code",
   "execution_count": 11,
   "id": "bd044c82-819a-483c-ab50-01e253c57de9",
   "metadata": {},
   "outputs": [
    {
     "data": {
      "text/plain": [
       "'pw skills'"
      ]
     },
     "execution_count": 11,
     "metadata": {},
     "output_type": "execute_result"
    }
   ],
   "source": [
    "name"
   ]
  },
  {
   "cell_type": "code",
   "execution_count": 9,
   "id": "b413ca16-9436-481a-a67c-b0ff6acb9997",
   "metadata": {},
   "outputs": [
    {
     "data": {
      "text/plain": [
       "'slliks wp'"
      ]
     },
     "execution_count": 9,
     "metadata": {},
     "output_type": "execute_result"
    }
   ],
   "source": [
    "name[::-1]"
   ]
  },
  {
   "cell_type": "code",
   "execution_count": 13,
   "id": "1eb11f94-4363-4655-a46f-1c998523a734",
   "metadata": {},
   "outputs": [
    {
     "data": {
      "text/plain": [
       "<reversed at 0x7f5f99d2a860>"
      ]
     },
     "execution_count": 13,
     "metadata": {},
     "output_type": "execute_result"
    }
   ],
   "source": [
    "reversed(name)"
   ]
  },
  {
   "cell_type": "code",
   "execution_count": 14,
   "id": "89722a0f-c89e-4bf2-8d9a-6d8a858878d8",
   "metadata": {},
   "outputs": [
    {
     "data": {
      "text/plain": [
       "'s l l i k s   w p'"
      ]
     },
     "execution_count": 14,
     "metadata": {},
     "output_type": "execute_result"
    }
   ],
   "source": [
    "' '.join(reversed(name))"
   ]
  },
  {
   "cell_type": "code",
   "execution_count": 15,
   "id": "a5643fb6-e165-48a1-86f2-3b9de51883fc",
   "metadata": {},
   "outputs": [
    {
     "data": {
      "text/plain": [
       "'apatiltpatilupatill'"
      ]
     },
     "execution_count": 15,
     "metadata": {},
     "output_type": "execute_result"
    }
   ],
   "source": [
    "\"patil\".join(\"atul\")"
   ]
  },
  {
   "cell_type": "code",
   "execution_count": 16,
   "id": "71e8bf50-98bc-4a1f-91de-f8909995e8a3",
   "metadata": {},
   "outputs": [
    {
     "data": {
      "text/plain": [
       "'a t u l'"
      ]
     },
     "execution_count": 16,
     "metadata": {},
     "output_type": "execute_result"
    }
   ],
   "source": [
    "\" \" .join(\"atul\")"
   ]
  },
  {
   "cell_type": "code",
   "execution_count": 17,
   "id": "3aa1a91d-620f-4b00-afca-bc3ff7ec7d01",
   "metadata": {},
   "outputs": [
    {
     "data": {
      "text/plain": [
       "'a n t'"
      ]
     },
     "execution_count": 17,
     "metadata": {},
     "output_type": "execute_result"
    }
   ],
   "source": [
    "' ' .join(\"ant\")"
   ]
  },
  {
   "cell_type": "code",
   "execution_count": 18,
   "id": "5992a032-7333-4ee6-b84a-d7be08d3685a",
   "metadata": {},
   "outputs": [
    {
     "data": {
      "text/plain": [
       "'t n a'"
      ]
     },
     "execution_count": 18,
     "metadata": {},
     "output_type": "execute_result"
    }
   ],
   "source": [
    "' ' .join (reversed(\"ant\"))"
   ]
  },
  {
   "cell_type": "code",
   "execution_count": 19,
   "id": "aa738276-5faa-4d89-b190-3860eaf05d57",
   "metadata": {},
   "outputs": [
    {
     "data": {
      "text/plain": [
       "'tna'"
      ]
     },
     "execution_count": 19,
     "metadata": {},
     "output_type": "execute_result"
    }
   ],
   "source": [
    "'' .join (reversed(\"ant\"))"
   ]
  },
  {
   "cell_type": "code",
   "execution_count": 21,
   "id": "0ed2c395-d913-4e05-a649-668416bcf8fb",
   "metadata": {},
   "outputs": [
    {
     "data": {
      "text/plain": [
       "'t pwskills n pwskills a'"
      ]
     },
     "execution_count": 21,
     "metadata": {},
     "output_type": "execute_result"
    }
   ],
   "source": [
    " ' pwskills ' .join (reversed(\"ant\"))"
   ]
  },
  {
   "cell_type": "code",
   "execution_count": 25,
   "id": "385cd39e-7ab2-4d28-a611-8f318a2f2535",
   "metadata": {},
   "outputs": [
    {
     "data": {
      "text/plain": [
       "['t', 'n', 'a']"
      ]
     },
     "execution_count": 25,
     "metadata": {},
     "output_type": "execute_result"
    }
   ],
   "source": [
    "## type casting(_important)\n",
    "list(reversed(\"ant\"))"
   ]
  },
  {
   "cell_type": "code",
   "execution_count": 29,
   "id": "346bff50-4961-4490-8dcb-d56fafc43fe7",
   "metadata": {},
   "outputs": [
    {
     "name": "stdout",
     "output_type": "stream",
     "text": [
      "slliks wp"
     ]
    }
   ],
   "source": [
    "for i in list(reversed(name)):\n",
    "    print(i,end= '')"
   ]
  },
  {
   "cell_type": "code",
   "execution_count": null,
   "id": "aa0e7d1a-79ec-43a2-9db7-005690ce10f1",
   "metadata": {},
   "outputs": [],
   "source": []
  },
  {
   "cell_type": "code",
   "execution_count": 23,
   "id": "dbb80052-b978-4788-bc54-e25f9b48bc55",
   "metadata": {},
   "outputs": [],
   "source": [
    "str1=\"PW is a good company\""
   ]
  },
  {
   "cell_type": "code",
   "execution_count": 24,
   "id": "367e2df2-548a-40e9-a046-4c607473e787",
   "metadata": {},
   "outputs": [
    {
     "data": {
      "text/plain": [
       "'PskillsWskills skillsiskillssskills skillsaskills skillsgskillsoskillsoskillsdskills skillscskillsoskillsmskillspskillsaskillsnskillsy'"
      ]
     },
     "execution_count": 24,
     "metadata": {},
     "output_type": "execute_result"
    }
   ],
   "source": [
    "\"skills\".join(str1)"
   ]
  },
  {
   "cell_type": "markdown",
   "id": "b5125f9c-938b-4a3e-9b5e-6b4f813cb22c",
   "metadata": {},
   "source": [
    "## removing character from the end of the things"
   ]
  },
  {
   "cell_type": "code",
   "execution_count": 30,
   "id": "8c5118a8-0901-4cde-8c01-b174e96f77f2",
   "metadata": {},
   "outputs": [],
   "source": [
    "string_a = \" pwskills \""
   ]
  },
  {
   "cell_type": "markdown",
   "id": "7ae2ba45-2b2a-49db-97e6-f329b6426b79",
   "metadata": {},
   "source": [
    "#####   Return a copy of the string with leading and trailing whitespace removed"
   ]
  },
  {
   "cell_type": "code",
   "execution_count": 31,
   "id": "99871757-2d5c-4722-a364-ec8e49df52a7",
   "metadata": {},
   "outputs": [
    {
     "data": {
      "text/plain": [
       "'pwskills'"
      ]
     },
     "execution_count": 31,
     "metadata": {},
     "output_type": "execute_result"
    }
   ],
   "source": [
    "string_a.strip(\" \")"
   ]
  },
  {
   "cell_type": "markdown",
   "id": "cce3c752-b249-4345-a4b4-f184b0bdca70",
   "metadata": {},
   "source": [
    "### Return a copy of the string with leading whitespace removed."
   ]
  },
  {
   "cell_type": "code",
   "execution_count": 32,
   "id": "db56eaeb-4c2a-49a9-ac20-d74f3e8ba378",
   "metadata": {},
   "outputs": [
    {
     "data": {
      "text/plain": [
       "'pwskills '"
      ]
     },
     "execution_count": 32,
     "metadata": {},
     "output_type": "execute_result"
    }
   ],
   "source": [
    "string_a.lstrip(\" \")"
   ]
  },
  {
   "cell_type": "markdown",
   "id": "f9ce5b6d-9df5-4c80-be96-04ee75e58f17",
   "metadata": {},
   "source": [
    "#### Return a copy of the string with trailing whitespace removed.\n"
   ]
  },
  {
   "cell_type": "code",
   "execution_count": 33,
   "id": "9b510b39-d243-4a1d-822d-9a1f94a0e4ac",
   "metadata": {},
   "outputs": [
    {
     "data": {
      "text/plain": [
       "' pwskills'"
      ]
     },
     "execution_count": 33,
     "metadata": {},
     "output_type": "execute_result"
    }
   ],
   "source": [
    "string_a.rstrip()"
   ]
  },
  {
   "cell_type": "markdown",
   "id": "5a1be7c8-bd4c-4efb-ae5c-a00eccd339b6",
   "metadata": {},
   "source": [
    "### Return a copy with all occurrences of substring old replaced by new.\n"
   ]
  },
  {
   "cell_type": "code",
   "execution_count": 35,
   "id": "608a13d9-61d2-40a3-ba8d-78fecb173494",
   "metadata": {},
   "outputs": [
    {
     "data": {
      "text/plain": [
       "'Greeting from Pwskills'"
      ]
     },
     "execution_count": 35,
     "metadata": {},
     "output_type": "execute_result"
    }
   ],
   "source": [
    "string_n = \"Greeting to Pwskills\"\n",
    "string_n.replace(\"to\",\"from\")"
   ]
  },
  {
   "cell_type": "code",
   "execution_count": 37,
   "id": "70a01e36-6aaa-41ab-b19b-3bebd1fb3e37",
   "metadata": {},
   "outputs": [
    {
     "data": {
      "text/plain": [
       "'welcome to Pwskills'"
      ]
     },
     "execution_count": 37,
     "metadata": {},
     "output_type": "execute_result"
    }
   ],
   "source": [
    "string_n = \"Greeting to Pwskills\"\n",
    "string_n.replace(\"Greeting\",\"welcome\")"
   ]
  },
  {
   "cell_type": "code",
   "execution_count": 41,
   "id": "1b8d4bb4-35f3-4bb5-80df-d6c7d3c8fa94",
   "metadata": {},
   "outputs": [],
   "source": [
    "string_n = \"Greeting to Pwskills\"\n",
    "var_a =string_n.replace(\"G\",\"T\")"
   ]
  },
  {
   "cell_type": "code",
   "execution_count": 42,
   "id": "e21c969d-d152-4fb5-a7dd-f0fa6ffab423",
   "metadata": {},
   "outputs": [
    {
     "name": "stdout",
     "output_type": "stream",
     "text": [
      "140048577555200\n",
      "140048577552560\n"
     ]
    }
   ],
   "source": [
    "print(id(string_n))\n",
    "print(id(var_a))"
   ]
  },
  {
   "cell_type": "code",
   "execution_count": 43,
   "id": "e20ae14d-9491-4720-a1bb-c50b998154fc",
   "metadata": {},
   "outputs": [
    {
     "data": {
      "text/plain": [
       "'hello world'"
      ]
     },
     "execution_count": 43,
     "metadata": {},
     "output_type": "execute_result"
    }
   ],
   "source": [
    "'hello world'"
   ]
  },
  {
   "cell_type": "markdown",
   "id": "29fb7575-2fb0-468d-9b12-8db269278b9b",
   "metadata": {},
   "source": [
    "###    where \\t is there and if we use expandtabs we get space between them|"
   ]
  },
  {
   "cell_type": "code",
   "execution_count": 45,
   "id": "05d26a85-6733-45aa-bce4-6f9e8bc040b8",
   "metadata": {},
   "outputs": [
    {
     "data": {
      "text/plain": [
       "'hello    world'"
      ]
     },
     "execution_count": 45,
     "metadata": {},
     "output_type": "execute_result"
    }
   ],
   "source": [
    "'hello \\t world'.expandtabs()"
   ]
  },
  {
   "cell_type": "markdown",
   "id": "6ba601e9-e5f6-4ad1-996f-795da0907ce4",
   "metadata": {},
   "source": [
    "## problem solving"
   ]
  },
  {
   "cell_type": "code",
   "execution_count": 13,
   "id": "76d9c1bd-ed69-45a0-88c1-ca23b9b5f11a",
   "metadata": {},
   "outputs": [],
   "source": [
    "str1 = \"Welcome to pwskills.Welcome to dat cience Masters\""
   ]
  },
  {
   "cell_type": "code",
   "execution_count": 51,
   "id": "bf9d12c6-6440-44ba-9017-7ea24dd0d164",
   "metadata": {},
   "outputs": [
    {
     "data": {
      "text/plain": [
       "'Welcome to pwskills.Welcome to data science Masters'"
      ]
     },
     "execution_count": 51,
     "metadata": {},
     "output_type": "execute_result"
    }
   ],
   "source": [
    "str1.replace(\"dat\", \"data\", ).replace(\"cience\",\"science\")"
   ]
  },
  {
   "cell_type": "markdown",
   "id": "8ea4a9fb-2c28-4a69-ad2a-cd17cb32520f",
   "metadata": {},
   "source": [
    " ## Return True if the string is an uppercase string, False otherwise."
   ]
  },
  {
   "cell_type": "code",
   "execution_count": 52,
   "id": "53d8ee6d-a2ac-47b3-96e4-72f791133fee",
   "metadata": {},
   "outputs": [
    {
     "data": {
      "text/plain": [
       "False"
      ]
     },
     "execution_count": 52,
     "metadata": {},
     "output_type": "execute_result"
    }
   ],
   "source": [
    "str1.isupper()"
   ]
  },
  {
   "cell_type": "markdown",
   "id": "9425682a-f750-4532-b1d1-3aa2e01a6ad1",
   "metadata": {},
   "source": [
    "### Return True if the string is a lowercase string, False otherwise.\n"
   ]
  },
  {
   "cell_type": "code",
   "execution_count": 54,
   "id": "206213b0-e23e-41e4-b5c2-8e03bb6e57b9",
   "metadata": {},
   "outputs": [
    {
     "data": {
      "text/plain": [
       "False"
      ]
     },
     "execution_count": 54,
     "metadata": {},
     "output_type": "execute_result"
    }
   ],
   "source": [
    "str1.islower()"
   ]
  },
  {
   "cell_type": "markdown",
   "id": "9a861342-7f1a-4a8b-8da7-68636542e8b5",
   "metadata": {},
   "source": [
    "## Return True if the string is a whitespace string, False otherwise.\n"
   ]
  },
  {
   "cell_type": "code",
   "execution_count": 55,
   "id": "9a8318b1-caa5-4f4b-9e12-ab8646961284",
   "metadata": {},
   "outputs": [
    {
     "data": {
      "text/plain": [
       "False"
      ]
     },
     "execution_count": 55,
     "metadata": {},
     "output_type": "execute_result"
    }
   ],
   "source": [
    "str1.isspace()"
   ]
  },
  {
   "cell_type": "markdown",
   "id": "b02a45c0-b881-4849-aee2-df74bc47acbb",
   "metadata": {},
   "source": [
    "## white space means blank like \"   \""
   ]
  },
  {
   "cell_type": "code",
   "execution_count": 78,
   "id": "7554d28a-482b-4e57-bd52-5ca99909c31a",
   "metadata": {},
   "outputs": [
    {
     "data": {
      "text/plain": [
       "str"
      ]
     },
     "execution_count": 78,
     "metadata": {},
     "output_type": "execute_result"
    }
   ],
   "source": [
    "name =  \"   \"\n",
    "type(name)"
   ]
  },
  {
   "cell_type": "markdown",
   "id": "dae32ede-7042-4d40-ac65-1e68997246c3",
   "metadata": {},
   "source": [
    "#### Return True if the string is a whitespace string, False otherwise.\n"
   ]
  },
  {
   "cell_type": "code",
   "execution_count": 79,
   "id": "ab2a2c8f-b7e7-49b9-b2a6-e8388d5a5c9e",
   "metadata": {},
   "outputs": [
    {
     "data": {
      "text/plain": [
       "True"
      ]
     },
     "execution_count": 79,
     "metadata": {},
     "output_type": "execute_result"
    }
   ],
   "source": [
    "name.isspace()"
   ]
  },
  {
   "cell_type": "code",
   "execution_count": 11,
   "id": "e20b4757-f5d5-4464-a85d-d0deb78f22d8",
   "metadata": {},
   "outputs": [],
   "source": [
    "str2 = \"pwskills\""
   ]
  },
  {
   "cell_type": "code",
   "execution_count": 88,
   "id": "89ff41a6-9028-4619-a07d-cf06dd9446d0",
   "metadata": {},
   "outputs": [
    {
     "data": {
      "text/plain": [
       "True"
      ]
     },
     "execution_count": 88,
     "metadata": {},
     "output_type": "execute_result"
    }
   ],
   "source": [
    "str2.endswith(\"s\")"
   ]
  },
  {
   "cell_type": "code",
   "execution_count": 89,
   "id": "74925fde-f3cb-4fa5-ab31-c48a2a60111c",
   "metadata": {},
   "outputs": [
    {
     "data": {
      "text/plain": [
       "True"
      ]
     },
     "execution_count": 89,
     "metadata": {},
     "output_type": "execute_result"
    }
   ],
   "source": [
    "str2.startswith('p')"
   ]
  },
  {
   "cell_type": "markdown",
   "id": "9e952ac9-3f5c-4862-9b02-89746dae2b29",
   "metadata": {},
   "source": [
    "#### check all the characters are alphanumeric"
   ]
  },
  {
   "cell_type": "code",
   "execution_count": 91,
   "id": "dc89e762-56ab-4c2b-ace8-3c4888a4f873",
   "metadata": {},
   "outputs": [
    {
     "data": {
      "text/plain": [
       "True"
      ]
     },
     "execution_count": 91,
     "metadata": {},
     "output_type": "execute_result"
    }
   ],
   "source": [
    "a= \"abcd1234\"\n",
    "a.isalnum()"
   ]
  },
  {
   "cell_type": "markdown",
   "id": "6280d858-475b-4235-a75a-8320619f933c",
   "metadata": {},
   "source": [
    "### to count the number of characters in the count"
   ]
  },
  {
   "cell_type": "code",
   "execution_count": 92,
   "id": "bb626059-fcb5-4c9f-90a0-17563247e7a2",
   "metadata": {},
   "outputs": [
    {
     "name": "stdout",
     "output_type": "stream",
     "text": [
      "8\n"
     ]
    }
   ],
   "source": [
    "count = 0\n",
    "for i in str2:\n",
    "    count=count+1\n",
    "    \n",
    "print(count)    "
   ]
  },
  {
   "cell_type": "code",
   "execution_count": 93,
   "id": "3b551a08-360e-45ff-95f1-a806677ae7b1",
   "metadata": {},
   "outputs": [
    {
     "data": {
      "text/plain": [
       "8"
      ]
     },
     "execution_count": 93,
     "metadata": {},
     "output_type": "execute_result"
    }
   ],
   "source": [
    "len(str2)"
   ]
  },
  {
   "cell_type": "code",
   "execution_count": 1,
   "id": "9c4165eb-f1a6-4ece-9b90-b41080956d98",
   "metadata": {},
   "outputs": [],
   "source": [
    "str2 = \"pwskills\""
   ]
  },
  {
   "cell_type": "code",
   "execution_count": 3,
   "id": "46f978c9-d5aa-41b5-bf32-a4049eb1be09",
   "metadata": {},
   "outputs": [
    {
     "name": "stdout",
     "output_type": "stream",
     "text": [
      "p\n",
      "w\n",
      "s\n",
      "k\n",
      "i\n",
      "l\n",
      "l\n",
      "s\n"
     ]
    }
   ],
   "source": [
    "for i in range(len(str2)):\n",
    "    print(str2[i])"
   ]
  },
  {
   "cell_type": "code",
   "execution_count": null,
   "id": "6db1d8a6-8034-4c9e-b4d7-4a1397665210",
   "metadata": {},
   "outputs": [],
   "source": []
  },
  {
   "cell_type": "code",
   "execution_count": 2,
   "id": "7ea8aa23-2fa2-41d6-8215-518e8459db50",
   "metadata": {},
   "outputs": [
    {
     "name": "stdout",
     "output_type": "stream",
     "text": [
      "p\n",
      "w\n",
      "s\n",
      "k\n",
      "i\n",
      "l\n",
      "l\n",
      "s\n"
     ]
    }
   ],
   "source": [
    "for i in str2:\n",
    "    print(i)"
   ]
  },
  {
   "cell_type": "code",
   "execution_count": 99,
   "id": "e44e1628-d0ad-4981-8521-149411bd3ab6",
   "metadata": {},
   "outputs": [
    {
     "data": {
      "text/plain": [
       "range(0, 8)"
      ]
     },
     "execution_count": 99,
     "metadata": {},
     "output_type": "execute_result"
    }
   ],
   "source": [
    "range(len(str2))"
   ]
  },
  {
   "cell_type": "code",
   "execution_count": 101,
   "id": "9c18f0ca-2c32-4b9f-aed9-c7da0f66a20a",
   "metadata": {},
   "outputs": [
    {
     "name": "stdout",
     "output_type": "stream",
     "text": [
      "0 = p\n",
      "1 = w\n",
      "2 = s\n",
      "3 = k\n",
      "4 = i\n",
      "5 = l\n",
      "6 = l\n",
      "7 = s\n"
     ]
    }
   ],
   "source": [
    "for i in range(len(str2)):\n",
    "    print(i,\"=\",str2[i])"
   ]
  },
  {
   "cell_type": "code",
   "execution_count": null,
   "id": "93f71db4-6dc8-4e5b-8014-9fc4da44a811",
   "metadata": {},
   "outputs": [],
   "source": [
    "str2"
   ]
  },
  {
   "cell_type": "markdown",
   "id": "b1c6140e-53b1-4251-9131-f5be305520b1",
   "metadata": {},
   "source": [
    "## we can use index to iterate string reverse direction\n"
   ]
  },
  {
   "cell_type": "code",
   "execution_count": 2,
   "id": "b8525841-477a-405e-8724-9403c91bdeb2",
   "metadata": {},
   "outputs": [
    {
     "name": "stdout",
     "output_type": "stream",
     "text": [
      "s\n",
      "l\n",
      "l\n",
      "i\n",
      "k\n",
      "s\n",
      "w\n",
      "p\n"
     ]
    }
   ],
   "source": [
    "for i in range (len(str2)-1,-1,-1):\n",
    "    print(str2[i])"
   ]
  },
  {
   "cell_type": "code",
   "execution_count": 8,
   "id": "98768e37-eb15-4d67-a3b8-d37c4a2f58e6",
   "metadata": {},
   "outputs": [
    {
     "name": "stdout",
     "output_type": "stream",
     "text": [
      "s\n",
      "l\n",
      "l\n",
      "i\n",
      "k\n",
      "s\n",
      "w\n",
      "p\n"
     ]
    }
   ],
   "source": [
    "string = \"pwskills\"\n",
    "ch = len(string)-1\n",
    "while ch >= 0:\n",
    "    print(string[ch])\n",
    "    ch = ch-1"
   ]
  },
  {
   "cell_type": "code",
   "execution_count": 1,
   "id": "eb0676f7-fc74-487a-840f-c9ada717d9e4",
   "metadata": {},
   "outputs": [
    {
     "name": "stdout",
     "output_type": "stream",
     "text": [
      "s\n",
      "l\n",
      "l\n",
      "i\n",
      "k\n",
      "s\n",
      "w\n",
      "p\n"
     ]
    }
   ],
   "source": [
    "string = \"pwskills\"\n",
    "ch = len(string)-1\n",
    "while ch >= 0 :\n",
    "    print(string[ch])\n",
    "    ch = ch -1"
   ]
  },
  {
   "cell_type": "code",
   "execution_count": null,
   "id": "6f6a6bbf-28c2-4b50-a586-1953e7ea99b7",
   "metadata": {},
   "outputs": [],
   "source": []
  },
  {
   "cell_type": "code",
   "execution_count": null,
   "id": "bfb3e707-57f1-4b6f-b9dc-945ceaea5def",
   "metadata": {},
   "outputs": [],
   "source": []
  },
  {
   "cell_type": "code",
   "execution_count": 11,
   "id": "145bf0fa-2fcd-4578-89f1-8dc4361836a2",
   "metadata": {},
   "outputs": [
    {
     "name": "stdout",
     "output_type": "stream",
     "text": [
      "sllikswp"
     ]
    }
   ],
   "source": [
    "## to print in single line\n",
    "for i in range (len(string)):\n",
    "    print(string[len(string) - (i + 1)],end=\"\")"
   ]
  },
  {
   "cell_type": "code",
   "execution_count": 19,
   "id": "eb59fdb7-6791-4e32-bde4-d333eba2cca7",
   "metadata": {},
   "outputs": [
    {
     "name": "stdout",
     "output_type": "stream",
     "text": [
      "p is not a vowels\n",
      "w is not a vowels\n",
      "s is not a vowels\n",
      "k is not a vowels\n",
      "i is a vowels\n",
      "l is not a vowels\n",
      "l is not a vowels\n",
      "s is not a vowels\n"
     ]
    }
   ],
   "source": [
    "Name = \"pwskills\"\n",
    "vowels = \"AaEeIiOoUu\"\n",
    "for ch in Name:\n",
    "    if ch in vowels:\n",
    "        print(\"{} is a vowels\".format(ch))\n",
    "    else:\n",
    "        print(\"{} is not a vowels\".format(ch))\n",
    "        \n",
    "      "
   ]
  },
  {
   "cell_type": "code",
   "execution_count": 2,
   "id": "3beae23b-e892-4152-b8b5-abd26fed60b2",
   "metadata": {},
   "outputs": [
    {
     "name": "stdout",
     "output_type": "stream",
     "text": [
      "It is not a  vowel p\n",
      "It is not a  vowel w\n",
      "It is not a  vowel s\n",
      "It is not a  vowel k\n",
      "It is a vowel i\n",
      "It is not a  vowel l\n",
      "It is not a  vowel l\n",
      "It is not a  vowel s\n"
     ]
    }
   ],
   "source": [
    "Name = \"pwskills\"\n",
    "Vowels = \"AaEeIiOoUu\"\n",
    "for ch in Name :\n",
    "    if ch in Vowels :\n",
    "        print(\"It is a vowel {}\".format(ch))\n",
    "    else:\n",
    "        print(\"It is not a  vowel {}\".format(ch))\n",
    "        "
   ]
  },
  {
   "cell_type": "code",
   "execution_count": null,
   "id": "dc174b3d-5818-4fbc-8159-d86c4b23d7e0",
   "metadata": {},
   "outputs": [],
   "source": []
  },
  {
   "cell_type": "code",
   "execution_count": null,
   "id": "f2c5fe42-d570-477b-8b78-406cc37a38dc",
   "metadata": {},
   "outputs": [],
   "source": []
  },
  {
   "cell_type": "code",
   "execution_count": null,
   "id": "4b451fe4-28ff-4e08-a8bc-3f5b6018db14",
   "metadata": {},
   "outputs": [],
   "source": []
  },
  {
   "cell_type": "markdown",
   "id": "fe8bc179-38fe-4f21-88c5-3fe3c1c0c5f0",
   "metadata": {},
   "source": [
    "# list"
   ]
  },
  {
   "cell_type": "code",
   "execution_count": 3,
   "id": "51fc9dcc-0480-4661-b827-a2ac9d4e505d",
   "metadata": {},
   "outputs": [
    {
     "data": {
      "text/plain": [
       "[]"
      ]
     },
     "execution_count": 3,
     "metadata": {},
     "output_type": "execute_result"
    }
   ],
   "source": [
    "[]"
   ]
  },
  {
   "cell_type": "code",
   "execution_count": 21,
   "id": "0a9ff0c0-3f53-4422-8b79-03636678b7d2",
   "metadata": {},
   "outputs": [
    {
     "data": {
      "text/plain": [
       "list"
      ]
     },
     "execution_count": 21,
     "metadata": {},
     "output_type": "execute_result"
    }
   ],
   "source": [
    "type([])"
   ]
  },
  {
   "cell_type": "code",
   "execution_count": 8,
   "id": "0d0740ff-8769-402c-a5c8-3817ba173647",
   "metadata": {},
   "outputs": [
    {
     "data": {
      "text/plain": [
       "['Atul', 'PAtil', 'Pwskills']"
      ]
     },
     "execution_count": 8,
     "metadata": {},
     "output_type": "execute_result"
    }
   ],
   "source": [
    "[\"Atul\",\"PAtil\", \"Pwskills\"]"
   ]
  },
  {
   "cell_type": "code",
   "execution_count": 7,
   "id": "1fdbbcc0-26fa-4403-a4b5-e66a7f129f25",
   "metadata": {},
   "outputs": [
    {
     "data": {
      "text/plain": [
       "list"
      ]
     },
     "execution_count": 7,
     "metadata": {},
     "output_type": "execute_result"
    }
   ],
   "source": [
    "type ([\"Atul\",\"PAtil\"])"
   ]
  },
  {
   "cell_type": "code",
   "execution_count": 9,
   "id": "64666fee-ac24-481a-b3eb-acf4c9456575",
   "metadata": {},
   "outputs": [
    {
     "data": {
      "text/plain": [
       "[1, 2, 3, 4]"
      ]
     },
     "execution_count": 9,
     "metadata": {},
     "output_type": "execute_result"
    }
   ],
   "source": [
    "list([1,2,3,4,])"
   ]
  },
  {
   "cell_type": "code",
   "execution_count": 12,
   "id": "877ad171-707d-4b49-9f09-dd054d911d8c",
   "metadata": {},
   "outputs": [
    {
     "data": {
      "text/plain": [
       "['p', 'w', 's', 'k', 'i', 'l', 'l', 's']"
      ]
     },
     "execution_count": 12,
     "metadata": {},
     "output_type": "execute_result"
    }
   ],
   "source": [
    "list(str2)"
   ]
  },
  {
   "cell_type": "code",
   "execution_count": 45,
   "id": "7d457865-7563-4e4f-8a5d-83c718a37ba2",
   "metadata": {},
   "outputs": [],
   "source": [
    "str1 = \"Welcome to pwskills Welcome to data  science Masters\""
   ]
  },
  {
   "cell_type": "code",
   "execution_count": 12,
   "id": "76de770a-3153-4672-996e-e5fcfb8e20b0",
   "metadata": {},
   "outputs": [
    {
     "data": {
      "text/plain": [
       "['Welcome to pwskills Welcome to data', 'science Masters']"
      ]
     },
     "execution_count": 12,
     "metadata": {},
     "output_type": "execute_result"
    }
   ],
   "source": [
    "list(str1.split(\"  \"))"
   ]
  },
  {
   "cell_type": "code",
   "execution_count": 16,
   "id": "72466e26-27d2-4f43-b967-d6b9d1c0c25a",
   "metadata": {},
   "outputs": [],
   "source": [
    "lst1 = str1.split(\"  \")\n"
   ]
  },
  {
   "cell_type": "code",
   "execution_count": 44,
   "id": "756811cf-5570-4c08-bf3e-50f2b38b511f",
   "metadata": {},
   "outputs": [
    {
     "data": {
      "text/plain": [
       "['Welcome to pwskills Welcome to data', 'atul']"
      ]
     },
     "execution_count": 44,
     "metadata": {},
     "output_type": "execute_result"
    }
   ],
   "source": [
    "lst1 "
   ]
  },
  {
   "cell_type": "code",
   "execution_count": 18,
   "id": "70d9d49c-4ae3-4068-8968-6720636aed26",
   "metadata": {},
   "outputs": [
    {
     "data": {
      "text/plain": [
       "'science Masters'"
      ]
     },
     "execution_count": 18,
     "metadata": {},
     "output_type": "execute_result"
    }
   ],
   "source": [
    "lst1[1]"
   ]
  },
  {
   "cell_type": "code",
   "execution_count": 25,
   "id": "7e43381c-ae1a-484e-8c48-f62b8a7ea128",
   "metadata": {},
   "outputs": [],
   "source": [
    "lst1[-1]  = \"atul\""
   ]
  },
  {
   "cell_type": "code",
   "execution_count": 26,
   "id": "11ae114d-5e8b-4dac-9563-9054cdeeb9bf",
   "metadata": {},
   "outputs": [
    {
     "data": {
      "text/plain": [
       "['Welcome to pwskills Welcome to data', 'atul']"
      ]
     },
     "execution_count": 26,
     "metadata": {},
     "output_type": "execute_result"
    }
   ],
   "source": [
    "lst1"
   ]
  },
  {
   "cell_type": "code",
   "execution_count": 33,
   "id": "01c655c5-b74a-49fe-99e7-1554aee1c141",
   "metadata": {},
   "outputs": [
    {
     "data": {
      "text/plain": [
       "['atul']"
      ]
     },
     "execution_count": 33,
     "metadata": {},
     "output_type": "execute_result"
    }
   ],
   "source": [
    "lst1[5::-3]"
   ]
  },
  {
   "cell_type": "markdown",
   "id": "dcb3cb53-3b88-46db-8484-ca5e7ee026d5",
   "metadata": {},
   "source": [
    "## concatenation operation"
   ]
  },
  {
   "cell_type": "code",
   "execution_count": 34,
   "id": "7341e5d2-90fa-45d3-b5ec-06cf483432df",
   "metadata": {},
   "outputs": [
    {
     "data": {
      "text/plain": [
       "['Welcome to pwskills Welcome to data', 'atul', 'new element', 3]"
      ]
     },
     "execution_count": 34,
     "metadata": {},
     "output_type": "execute_result"
    }
   ],
   "source": [
    "lst1 + [\"new element\",3]"
   ]
  },
  {
   "cell_type": "markdown",
   "id": "4a175bde-6380-4fdc-8e52-c8dbfe397fb1",
   "metadata": {},
   "source": [
    "## multinested list"
   ]
  },
  {
   "cell_type": "code",
   "execution_count": 37,
   "id": "28c50d23-579d-482f-b2e2-e58284866c13",
   "metadata": {},
   "outputs": [],
   "source": [
    "lst2 = lst1 + [[\"new element\",3]]"
   ]
  },
  {
   "cell_type": "code",
   "execution_count": 36,
   "id": "c159a27e-5d7b-40ae-af8c-8f1b06fd05fa",
   "metadata": {},
   "outputs": [],
   "source": [
    "## TO iterate into it"
   ]
  },
  {
   "cell_type": "code",
   "execution_count": 38,
   "id": "3f170a2b-7b2c-44c8-8a64-e28960e13e73",
   "metadata": {},
   "outputs": [
    {
     "data": {
      "text/plain": [
       "['Welcome to pwskills Welcome to data', 'atul', ['new element', 3]]"
      ]
     },
     "execution_count": 38,
     "metadata": {},
     "output_type": "execute_result"
    }
   ],
   "source": [
    "lst2"
   ]
  },
  {
   "cell_type": "code",
   "execution_count": 40,
   "id": "477efbd2-1e6e-4319-8274-473d3dc6296b",
   "metadata": {},
   "outputs": [
    {
     "data": {
      "text/plain": [
       "'new element'"
      ]
     },
     "execution_count": 40,
     "metadata": {},
     "output_type": "execute_result"
    }
   ],
   "source": [
    "lst2[-1][0]"
   ]
  },
  {
   "cell_type": "code",
   "execution_count": null,
   "id": "27ec008f-4bf2-43f5-b557-7e5215afa3ab",
   "metadata": {},
   "outputs": [],
   "source": []
  },
  {
   "cell_type": "code",
   "execution_count": 64,
   "id": "00894328-48d4-4308-9cf1-98d769ccc473",
   "metadata": {},
   "outputs": [
    {
     "data": {
      "text/plain": [
       "' Welcome to pwskills Welcome to data  science Masters  Welcome to pwskills Welcome to data  science Masters '"
      ]
     },
     "execution_count": 64,
     "metadata": {},
     "output_type": "execute_result"
    }
   ],
   "source": [
    "lst1 * 2"
   ]
  },
  {
   "cell_type": "code",
   "execution_count": 62,
   "id": "255fca33-cb33-4873-8c9f-9d75ad567d72",
   "metadata": {},
   "outputs": [],
   "source": [
    "lst1 =\" Welcome to pwskills Welcome to data  science Masters \""
   ]
  },
  {
   "cell_type": "code",
   "execution_count": 70,
   "id": "b337fd66-a60d-44c8-bf76-a7c67085861f",
   "metadata": {},
   "outputs": [
    {
     "data": {
      "text/plain": [
       "' Welcome to pwskills Welcome to data  science Masters '"
      ]
     },
     "execution_count": 70,
     "metadata": {},
     "output_type": "execute_result"
    }
   ],
   "source": [
    "lst1"
   ]
  },
  {
   "cell_type": "code",
   "execution_count": 74,
   "id": "f2840446-4bed-4aaa-b266-ad81f598f08c",
   "metadata": {},
   "outputs": [
    {
     "name": "stdout",
     "output_type": "stream",
     "text": [
      " \n",
      "W\n",
      "e\n",
      "l\n",
      "c\n",
      "o\n",
      "m\n",
      "e\n",
      " \n",
      "t\n",
      "o\n",
      " \n",
      "p\n",
      "w\n",
      "s\n",
      "k\n",
      "i\n",
      "l\n",
      "l\n",
      "s\n",
      " \n",
      "W\n",
      "e\n",
      "l\n",
      "c\n",
      "o\n",
      "m\n",
      "e\n",
      " \n",
      "t\n",
      "o\n",
      " \n",
      "d\n",
      "a\n",
      "t\n",
      "a\n",
      " \n",
      " \n",
      "s\n",
      "c\n",
      "i\n",
      "e\n",
      "n\n",
      "c\n",
      "e\n",
      " \n",
      "M\n",
      "a\n",
      "s\n",
      "t\n",
      "e\n",
      "r\n",
      "s\n",
      " \n"
     ]
    }
   ],
   "source": [
    "for elements in lst1:\n",
    "    print(elements)"
   ]
  },
  {
   "cell_type": "code",
   "execution_count": 71,
   "id": "e52edb32-bc98-4b6a-a686-ee587e57cb9a",
   "metadata": {},
   "outputs": [
    {
     "name": "stdout",
     "output_type": "stream",
     "text": [
      "present\n"
     ]
    }
   ],
   "source": [
    "if \"science\" in lst1:\n",
    "    print(\"present\")"
   ]
  },
  {
   "cell_type": "code",
   "execution_count": 76,
   "id": "4c29e62a-1ce7-431c-a684-2ae750533f75",
   "metadata": {},
   "outputs": [],
   "source": [
    "for elements in lst1:\n",
    "    if elements == \"science\" :\n",
    "        print(elements)\n",
    "        break"
   ]
  },
  {
   "cell_type": "code",
   "execution_count": null,
   "id": "d7041c0a-7bc9-4dc5-9a8f-c2cc1ddc1d58",
   "metadata": {},
   "outputs": [],
   "source": []
  },
  {
   "cell_type": "code",
   "execution_count": 73,
   "id": "7f0d5bae-47b0-4ac3-84c2-f8f14fe7476e",
   "metadata": {},
   "outputs": [
    {
     "data": {
      "text/plain": [
       "True"
      ]
     },
     "execution_count": 73,
     "metadata": {},
     "output_type": "execute_result"
    }
   ],
   "source": [
    "### check element inside a list\n",
    "lst = [1,2,3,4]\n",
    "4 in lst"
   ]
  },
  {
   "cell_type": "code",
   "execution_count": 81,
   "id": "a168423b-7fd2-422c-8b9e-28be40afe998",
   "metadata": {},
   "outputs": [],
   "source": [
    "lst1= [\"Zebra\",\"Monkey\",\"Donkey\",\"Lion\"]\n",
    "lst2=[5,6,7,8,9,6]"
   ]
  },
  {
   "cell_type": "code",
   "execution_count": 79,
   "id": "f8d34019-c974-49ab-9cb8-db890af93b9f",
   "metadata": {},
   "outputs": [
    {
     "name": "stdout",
     "output_type": "stream",
     "text": [
      "Zebra\n"
     ]
    }
   ],
   "source": [
    "print(max(lst1))"
   ]
  },
  {
   "cell_type": "code",
   "execution_count": 82,
   "id": "8093cf29-6fd2-46ca-8b20-08dca4fb3a77",
   "metadata": {},
   "outputs": [
    {
     "name": "stdout",
     "output_type": "stream",
     "text": [
      "9\n"
     ]
    }
   ],
   "source": [
    "print(max(lst2))"
   ]
  },
  {
   "cell_type": "code",
   "execution_count": 83,
   "id": "688bae91-0913-4f3d-ab52-3f2573908857",
   "metadata": {},
   "outputs": [
    {
     "name": "stdout",
     "output_type": "stream",
     "text": [
      "5\n"
     ]
    }
   ],
   "source": [
    "print(min(lst2))"
   ]
  },
  {
   "cell_type": "code",
   "execution_count": 84,
   "id": "1ae478a3-d35c-43f1-8e16-3c74a9d34756",
   "metadata": {},
   "outputs": [
    {
     "name": "stdout",
     "output_type": "stream",
     "text": [
      "Donkey\n"
     ]
    }
   ],
   "source": [
    "print(min(lst1))"
   ]
  },
  {
   "cell_type": "markdown",
   "id": "c85dffae-2102-46c1-98bc-25810bb498bd",
   "metadata": {},
   "source": [
    "## Append (updated)"
   ]
  },
  {
   "cell_type": "code",
   "execution_count": 5,
   "id": "5e5621e9-fded-4351-9708-dd04135d34d1",
   "metadata": {},
   "outputs": [],
   "source": [
    "lst =[1,2,3,4,5,6]"
   ]
  },
  {
   "cell_type": "code",
   "execution_count": 86,
   "id": "1a1177c8-35b4-4bbe-be45-22b8fe593ae5",
   "metadata": {},
   "outputs": [
    {
     "data": {
      "text/plain": [
       "[1, 2, 3, 4, 5, 6]"
      ]
     },
     "execution_count": 86,
     "metadata": {},
     "output_type": "execute_result"
    }
   ],
   "source": [
    "lst"
   ]
  },
  {
   "cell_type": "code",
   "execution_count": 90,
   "id": "6b42a1ad-d4cf-41a9-82f6-a573ae3719f2",
   "metadata": {},
   "outputs": [],
   "source": [
    "lst.append(\"pwskills\")"
   ]
  },
  {
   "cell_type": "code",
   "execution_count": 91,
   "id": "1eca8b2c-5c17-4ea5-97ae-428af8faf164",
   "metadata": {},
   "outputs": [
    {
     "data": {
      "text/plain": [
       "[1, 2, 3, 4, 5, 6, 'pwskills', 'pwskills', 'pwskills']"
      ]
     },
     "execution_count": 91,
     "metadata": {},
     "output_type": "execute_result"
    }
   ],
   "source": [
    "lst"
   ]
  },
  {
   "cell_type": "code",
   "execution_count": 93,
   "id": "52476b26-8ee2-41f3-be52-f0f91f14658e",
   "metadata": {},
   "outputs": [],
   "source": [
    "lst.append([\"atul\",\"patil\"])"
   ]
  },
  {
   "cell_type": "code",
   "execution_count": 94,
   "id": "deb66448-d668-4ffe-94a9-db7784394f1c",
   "metadata": {},
   "outputs": [
    {
     "data": {
      "text/plain": [
       "[1, 2, 3, 4, 5, 6, 'pwskills', 'pwskills', 'pwskills', ['atul', 'patil']]"
      ]
     },
     "execution_count": 94,
     "metadata": {},
     "output_type": "execute_result"
    }
   ],
   "source": [
    "lst"
   ]
  },
  {
   "cell_type": "code",
   "execution_count": 6,
   "id": "661fa5fe-ff29-46b6-980d-7ddca947d31f",
   "metadata": {},
   "outputs": [],
   "source": [
    "lst1= [\"Zebra\",\"Monkey\",\"Donkey\",\"Lion\"]"
   ]
  },
  {
   "cell_type": "code",
   "execution_count": 97,
   "id": "b077c1d2-59a6-4cb6-b2a0-05a2b13f9bc5",
   "metadata": {},
   "outputs": [
    {
     "data": {
      "text/plain": [
       "'Lion'"
      ]
     },
     "execution_count": 97,
     "metadata": {},
     "output_type": "execute_result"
    }
   ],
   "source": [
    "lst1.pop()"
   ]
  },
  {
   "cell_type": "code",
   "execution_count": 7,
   "id": "4bc48e47-7b5f-4c1f-8927-e7e46f376734",
   "metadata": {},
   "outputs": [
    {
     "data": {
      "text/plain": [
       "['Zebra', 'Monkey', 'Donkey', 'Lion']"
      ]
     },
     "execution_count": 7,
     "metadata": {},
     "output_type": "execute_result"
    }
   ],
   "source": [
    "lst1"
   ]
  },
  {
   "cell_type": "code",
   "execution_count": 8,
   "id": "b7f4774a-6bf1-437c-a000-a8462016484c",
   "metadata": {},
   "outputs": [
    {
     "data": {
      "text/plain": [
       "'Donkey'"
      ]
     },
     "execution_count": 8,
     "metadata": {},
     "output_type": "execute_result"
    }
   ],
   "source": [
    "lst1.pop(2) ## removes last element"
   ]
  },
  {
   "cell_type": "code",
   "execution_count": 100,
   "id": "81ba50f2-d61d-48bc-9f20-e9fb71cebb58",
   "metadata": {},
   "outputs": [
    {
     "data": {
      "text/plain": [
       "['Zebra', 'Monkey']"
      ]
     },
     "execution_count": 100,
     "metadata": {},
     "output_type": "execute_result"
    }
   ],
   "source": [
    "lst1"
   ]
  },
  {
   "cell_type": "code",
   "execution_count": 17,
   "id": "61a9dc1c-2e48-4480-b7fe-3cf3c032d4eb",
   "metadata": {},
   "outputs": [],
   "source": [
    "lst1= [\"Zebra\",\"Monkey\",\"Donkey\",\"Lion\"]"
   ]
  },
  {
   "cell_type": "code",
   "execution_count": 102,
   "id": "52b7723c-823d-4cc5-b5cd-363ba983d0c3",
   "metadata": {},
   "outputs": [
    {
     "data": {
      "text/plain": [
       "'Zebra'"
      ]
     },
     "execution_count": 102,
     "metadata": {},
     "output_type": "execute_result"
    }
   ],
   "source": [
    "removed_element = lst1.pop(0)\n",
    "removed_element"
   ]
  },
  {
   "cell_type": "code",
   "execution_count": 20,
   "id": "618f2667-15c4-4c62-a78d-793d0abc7a20",
   "metadata": {},
   "outputs": [
    {
     "data": {
      "text/plain": [
       "[1, 2, 3, 4, 5, 6]"
      ]
     },
     "execution_count": 20,
     "metadata": {},
     "output_type": "execute_result"
    }
   ],
   "source": [
    "lst"
   ]
  },
  {
   "cell_type": "code",
   "execution_count": null,
   "id": "91f43a96-6151-4ac5-89a3-9665b30c3898",
   "metadata": {},
   "outputs": [],
   "source": [
    "lst.append(10)"
   ]
  },
  {
   "cell_type": "code",
   "execution_count": 22,
   "id": "abb685ba-c5bc-492e-bb2b-cc9319c229f4",
   "metadata": {},
   "outputs": [
    {
     "data": {
      "text/plain": [
       "[1, 2, 3, 4, 5, 6, 10]"
      ]
     },
     "execution_count": 22,
     "metadata": {},
     "output_type": "execute_result"
    }
   ],
   "source": [
    "lst"
   ]
  },
  {
   "cell_type": "code",
   "execution_count": 23,
   "id": "3e26bc56-add0-484a-8ef7-a85b5208be0b",
   "metadata": {},
   "outputs": [],
   "source": [
    "lst.append([\"pw ,skills\"])"
   ]
  },
  {
   "cell_type": "code",
   "execution_count": 24,
   "id": "69c051d4-c7f3-4cc8-9aa5-4524ececd2c9",
   "metadata": {},
   "outputs": [
    {
     "data": {
      "text/plain": [
       "[1, 2, 3, 4, 5, 6, 10, ['pw ,skills']]"
      ]
     },
     "execution_count": 24,
     "metadata": {},
     "output_type": "execute_result"
    }
   ],
   "source": [
    "lst"
   ]
  },
  {
   "cell_type": "code",
   "execution_count": 26,
   "id": "228897b8-1834-4772-b0b3-9ee70f9cdd64",
   "metadata": {},
   "outputs": [],
   "source": [
    "lst.extend([\"pw ,skills\"])"
   ]
  },
  {
   "cell_type": "code",
   "execution_count": 27,
   "id": "14c9ebbe-b920-42c8-a4ff-18721d1f229d",
   "metadata": {},
   "outputs": [
    {
     "data": {
      "text/plain": [
       "[1, 2, 3, 4, 5, 6, 10, ['pw ,skills'], 'pw ,skills']"
      ]
     },
     "execution_count": 27,
     "metadata": {},
     "output_type": "execute_result"
    }
   ],
   "source": [
    "lst"
   ]
  },
  {
   "cell_type": "code",
   "execution_count": null,
   "id": "5b94f4ef-188c-48d5-bcc7-d01fbcf719fc",
   "metadata": {},
   "outputs": [],
   "source": []
  },
  {
   "cell_type": "code",
   "execution_count": null,
   "id": "6bf6f611-c0e9-4c08-aae0-c4bc9fd3a5a5",
   "metadata": {},
   "outputs": [],
   "source": []
  },
  {
   "cell_type": "markdown",
   "id": "4d8f04b1-e4a6-4933-aa81-bde526cbc82f",
   "metadata": {},
   "source": [
    "### Sorting and Reverse method "
   ]
  },
  {
   "cell_type": "code",
   "execution_count": 6,
   "id": "fa328e27-a2ed-45f4-835b-eed3f0872183",
   "metadata": {},
   "outputs": [
    {
     "data": {
      "text/plain": [
       "['q', 'w', 'd', 'a', 'm', 'e', 'n']"
      ]
     },
     "execution_count": 6,
     "metadata": {},
     "output_type": "execute_result"
    }
   ],
   "source": [
    "new_list = ['q',\"w\",\"d\",\"a\",\"m\",\"e\",\"n\"]\n",
    "new_list"
   ]
  },
  {
   "cell_type": "code",
   "execution_count": 7,
   "id": "b6a121a8-2270-4ef5-ba2b-b5ed8e9afb34",
   "metadata": {},
   "outputs": [
    {
     "data": {
      "text/plain": [
       "['n', 'e', 'm', 'a', 'd', 'w', 'q']"
      ]
     },
     "execution_count": 7,
     "metadata": {},
     "output_type": "execute_result"
    }
   ],
   "source": [
    "new_list [::-1]"
   ]
  },
  {
   "cell_type": "markdown",
   "id": "97ba6d20-34c1-476c-a4e8-fa576b365ba4",
   "metadata": {},
   "source": [
    "### inplace (everything is getting updated )"
   ]
  },
  {
   "cell_type": "code",
   "execution_count": 12,
   "id": "f9661f83-3841-44f9-8184-ea02f8130ffa",
   "metadata": {},
   "outputs": [],
   "source": [
    "new_list.reverse()"
   ]
  },
  {
   "cell_type": "code",
   "execution_count": 13,
   "id": "fe8beb6c-fb31-4895-bbf0-7034e69a48b5",
   "metadata": {},
   "outputs": [
    {
     "data": {
      "text/plain": [
       "['w', 'q', 'n', 'm', 'e', 'd', 'a']"
      ]
     },
     "execution_count": 13,
     "metadata": {},
     "output_type": "execute_result"
    }
   ],
   "source": [
    "new_list"
   ]
  },
  {
   "cell_type": "code",
   "execution_count": 14,
   "id": "3b9b3cc7-c3d1-4365-944d-298a5f4c8bc5",
   "metadata": {},
   "outputs": [],
   "source": [
    "new_list.sort()"
   ]
  },
  {
   "cell_type": "code",
   "execution_count": 16,
   "id": "82b9a3a8-6d36-4936-826f-f418dd783012",
   "metadata": {},
   "outputs": [
    {
     "data": {
      "text/plain": [
       "['a', 'd', 'e', 'm', 'n', 'q', 'w']"
      ]
     },
     "execution_count": 16,
     "metadata": {},
     "output_type": "execute_result"
    }
   ],
   "source": [
    "new_list"
   ]
  },
  {
   "cell_type": "markdown",
   "id": "e4db23bb-d1cd-47cf-bfa5-bab8fc82c08c",
   "metadata": {},
   "source": [
    "### nested list"
   ]
  },
  {
   "cell_type": "code",
   "execution_count": 9,
   "id": "e552c368-6e5c-44eb-89db-3cd1d3726aa8",
   "metadata": {},
   "outputs": [],
   "source": [
    "lst_1 = [1,2,3]\n",
    "lst_2 = [4,5,6]\n",
    "lst_3 = [7,8,9]\n",
    "\n",
    "matrix = [lst_1,lst_2,lst_3]"
   ]
  },
  {
   "cell_type": "code",
   "execution_count": 10,
   "id": "10f1acf6-1d10-47e5-bc0b-f53ffc3c81d3",
   "metadata": {},
   "outputs": [
    {
     "data": {
      "text/plain": [
       "[[1, 2, 3], [4, 5, 6], [7, 8, 9]]"
      ]
     },
     "execution_count": 10,
     "metadata": {},
     "output_type": "execute_result"
    }
   ],
   "source": [
    "matrix"
   ]
  },
  {
   "cell_type": "code",
   "execution_count": 11,
   "id": "fdbd7b51-6035-4cae-bb75-6cbb5b37bc11",
   "metadata": {},
   "outputs": [
    {
     "data": {
      "text/plain": [
       "6"
      ]
     },
     "execution_count": 11,
     "metadata": {},
     "output_type": "execute_result"
    }
   ],
   "source": [
    "matrix[1][2]"
   ]
  },
  {
   "cell_type": "code",
   "execution_count": 12,
   "id": "84ea3c7b-f545-42d8-9cc5-837d5eefd2b5",
   "metadata": {},
   "outputs": [
    {
     "data": {
      "text/plain": [
       "[8, 9]"
      ]
     },
     "execution_count": 12,
     "metadata": {},
     "output_type": "execute_result"
    }
   ],
   "source": [
    "matrix[2][1:]"
   ]
  },
  {
   "cell_type": "code",
   "execution_count": 34,
   "id": "43737d8f-8967-4217-8872-26f6e1db07ae",
   "metadata": {},
   "outputs": [
    {
     "data": {
      "text/plain": [
       "[[1, 2, 3], [4, 5, 6], [7, 8, 9]]"
      ]
     },
     "execution_count": 34,
     "metadata": {},
     "output_type": "execute_result"
    }
   ],
   "source": [
    "matrix[:]"
   ]
  },
  {
   "cell_type": "code",
   "execution_count": null,
   "id": "62d46584-6a5c-4e22-975d-aa6df9df7fe5",
   "metadata": {},
   "outputs": [],
   "source": [
    "###  list comprehension"
   ]
  },
  {
   "cell_type": "code",
   "execution_count": 13,
   "id": "7dc6d7e8-8088-4d77-acda-95cb233443b3",
   "metadata": {},
   "outputs": [
    {
     "data": {
      "text/plain": [
       "[0, 1, 2, 3, 4, 5, 6, 7, 8, 9, 10, 11, 12, 13, 14, 15, 16, 17, 18, 19]"
      ]
     },
     "execution_count": 13,
     "metadata": {},
     "output_type": "execute_result"
    }
   ],
   "source": [
    "[ i  for i in range(20)]"
   ]
  },
  {
   "cell_type": "code",
   "execution_count": 14,
   "id": "602c25d9-85c0-4125-a9db-5f39b562b60f",
   "metadata": {},
   "outputs": [
    {
     "data": {
      "text/plain": [
       "[0,\n",
       " 'odd',\n",
       " 2,\n",
       " 'odd',\n",
       " 4,\n",
       " 'odd',\n",
       " 6,\n",
       " 'odd',\n",
       " 8,\n",
       " 'odd',\n",
       " 10,\n",
       " 'odd',\n",
       " 12,\n",
       " 'odd',\n",
       " 14,\n",
       " 'odd',\n",
       " 16,\n",
       " 'odd',\n",
       " 18,\n",
       " 'odd']"
      ]
     },
     "execution_count": 14,
     "metadata": {},
     "output_type": "execute_result"
    }
   ],
   "source": [
    "[i if i%2==0 else \"odd\" for i in range(20)]"
   ]
  },
  {
   "cell_type": "code",
   "execution_count": 14,
   "id": "8dc42311-6106-433e-a8e5-12c047c0d5a0",
   "metadata": {},
   "outputs": [],
   "source": [
    "lst = [1,2,3,4,5,6,7,8]\n",
    " ##  to summ even number \n",
    " ## to sum oddd number   "
   ]
  },
  {
   "cell_type": "code",
   "execution_count": 40,
   "id": "b1e27483-e140-4f19-a5d1-292ad3f39fb7",
   "metadata": {},
   "outputs": [
    {
     "data": {
      "text/plain": [
       "[1, 2, 3, 4, 5, 6, 7, 8]"
      ]
     },
     "execution_count": 40,
     "metadata": {},
     "output_type": "execute_result"
    }
   ],
   "source": [
    "lst"
   ]
  },
  {
   "cell_type": "code",
   "execution_count": 21,
   "id": "c721579f-6c06-44a7-8300-b6ba72ef1cb2",
   "metadata": {},
   "outputs": [
    {
     "name": "stdout",
     "output_type": "stream",
     "text": [
      "20\n",
      "16\n"
     ]
    }
   ],
   "source": [
    "lst = [1,2,3,4,5,6,7,8]\n",
    "\n",
    "even_sum = 0\n",
    "odd_sum = 0\n",
    "for i in lst :\n",
    "    if i % 2 == 0 :\n",
    "        even_sum += i\n",
    "    else:\n",
    "        odd_sum += i\n",
    "        \n",
    "print(even_sum)\n",
    "print(odd_sum)\n",
    "        "
   ]
  },
  {
   "cell_type": "code",
   "execution_count": 15,
   "id": "24c846ac-95ae-4d2e-91c8-749bad8df1f2",
   "metadata": {},
   "outputs": [
    {
     "name": "stdout",
     "output_type": "stream",
     "text": [
      "Sum of even numbers: 20\n",
      "Sum of odd numbers: 16\n"
     ]
    }
   ],
   "source": [
    "lst = [1, 2, 3, 4, 5, 6, 7, 8]\n",
    "\n",
    "even_sum = sum(x for x in lst if x % 2 == 0)\n",
    "odd_sum = sum(x for x in lst if x % 2 != 0)\n",
    "\n",
    "print(\"Sum of even numbers:\", even_sum)\n",
    "print(\"Sum of odd numbers:\", odd_sum)"
   ]
  },
  {
   "cell_type": "code",
   "execution_count": null,
   "id": "f4af836d-a06c-4f92-97dc-fecdca1a40d9",
   "metadata": {},
   "outputs": [],
   "source": []
  },
  {
   "cell_type": "code",
   "execution_count": 50,
   "id": "8d602ff2-07dd-447a-acee-8e74dcc6631d",
   "metadata": {},
   "outputs": [
    {
     "data": {
      "text/plain": [
       "20"
      ]
     },
     "execution_count": 50,
     "metadata": {},
     "output_type": "execute_result"
    }
   ],
   "source": [
    "even_sum"
   ]
  },
  {
   "cell_type": "code",
   "execution_count": 52,
   "id": "c4b8098e-c6cd-41f7-9a4c-3dc45fb1e1af",
   "metadata": {},
   "outputs": [
    {
     "data": {
      "text/plain": [
       "[1, 4, 9, 16, 25, 36]"
      ]
     },
     "execution_count": 52,
     "metadata": {},
     "output_type": "execute_result"
    }
   ],
   "source": [
    "lst = [1,2,3,4,5,6,]\n",
    "[num**2 for num in lst]\n",
    "## in the form list comprenhension"
   ]
  },
  {
   "cell_type": "code",
   "execution_count": 53,
   "id": "b380e00b-ab59-4f85-a8a9-871bebeda2a6",
   "metadata": {},
   "outputs": [
    {
     "data": {
      "text/plain": [
       "[0, 1, 2, 3, 4]"
      ]
     },
     "execution_count": 53,
     "metadata": {},
     "output_type": "execute_result"
    }
   ],
   "source": [
    "### create a list of only positive integer\n",
    "numbers = [-2 ,-1,0,1,2,3,4]\n",
    "[num for num in numbers if num>= 0]"
   ]
  },
  {
   "cell_type": "code",
   "execution_count": 56,
   "id": "ca23888d-ea8b-4b79-85c3-dd032a42def2",
   "metadata": {},
   "outputs": [
    {
     "data": {
      "text/plain": [
       "['a', 'b', 'c', 'd']"
      ]
     },
     "execution_count": 56,
     "metadata": {},
     "output_type": "execute_result"
    }
   ],
   "source": [
    "## create a list of only the first letters of words in a list\n",
    "words = [\"apple\",\"banana\",\"cherry\",\"date\"]\n",
    "[word[0] for word in words]"
   ]
  },
  {
   "cell_type": "code",
   "execution_count": null,
   "id": "fc3e622a-0bf2-4c27-aaa1-8d0e06bd40e1",
   "metadata": {},
   "outputs": [],
   "source": []
  },
  {
   "cell_type": "code",
   "execution_count": 3,
   "id": "3f2016b1-e610-4b66-a706-cb1703782219",
   "metadata": {},
   "outputs": [
    {
     "data": {
      "text/plain": [
       "[32.0, 50.0, 68.0, 86.0, 104.0, 122.0]"
      ]
     },
     "execution_count": 3,
     "metadata": {},
     "output_type": "execute_result"
    }
   ],
   "source": [
    "### conver temo into farhenit\n",
    "celsius_temp = [0,10,20,30,40,50]\n",
    "[(9/5) * ft + 32 for ft in celsius_temp]"
   ]
  },
  {
   "cell_type": "code",
   "execution_count": 4,
   "id": "78060516-8beb-4bac-9624-c7ece0fe80c9",
   "metadata": {},
   "outputs": [
    {
     "data": {
      "text/plain": [
       "[1, 2, 3, 4, 5, 6, 7, 8, 9]"
      ]
     },
     "execution_count": 4,
     "metadata": {},
     "output_type": "execute_result"
    }
   ],
   "source": [
    "#### flatten a list of lists into a single lists\n",
    "lists =[[1,2,3],[4,5,6],[7,8,9]]\n",
    "[num for sublist in lists for num in sublist]"
   ]
  },
  {
   "cell_type": "code",
   "execution_count": null,
   "id": "75390c41-6b0f-4258-bfc8-c073fe87167e",
   "metadata": {},
   "outputs": [],
   "source": [
    "##\n",
    "## using both code and list comprehension\n",
    "# list of a prime numbers from a given list \n",
    "numbers = [1,2,3,4,5]"
   ]
  },
  {
   "cell_type": "code",
   "execution_count": null,
   "id": "8b374aa5-3e6d-48b9-9fa0-63500f3a33eb",
   "metadata": {},
   "outputs": [],
   "source": [
    "### create a list of all possible combination of 2 elements from a list\n",
    "numbers = [1,2,3,4,5]"
   ]
  },
  {
   "cell_type": "code",
   "execution_count": null,
   "id": "12340510-1961-436c-bd83-b31152971699",
   "metadata": {},
   "outputs": [],
   "source": []
  },
  {
   "cell_type": "code",
   "execution_count": 1,
   "id": "3cc75a03-37b6-499d-96b4-b7a88885c403",
   "metadata": {},
   "outputs": [],
   "source": [
    "##\n",
    "## using both code and list comprehension\n",
    "# list of a prime numbers from a given list \n",
    "numbers = [1,2,3,4,5]"
   ]
  },
  {
   "cell_type": "code",
   "execution_count": 2,
   "id": "e37c60c8-958f-4b75-8598-fe2749efc2fc",
   "metadata": {},
   "outputs": [
    {
     "name": "stdout",
     "output_type": "stream",
     "text": [
      "it is prime number\n",
      "it is a even number\n",
      "it is prime number\n",
      "it is a even number\n",
      "it is prime number\n"
     ]
    }
   ],
   "source": [
    "\n",
    "for i in numbers :\n",
    "    if  i%2== 1:\n",
    "        print(\"it is prime number\")\n",
    "        \n",
    "    else:\n",
    "        print(\"it is a even number\")\n",
    "        \n",
    "    \n",
    "    \n",
    "        "
   ]
  },
  {
   "cell_type": "code",
   "execution_count": 3,
   "id": "7e3cd270-e5af-4fc6-94db-6e7d27aa206f",
   "metadata": {},
   "outputs": [
    {
     "data": {
      "text/plain": [
       "[1, 'not a prime', 3, 'not a prime', 5]"
      ]
     },
     "execution_count": 3,
     "metadata": {},
     "output_type": "execute_result"
    }
   ],
   "source": [
    "[i if  i%2==1 else \"not a prime\" for i in numbers]"
   ]
  },
  {
   "cell_type": "code",
   "execution_count": null,
   "id": "9f6271d1-2178-4a30-a997-8006910c3394",
   "metadata": {},
   "outputs": [],
   "source": []
  },
  {
   "cell_type": "code",
   "execution_count": 4,
   "id": "574a592a-b830-4e1a-a4d1-413322fbacbd",
   "metadata": {},
   "outputs": [],
   "source": [
    "### create a list of all possible combination of 2 elements from a list \n",
    "numbers = [1,2,3,4,5]"
   ]
  },
  {
   "cell_type": "code",
   "execution_count": null,
   "id": "2cecaf1b-7bf4-4dc5-b852-7464b44c9fa1",
   "metadata": {},
   "outputs": [],
   "source": []
  },
  {
   "cell_type": "code",
   "execution_count": null,
   "id": "9965982d-51d5-450d-9d6b-92aa6e9c40c6",
   "metadata": {},
   "outputs": [],
   "source": []
  },
  {
   "cell_type": "code",
   "execution_count": 9,
   "id": "05b8dcf4-0aad-4917-80d3-0e317823551a",
   "metadata": {},
   "outputs": [
    {
     "name": "stdout",
     "output_type": "stream",
     "text": [
      "[(1, 2), (1, 3), (1, 4), (1, 5), (2, 3), (2, 4), (2, 5), (3, 4), (3, 5), (4, 5)]\n"
     ]
    }
   ],
   "source": [
    "import itertools\n",
    "\n",
    "numbers = [1, 2, 3, 4, 5]\n",
    "combinations = list(itertools.combinations(numbers, 2))\n",
    "\n",
    "print(combinations)"
   ]
  },
  {
   "cell_type": "code",
   "execution_count": null,
   "id": "513af860-153d-4b16-aaf1-7eaa0174de0c",
   "metadata": {},
   "outputs": [],
   "source": []
  },
  {
   "cell_type": "code",
   "execution_count": 13,
   "id": "ff1b2e1f-6bb8-4abf-82f2-65657c3f402b",
   "metadata": {},
   "outputs": [
    {
     "name": "stdout",
     "output_type": "stream",
     "text": [
      "[(1, 2), (1, 3), (1, 4), (1, 5), (2, 1), (2, 3), (2, 4), (2, 5), (3, 1), (3, 2), (3, 4), (3, 5), (4, 1), (4, 2), (4, 3), (4, 5), (5, 1), (5, 2), (5, 3), (5, 4)]\n"
     ]
    }
   ],
   "source": [
    "numbers = [1,2,3,4,5]\n",
    "combination = [(x,y) for x in numbers  for y in numbers if x != y]\n",
    "print(combination)"
   ]
  },
  {
   "cell_type": "code",
   "execution_count": null,
   "id": "69330f4d-c72b-48b8-9d3b-e5614b71caf5",
   "metadata": {},
   "outputs": [],
   "source": []
  },
  {
   "cell_type": "code",
   "execution_count": null,
   "id": "7f467c67-d306-47aa-a964-be3306dfa86b",
   "metadata": {},
   "outputs": [],
   "source": []
  },
  {
   "cell_type": "code",
   "execution_count": null,
   "id": "63407fff-c019-4176-b79b-7641177f69e5",
   "metadata": {},
   "outputs": [],
   "source": []
  },
  {
   "cell_type": "code",
   "execution_count": null,
   "id": "52120b0a-11e6-494b-86d8-cbd921016e4e",
   "metadata": {},
   "outputs": [],
   "source": []
  },
  {
   "cell_type": "code",
   "execution_count": null,
   "id": "c1f932bb-2893-4fcc-b52f-b8608937f687",
   "metadata": {},
   "outputs": [],
   "source": []
  },
  {
   "cell_type": "code",
   "execution_count": null,
   "id": "a103f47c-f363-4339-97b3-664f65a7c099",
   "metadata": {},
   "outputs": [],
   "source": []
  },
  {
   "cell_type": "code",
   "execution_count": null,
   "id": "c87587f5-a6c3-4ffb-92be-1bef8ebe28ba",
   "metadata": {},
   "outputs": [],
   "source": []
  },
  {
   "cell_type": "code",
   "execution_count": null,
   "id": "ae06957f-d74d-41e2-9dba-8a3b2d439dfc",
   "metadata": {},
   "outputs": [],
   "source": []
  },
  {
   "cell_type": "code",
   "execution_count": null,
   "id": "ed67a370-46eb-42db-a127-50350fc5c361",
   "metadata": {},
   "outputs": [],
   "source": []
  },
  {
   "cell_type": "code",
   "execution_count": null,
   "id": "dd239d6c-3471-476f-8bdd-de9420b956ef",
   "metadata": {},
   "outputs": [],
   "source": []
  },
  {
   "cell_type": "code",
   "execution_count": null,
   "id": "f16d8fd6-ce4e-4db4-83e7-7729a0c1151d",
   "metadata": {},
   "outputs": [],
   "source": []
  },
  {
   "cell_type": "code",
   "execution_count": null,
   "id": "a95fb13a-e556-46f7-8970-389fb1a94281",
   "metadata": {},
   "outputs": [],
   "source": []
  },
  {
   "cell_type": "code",
   "execution_count": null,
   "id": "351cf95c-7587-47aa-838c-2e4e46172d1e",
   "metadata": {},
   "outputs": [],
   "source": []
  },
  {
   "cell_type": "code",
   "execution_count": null,
   "id": "45503d30-38be-4d94-9540-e33534339786",
   "metadata": {},
   "outputs": [],
   "source": []
  },
  {
   "cell_type": "code",
   "execution_count": null,
   "id": "f04a671c-be99-4fd4-8926-ba8a5df32521",
   "metadata": {},
   "outputs": [],
   "source": []
  },
  {
   "cell_type": "code",
   "execution_count": null,
   "id": "9da12ca5-7065-4b2f-af21-67ef0eb1eed8",
   "metadata": {},
   "outputs": [],
   "source": []
  },
  {
   "cell_type": "code",
   "execution_count": null,
   "id": "8be446a7-59b5-49a6-8dd8-b7875999d9d4",
   "metadata": {},
   "outputs": [],
   "source": []
  },
  {
   "cell_type": "code",
   "execution_count": null,
   "id": "29ae46be-b20d-4f64-b71d-f7d842661dd7",
   "metadata": {},
   "outputs": [],
   "source": []
  },
  {
   "cell_type": "code",
   "execution_count": null,
   "id": "12c6097e-3dd8-4992-b8a7-2c7f3eb364b7",
   "metadata": {},
   "outputs": [],
   "source": []
  }
 ],
 "metadata": {
  "kernelspec": {
   "display_name": "Python 3 (ipykernel)",
   "language": "python",
   "name": "python3"
  },
  "language_info": {
   "codemirror_mode": {
    "name": "ipython",
    "version": 3
   },
   "file_extension": ".py",
   "mimetype": "text/x-python",
   "name": "python",
   "nbconvert_exporter": "python",
   "pygments_lexer": "ipython3",
   "version": "3.10.8"
  }
 },
 "nbformat": 4,
 "nbformat_minor": 5
}
