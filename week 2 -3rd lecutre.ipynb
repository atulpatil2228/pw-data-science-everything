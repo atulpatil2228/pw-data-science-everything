{
 "cells": [
  {
   "cell_type": "markdown",
   "id": "3c41f20e-811b-4286-9db6-420a072f75da",
   "metadata": {},
   "source": [
    "### logical operators\n",
    "1. And\n",
    "2. or\n",
    "3. not"
   ]
  },
  {
   "cell_type": "code",
   "execution_count": 1,
   "id": "30e5532b-b718-45cc-9207-812e691d4a07",
   "metadata": {},
   "outputs": [
    {
     "data": {
      "text/plain": [
       "True"
      ]
     },
     "execution_count": 1,
     "metadata": {},
     "output_type": "execute_result"
    }
   ],
   "source": [
    "True and True"
   ]
  },
  {
   "cell_type": "code",
   "execution_count": 2,
   "id": "7a215eb2-437c-43b2-b67b-dbd5df9f35b4",
   "metadata": {},
   "outputs": [
    {
     "data": {
      "text/plain": [
       "True"
      ]
     },
     "execution_count": 2,
     "metadata": {},
     "output_type": "execute_result"
    }
   ],
   "source": [
    "True or False"
   ]
  },
  {
   "cell_type": "code",
   "execution_count": 3,
   "id": "05545063-0bb6-4aae-b7ad-9fc631235dc7",
   "metadata": {},
   "outputs": [
    {
     "name": "stdout",
     "output_type": "stream",
     "text": [
      "Defined value of  START = True\n",
      "Defined value of  START = False\n",
      "Defined value of  START = True\n",
      "value of STOP by negating START =0 \n",
      "\n",
      "value of STARt by negating STOP =0\n",
      "Defined value of STOP = False\n",
      "\n"
     ]
    }
   ],
   "source": [
    "# lets define two variable having boolean values True and False\n",
    "START = True\n",
    "STOP = False\n",
    "\n",
    "\n",
    "# print the values as it is \n",
    "print(F\"Defined value of  START = {START}\" )\n",
    "print(F\"Defined value of  START = {STOP}\" )\n",
    "\n",
    "\n",
    "# it can be also writeen as \n",
    "print(F\"Defined value of  START = {START}\" )\n",
    "print(F\"value of STOP by negating START ={int(not START)} \\n\")\n",
    "\n",
    "\n",
    "\n",
    "# alternately\n",
    "print(F\"value of STARt by negating STOP ={int(not START)}\" )\n",
    "print(F\"Defined value of STOP = {STOP}\\n\")\n",
    "\n",
    "\n"
   ]
  },
  {
   "cell_type": "code",
   "execution_count": 5,
   "id": "5dbbab17-2b87-471d-837b-bdbaf06ced1a",
   "metadata": {},
   "outputs": [
    {
     "name": "stdout",
     "output_type": "stream",
     "text": [
      "Defined value of  START = 1\n",
      "Defined value of  START = 0\n",
      "Defined value of  START = 1\n",
      "value of STOP by negating START =0 \n",
      "\n",
      "value of STARt by negating STOP =1\n",
      "Defined value of STOP = 0\n",
      "\n"
     ]
    }
   ],
   "source": [
    "# lets define two variable having boolean values True and False\n",
    "START = 1\n",
    "STOP = 0\n",
    "\n",
    "\n",
    "# print the values as it is \n",
    "print(F\"Defined value of  START = {START}\" )\n",
    "print(F\"Defined value of  START = {STOP}\" )\n",
    "\n",
    "\n",
    "# it can be also writeen as \n",
    "print(F\"Defined value of  START = {START}\" )\n",
    "print(F\"value of STOP by negating START ={int(not START)} \\n\")\n",
    "\n",
    "\n",
    "\n",
    "# alternately\n",
    "print(F\"value of STARt by negating STOP ={int(not STOP)}\" )\n",
    "print(F\"Defined value of STOP = {STOP}\\n\")\n",
    "\n",
    "\n"
   ]
  },
  {
   "cell_type": "code",
   "execution_count": 6,
   "id": "9a12049f-f988-48cc-88b1-e6fef62dd46e",
   "metadata": {},
   "outputs": [
    {
     "data": {
      "text/plain": [
       "False"
      ]
     },
     "execution_count": 6,
     "metadata": {},
     "output_type": "execute_result"
    }
   ],
   "source": [
    "not True"
   ]
  },
  {
   "cell_type": "code",
   "execution_count": 7,
   "id": "54af3d70-f361-4e79-bbae-3758a1a4ebad",
   "metadata": {},
   "outputs": [
    {
     "data": {
      "text/plain": [
       "True"
      ]
     },
     "execution_count": 7,
     "metadata": {},
     "output_type": "execute_result"
    }
   ],
   "source": [
    "not int(bool(0))"
   ]
  },
  {
   "cell_type": "code",
   "execution_count": 8,
   "id": "7b7e2c45-ab16-4009-903f-cdb7a0b2b433",
   "metadata": {},
   "outputs": [
    {
     "data": {
      "text/plain": [
       "0"
      ]
     },
     "execution_count": 8,
     "metadata": {},
     "output_type": "execute_result"
    }
   ],
   "source": [
    "int(bool(0))"
   ]
  },
  {
   "cell_type": "code",
   "execution_count": 9,
   "id": "b805ba8a-a09c-4e85-b8e9-2114be519822",
   "metadata": {},
   "outputs": [
    {
     "data": {
      "text/plain": [
       "True"
      ]
     },
     "execution_count": 9,
     "metadata": {},
     "output_type": "execute_result"
    }
   ],
   "source": [
    "not 0"
   ]
  },
  {
   "cell_type": "code",
   "execution_count": 11,
   "id": "5ebe9123-9e43-4ef9-833e-c708a38b5c14",
   "metadata": {},
   "outputs": [
    {
     "data": {
      "text/plain": [
       "False"
      ]
     },
     "execution_count": 11,
     "metadata": {},
     "output_type": "execute_result"
    }
   ],
   "source": [
    "not int(bool (1))"
   ]
  },
  {
   "cell_type": "code",
   "execution_count": 12,
   "id": "5b2a48bc-c801-4dd6-9cad-77b769fa7206",
   "metadata": {},
   "outputs": [
    {
     "data": {
      "text/plain": [
       "True"
      ]
     },
     "execution_count": 12,
     "metadata": {},
     "output_type": "execute_result"
    }
   ],
   "source": [
    "bool (5)"
   ]
  },
  {
   "cell_type": "code",
   "execution_count": 13,
   "id": "d3820565-e81d-4665-958f-a52d3c472ad3",
   "metadata": {},
   "outputs": [
    {
     "data": {
      "text/plain": [
       "True"
      ]
     },
     "execution_count": 13,
     "metadata": {},
     "output_type": "execute_result"
    }
   ],
   "source": [
    "bool (-5)"
   ]
  },
  {
   "cell_type": "code",
   "execution_count": 14,
   "id": "cfc41a51-3184-4c43-93a0-1a442ac05e9f",
   "metadata": {},
   "outputs": [
    {
     "data": {
      "text/plain": [
       "False"
      ]
     },
     "execution_count": 14,
     "metadata": {},
     "output_type": "execute_result"
    }
   ],
   "source": [
    "not - 5"
   ]
  },
  {
   "cell_type": "code",
   "execution_count": 15,
   "id": "f1b6b025-b8aa-49ea-9411-71c0474480e3",
   "metadata": {},
   "outputs": [
    {
     "data": {
      "text/plain": [
       "False"
      ]
     },
     "execution_count": 15,
     "metadata": {},
     "output_type": "execute_result"
    }
   ],
   "source": [
    "not 5"
   ]
  },
  {
   "cell_type": "markdown",
   "id": "d2d66276-0dd1-4323-9484-e14cb569d4a5",
   "metadata": {},
   "source": [
    "### logical AND"
   ]
  },
  {
   "cell_type": "code",
   "execution_count": 19,
   "id": "27da8669-1660-4f75-84f0-02ccdb49eb29",
   "metadata": {},
   "outputs": [
    {
     "data": {
      "text/plain": [
       "False"
      ]
     },
     "execution_count": 19,
     "metadata": {},
     "output_type": "execute_result"
    }
   ],
   "source": [
    "not (True)"
   ]
  },
  {
   "cell_type": "code",
   "execution_count": 1,
   "id": "b7ff6b8b-c1b8-4ec1-895f-97174e164d70",
   "metadata": {},
   "outputs": [
    {
     "data": {
      "text/plain": [
       "0"
      ]
     },
     "execution_count": 1,
     "metadata": {},
     "output_type": "execute_result"
    }
   ],
   "source": [
    "True * False"
   ]
  },
  {
   "cell_type": "code",
   "execution_count": 2,
   "id": "174f62b1-b94e-4b05-b4c2-e42d8fd9fdb5",
   "metadata": {},
   "outputs": [
    {
     "data": {
      "text/plain": [
       "1"
      ]
     },
     "execution_count": 2,
     "metadata": {},
     "output_type": "execute_result"
    }
   ],
   "source": [
    "True * True"
   ]
  },
  {
   "cell_type": "code",
   "execution_count": 3,
   "id": "b3ebd583-f31d-40fe-819c-13f27827a8cf",
   "metadata": {},
   "outputs": [
    {
     "data": {
      "text/plain": [
       "0"
      ]
     },
     "execution_count": 3,
     "metadata": {},
     "output_type": "execute_result"
    }
   ],
   "source": [
    "False * True"
   ]
  },
  {
   "cell_type": "code",
   "execution_count": 4,
   "id": "b50508bc-31ae-429e-9a9c-df9f0130dfab",
   "metadata": {},
   "outputs": [
    {
     "data": {
      "text/plain": [
       "True"
      ]
     },
     "execution_count": 4,
     "metadata": {},
     "output_type": "execute_result"
    }
   ],
   "source": [
    " not (False) * True"
   ]
  },
  {
   "cell_type": "code",
   "execution_count": 5,
   "id": "7a4d081b-5e61-4eb5-b700-314e50ace42e",
   "metadata": {},
   "outputs": [
    {
     "data": {
      "text/plain": [
       "0"
      ]
     },
     "execution_count": 5,
     "metadata": {},
     "output_type": "execute_result"
    }
   ],
   "source": [
    "False * False"
   ]
  },
  {
   "cell_type": "code",
   "execution_count": 7,
   "id": "273be700-9fdd-4992-9d6a-450f6f80d8df",
   "metadata": {},
   "outputs": [
    {
     "data": {
      "text/plain": [
       "0"
      ]
     },
     "execution_count": 7,
     "metadata": {},
     "output_type": "execute_result"
    }
   ],
   "source": [
    "False * (not(False))"
   ]
  },
  {
   "cell_type": "code",
   "execution_count": 8,
   "id": "71c9f00f-7121-4982-bfba-9d00b9c59187",
   "metadata": {},
   "outputs": [
    {
     "data": {
      "text/plain": [
       "True"
      ]
     },
     "execution_count": 8,
     "metadata": {},
     "output_type": "execute_result"
    }
   ],
   "source": [
    "not(True) * False"
   ]
  },
  {
   "cell_type": "code",
   "execution_count": null,
   "id": "203227a9-51b8-4e9b-aabb-7f2ad1db717f",
   "metadata": {},
   "outputs": [],
   "source": []
  },
  {
   "cell_type": "code",
   "execution_count": 10,
   "id": "4843ba58-863d-441d-abba-4df9c5601066",
   "metadata": {},
   "outputs": [
    {
     "data": {
      "text/plain": [
       "0"
      ]
     },
     "execution_count": 10,
     "metadata": {},
     "output_type": "execute_result"
    }
   ],
   "source": [
    "False * False"
   ]
  },
  {
   "cell_type": "code",
   "execution_count": 13,
   "id": "eefae90d-efed-4869-b297-9391c8f82e59",
   "metadata": {},
   "outputs": [
    {
     "data": {
      "text/plain": [
       "0"
      ]
     },
     "execution_count": 13,
     "metadata": {},
     "output_type": "execute_result"
    }
   ],
   "source": [
    "True * False"
   ]
  },
  {
   "cell_type": "code",
   "execution_count": 17,
   "id": "eca4159d-9a41-4266-9936-3b48e76734d9",
   "metadata": {},
   "outputs": [
    {
     "data": {
      "text/plain": [
       "0"
      ]
     },
     "execution_count": 17,
     "metadata": {},
     "output_type": "execute_result"
    }
   ],
   "source": [
    "(not(False)) * False\n"
   ]
  },
  {
   "cell_type": "code",
   "execution_count": 20,
   "id": "7404328d-db17-4f75-ab6e-4e7ba6a30e42",
   "metadata": {},
   "outputs": [
    {
     "data": {
      "text/plain": [
       "True"
      ]
     },
     "execution_count": 20,
     "metadata": {},
     "output_type": "execute_result"
    }
   ],
   "source": [
    "not (False * False)"
   ]
  },
  {
   "cell_type": "code",
   "execution_count": 22,
   "id": "d226cbe7-0db4-49e3-b7cc-97028e76129d",
   "metadata": {},
   "outputs": [
    {
     "data": {
      "text/plain": [
       "0"
      ]
     },
     "execution_count": 22,
     "metadata": {},
     "output_type": "execute_result"
    }
   ],
   "source": [
    "(not(False)) * False"
   ]
  },
  {
   "cell_type": "code",
   "execution_count": 26,
   "id": "cc6d8f2a-5a8d-4475-80ce-7155f7483788",
   "metadata": {},
   "outputs": [
    {
     "data": {
      "text/plain": [
       "0"
      ]
     },
     "execution_count": 26,
     "metadata": {},
     "output_type": "execute_result"
    }
   ],
   "source": [
    "(not (False)) * (False)"
   ]
  },
  {
   "cell_type": "code",
   "execution_count": 29,
   "id": "bdff384b-331a-462b-8a73-57c588948214",
   "metadata": {},
   "outputs": [
    {
     "data": {
      "text/plain": [
       "True"
      ]
     },
     "execution_count": 29,
     "metadata": {},
     "output_type": "execute_result"
    }
   ],
   "source": [
    "not (False) * False == True"
   ]
  },
  {
   "cell_type": "markdown",
   "id": "860068ec-16f5-4ea5-85ec-439a34230655",
   "metadata": {},
   "source": [
    "## Equality operators"
   ]
  },
  {
   "cell_type": "code",
   "execution_count": null,
   "id": "1c86f2be-8fb8-40d9-aca9-1a5ca9ca302b",
   "metadata": {},
   "outputs": [],
   "source": []
  },
  {
   "cell_type": "markdown",
   "id": "a1a97b72-eb4f-42c8-ab48-c80928f6a94f",
   "metadata": {},
   "source": [
    "# !\"\"is\"\"! operator pointing to the same memory address"
   ]
  },
  {
   "cell_type": "code",
   "execution_count": 31,
   "id": "10a97db9-fa5a-4762-8082-050f546a8abd",
   "metadata": {},
   "outputs": [],
   "source": [
    "lst_a = [1,2,3,4]\n",
    "lst_b =[1,2,3,4]"
   ]
  },
  {
   "cell_type": "code",
   "execution_count": 32,
   "id": "d59495af-7670-4eb3-9653-f50eedc63980",
   "metadata": {},
   "outputs": [
    {
     "name": "stdout",
     "output_type": "stream",
     "text": [
      "140292426988416\n",
      "140292427033152\n"
     ]
    }
   ],
   "source": [
    "print(id(lst_a))\n",
    "print(id(lst_b))"
   ]
  },
  {
   "cell_type": "code",
   "execution_count": 34,
   "id": "f28eeabc-5999-4503-ae0e-75034fe2952a",
   "metadata": {},
   "outputs": [
    {
     "data": {
      "text/plain": [
       "False"
      ]
     },
     "execution_count": 34,
     "metadata": {},
     "output_type": "execute_result"
    }
   ],
   "source": [
    "lst_a is lst_b"
   ]
  },
  {
   "cell_type": "code",
   "execution_count": 35,
   "id": "4324d428-40e7-4c71-8abb-64818c2e7a04",
   "metadata": {},
   "outputs": [],
   "source": [
    "lst_a = [1,2,3,4]\n",
    "lst_b = lst_a"
   ]
  },
  {
   "cell_type": "code",
   "execution_count": 36,
   "id": "7804412e-f4b9-4e58-8001-1cf596602720",
   "metadata": {},
   "outputs": [
    {
     "name": "stdout",
     "output_type": "stream",
     "text": [
      "140292426963072\n",
      "140292426963072\n"
     ]
    }
   ],
   "source": [
    "print(id(lst_a))\n",
    "print(id(lst_b))"
   ]
  },
  {
   "cell_type": "code",
   "execution_count": 37,
   "id": "f9f4bc52-d35e-4300-ac95-853993d22cc0",
   "metadata": {},
   "outputs": [
    {
     "data": {
      "text/plain": [
       "True"
      ]
     },
     "execution_count": 37,
     "metadata": {},
     "output_type": "execute_result"
    }
   ],
   "source": [
    "lst_a is lst_b"
   ]
  },
  {
   "cell_type": "markdown",
   "id": "54f17b1b-b60c-463f-9be9-ffe16c958f04",
   "metadata": {},
   "source": [
    "# \"\"is not \"\" operator  (oposite of is)"
   ]
  },
  {
   "cell_type": "code",
   "execution_count": 38,
   "id": "63af03e5-43a6-4866-8f2b-a6e86e762ce8",
   "metadata": {},
   "outputs": [],
   "source": [
    "lst_a = [1,2,3,4]\n",
    "lst_b =[1,2,3,4]"
   ]
  },
  {
   "cell_type": "code",
   "execution_count": 39,
   "id": "06e2120f-4221-42db-a88f-a66512ca8da1",
   "metadata": {},
   "outputs": [
    {
     "data": {
      "text/plain": [
       "True"
      ]
     },
     "execution_count": 39,
     "metadata": {},
     "output_type": "execute_result"
    }
   ],
   "source": [
    "lst_a is not lst_b"
   ]
  },
  {
   "cell_type": "code",
   "execution_count": null,
   "id": "4f0e879c-3eec-40fa-ae97-b1c31f36bcbb",
   "metadata": {},
   "outputs": [],
   "source": []
  },
  {
   "cell_type": "markdown",
   "id": "91943117-a351-4784-979f-0b1d3aefbd99",
   "metadata": {},
   "source": [
    "# {==} operator checks elements or content of lst"
   ]
  },
  {
   "cell_type": "code",
   "execution_count": 40,
   "id": "5aa928b3-a975-4996-bedd-1b07c1b7bf28",
   "metadata": {},
   "outputs": [],
   "source": [
    "lst_a = [1,2,3,4]\n",
    "lst_b =[1,2,3,4]"
   ]
  },
  {
   "cell_type": "code",
   "execution_count": 42,
   "id": "3e174d89-6cee-4161-ac6c-996c013957df",
   "metadata": {},
   "outputs": [
    {
     "data": {
      "text/plain": [
       "True"
      ]
     },
     "execution_count": 42,
     "metadata": {},
     "output_type": "execute_result"
    }
   ],
   "source": [
    "lst_a == lst_b"
   ]
  },
  {
   "cell_type": "code",
   "execution_count": 32,
   "id": "1e0723e4-0c0c-4a9f-bf4a-7d279c87cf98",
   "metadata": {},
   "outputs": [],
   "source": [
    "a = 2\n",
    "b = 22"
   ]
  },
  {
   "cell_type": "markdown",
   "id": "cdc2bd66-e1ca-474f-aed9-ceb6a1322bd4",
   "metadata": {},
   "source": [
    "## != which means a and v have different value"
   ]
  },
  {
   "cell_type": "code",
   "execution_count": 33,
   "id": "a66eb32b-ce6b-40d7-a81d-17a4ba2709b0",
   "metadata": {},
   "outputs": [
    {
     "data": {
      "text/plain": [
       "True"
      ]
     },
     "execution_count": 33,
     "metadata": {},
     "output_type": "execute_result"
    }
   ],
   "source": [
    " a != b"
   ]
  },
  {
   "cell_type": "code",
   "execution_count": null,
   "id": "cb793baf-3227-40b6-9ced-b480d711b01c",
   "metadata": {},
   "outputs": [],
   "source": []
  },
  {
   "cell_type": "code",
   "execution_count": null,
   "id": "aef6dc6f-e806-4ac0-b1fa-973643249f0d",
   "metadata": {},
   "outputs": [],
   "source": []
  },
  {
   "cell_type": "code",
   "execution_count": null,
   "id": "37f610c0-c256-4f1f-9549-7464c9c64c83",
   "metadata": {},
   "outputs": [],
   "source": []
  },
  {
   "cell_type": "markdown",
   "id": "b13a98ff-16f5-479a-bb12-8b1b8acaca10",
   "metadata": {},
   "source": [
    "# we are asssigning the same value so the memory address is same "
   ]
  },
  {
   "cell_type": "code",
   "execution_count": 44,
   "id": "dbffccb3-1f23-4591-9673-1ce8c40a251a",
   "metadata": {},
   "outputs": [
    {
     "name": "stdout",
     "output_type": "stream",
     "text": [
      "140292624318736\n",
      "140292624318736\n"
     ]
    }
   ],
   "source": [
    "print(id(a))\n",
    "print(id(b))"
   ]
  },
  {
   "cell_type": "code",
   "execution_count": 45,
   "id": "7dce61b3-f60d-4039-b3b6-dfaea1698852",
   "metadata": {},
   "outputs": [],
   "source": [
    "a = \"atul\"\n",
    "c = \"atul\""
   ]
  },
  {
   "cell_type": "code",
   "execution_count": 46,
   "id": "72a03541-9372-47a7-9c1e-aeca338dcca8",
   "metadata": {},
   "outputs": [
    {
     "name": "stdout",
     "output_type": "stream",
     "text": [
      "140292426961072\n",
      "140292426961072\n"
     ]
    }
   ],
   "source": [
    "print(id(a))\n",
    "print(id(c))"
   ]
  },
  {
   "cell_type": "markdown",
   "id": "ce2d9869-ccad-4569-b031-1ac39c2e2234",
   "metadata": {},
   "source": [
    "## mutabale and we can change the characters \"\"(lst)\"\""
   ]
  },
  {
   "cell_type": "code",
   "execution_count": 47,
   "id": "8b9dec00-6ce6-4e33-85c0-01ce36a37b05",
   "metadata": {},
   "outputs": [
    {
     "data": {
      "text/plain": [
       "[1, 2, 3, 4]"
      ]
     },
     "execution_count": 47,
     "metadata": {},
     "output_type": "execute_result"
    }
   ],
   "source": [
    "lst_a"
   ]
  },
  {
   "cell_type": "code",
   "execution_count": 48,
   "id": "1838293b-d5d2-4a67-9d93-b43e216d5aa9",
   "metadata": {},
   "outputs": [
    {
     "data": {
      "text/plain": [
       "1"
      ]
     },
     "execution_count": 48,
     "metadata": {},
     "output_type": "execute_result"
    }
   ],
   "source": [
    "lst_a [0]"
   ]
  },
  {
   "cell_type": "code",
   "execution_count": 49,
   "id": "5c4ae460-dd70-4665-916e-81f9a5422a99",
   "metadata": {},
   "outputs": [],
   "source": [
    "lst_a [0 ] = 100"
   ]
  },
  {
   "cell_type": "code",
   "execution_count": 50,
   "id": "075359d9-fff8-42a4-89a4-db63a95b0120",
   "metadata": {},
   "outputs": [
    {
     "data": {
      "text/plain": [
       "[100, 2, 3, 4]"
      ]
     },
     "execution_count": 50,
     "metadata": {},
     "output_type": "execute_result"
    }
   ],
   "source": [
    "lst_a"
   ]
  },
  {
   "cell_type": "markdown",
   "id": "d08929e8-4547-4014-b36b-da0e9f65b2ed",
   "metadata": {},
   "source": [
    "## it is immutable we not able to change the characters \"\"(string)\"\""
   ]
  },
  {
   "cell_type": "code",
   "execution_count": null,
   "id": "146ba7e0-d963-4ae7-b848-3d9017217aef",
   "metadata": {},
   "outputs": [],
   "source": [
    "c = \"atul\""
   ]
  },
  {
   "cell_type": "code",
   "execution_count": 51,
   "id": "01a9677e-7e38-4f6c-8832-5a046d8d8c91",
   "metadata": {},
   "outputs": [
    {
     "data": {
      "text/plain": [
       "'atul'"
      ]
     },
     "execution_count": 51,
     "metadata": {},
     "output_type": "execute_result"
    }
   ],
   "source": [
    "c"
   ]
  },
  {
   "cell_type": "code",
   "execution_count": 52,
   "id": "6248f2a4-d8a8-4b97-9193-99fc110525e6",
   "metadata": {},
   "outputs": [
    {
     "data": {
      "text/plain": [
       "'a'"
      ]
     },
     "execution_count": 52,
     "metadata": {},
     "output_type": "execute_result"
    }
   ],
   "source": [
    "c[0]"
   ]
  },
  {
   "cell_type": "code",
   "execution_count": 53,
   "id": "29f2511f-ee1d-4ba8-b927-39f5046b8e1d",
   "metadata": {},
   "outputs": [
    {
     "ename": "NameError",
     "evalue": "name 't' is not defined",
     "output_type": "error",
     "traceback": [
      "\u001b[0;31m---------------------------------------------------------------------------\u001b[0m",
      "\u001b[0;31mNameError\u001b[0m                                 Traceback (most recent call last)",
      "Cell \u001b[0;32mIn[53], line 1\u001b[0m\n\u001b[0;32m----> 1\u001b[0m c [\u001b[38;5;241m0\u001b[39m] \u001b[38;5;241m=\u001b[39m \u001b[43mt\u001b[49m\n",
      "\u001b[0;31mNameError\u001b[0m: name 't' is not defined"
     ]
    }
   ],
   "source": [
    "c [0] = t"
   ]
  },
  {
   "cell_type": "code",
   "execution_count": null,
   "id": "93a9c160-ceca-4c50-a63c-4127456ed06e",
   "metadata": {},
   "outputs": [],
   "source": []
  },
  {
   "cell_type": "markdown",
   "id": "f8b754e0-8eea-426b-9e08-51bb89c2d6b4",
   "metadata": {},
   "source": [
    "## comparision operations\n",
    " # <     less than\n",
    " # <=    less than or equal to\n",
    " #  >     greater than\n",
    " #  >=    greater than or equal to     "
   ]
  },
  {
   "cell_type": "code",
   "execution_count": null,
   "id": "7806cf57-65bf-452b-bc9d-a448794c826c",
   "metadata": {},
   "outputs": [],
   "source": []
  },
  {
   "cell_type": "markdown",
   "id": "1e743e1c-5259-462b-a3a8-3f4ca7d4df1f",
   "metadata": {},
   "source": [
    "## airthmetic operators"
   ]
  },
  {
   "cell_type": "markdown",
   "id": "f384d0c3-b3ee-46c6-abd3-f9fa49c0de64",
   "metadata": {},
   "source": [
    "## +    addition\n",
    "## -    subtraction\n",
    "## *    multiplacton\n",
    "## /    true division\n",
    "## //   integer division (how many division it can go)\n",
    "## %    the modulo operator (remainder)"
   ]
  },
  {
   "cell_type": "code",
   "execution_count": 6,
   "id": "2345b024-e1f0-4fa9-b858-9d3840f8cd57",
   "metadata": {},
   "outputs": [],
   "source": [
    "a = 25\n",
    "b = 101"
   ]
  },
  {
   "cell_type": "code",
   "execution_count": 7,
   "id": "82054192-b668-4ec9-b2af-51ca62ecc957",
   "metadata": {},
   "outputs": [
    {
     "data": {
      "text/plain": [
       "0.24752475247524752"
      ]
     },
     "execution_count": 7,
     "metadata": {},
     "output_type": "execute_result"
    }
   ],
   "source": [
    "a /b"
   ]
  },
  {
   "cell_type": "code",
   "execution_count": 8,
   "id": "68b50fed-efee-4a99-9f11-bfb5b368a825",
   "metadata": {},
   "outputs": [
    {
     "data": {
      "text/plain": [
       "0"
      ]
     },
     "execution_count": 8,
     "metadata": {},
     "output_type": "execute_result"
    }
   ],
   "source": [
    "a // b"
   ]
  },
  {
   "cell_type": "code",
   "execution_count": 9,
   "id": "d9809af8-acc1-462a-99c0-4a43c2c2ead0",
   "metadata": {},
   "outputs": [
    {
     "data": {
      "text/plain": [
       "4"
      ]
     },
     "execution_count": 9,
     "metadata": {},
     "output_type": "execute_result"
    }
   ],
   "source": [
    "b // a"
   ]
  },
  {
   "cell_type": "code",
   "execution_count": 10,
   "id": "9f562e55-5f4b-478d-9ca3-f7dc14ca978a",
   "metadata": {},
   "outputs": [
    {
     "data": {
      "text/plain": [
       "4.04"
      ]
     },
     "execution_count": 10,
     "metadata": {},
     "output_type": "execute_result"
    }
   ],
   "source": [
    "b / a\n"
   ]
  },
  {
   "cell_type": "code",
   "execution_count": 11,
   "id": "ecc745d8-d7d9-46f6-8c7b-2fbcd65a6038",
   "metadata": {},
   "outputs": [
    {
     "data": {
      "text/plain": [
       "1"
      ]
     },
     "execution_count": 11,
     "metadata": {},
     "output_type": "execute_result"
    }
   ],
   "source": [
    "b % a"
   ]
  },
  {
   "cell_type": "code",
   "execution_count": 12,
   "id": "b41170b7-2b95-404e-a308-aa2a66740826",
   "metadata": {},
   "outputs": [
    {
     "data": {
      "text/plain": [
       "25"
      ]
     },
     "execution_count": 12,
     "metadata": {},
     "output_type": "execute_result"
    }
   ],
   "source": [
    "a % b"
   ]
  },
  {
   "cell_type": "code",
   "execution_count": null,
   "id": "a8f06bd4-8cf6-4308-8e12-630067650056",
   "metadata": {},
   "outputs": [],
   "source": []
  },
  {
   "cell_type": "code",
   "execution_count": null,
   "id": "591b4df0-234f-47e2-bea0-d07c8dd6ee5c",
   "metadata": {},
   "outputs": [],
   "source": [
    "## assignment"
   ]
  },
  {
   "cell_type": "markdown",
   "id": "d59d6910-3bfe-4c4b-94c0-0c5497ecc381",
   "metadata": {},
   "source": [
    "## bitwise operator"
   ]
  },
  {
   "cell_type": "markdown",
   "id": "1eebb9c4-7123-4cac-acf0-143f37053dd6",
   "metadata": {},
   "source": [
    "## ~    bitwise complement(prefix unary operator)\n",
    "## &    bitwise and\n",
    "## |    bitwise or  \n",
    "## ^    bitwise exclusive -or\n",
    "## <<   shift bits left, filling in with zeros\n",
    "## >>   shift bits right, filling in with sign bit "
   ]
  },
  {
   "cell_type": "code",
   "execution_count": null,
   "id": "58290263-e028-4bd3-bd51-48aeff433a88",
   "metadata": {},
   "outputs": [],
   "source": []
  },
  {
   "cell_type": "code",
   "execution_count": null,
   "id": "c7ef7b6b-16e4-4369-9b87-64d996aac53b",
   "metadata": {},
   "outputs": [],
   "source": []
  },
  {
   "cell_type": "code",
   "execution_count": null,
   "id": "3fe342db-3b85-4f29-b1cb-8e85225c199b",
   "metadata": {},
   "outputs": [],
   "source": []
  },
  {
   "cell_type": "markdown",
   "id": "cd3f8076-6fed-46fb-9d18-ac6ac8c9a223",
   "metadata": {},
   "source": [
    "# strings"
   ]
  },
  {
   "cell_type": "code",
   "execution_count": 1,
   "id": "ba09986b-5be9-4893-9382-f04ee1728dc0",
   "metadata": {},
   "outputs": [],
   "source": [
    "str1 = \"Welcome to the data science of pw \""
   ]
  },
  {
   "cell_type": "code",
   "execution_count": 2,
   "id": "8f02c746-a887-42dc-b9bc-d11e84bae0d5",
   "metadata": {},
   "outputs": [
    {
     "data": {
      "text/plain": [
       "str"
      ]
     },
     "execution_count": 2,
     "metadata": {},
     "output_type": "execute_result"
    }
   ],
   "source": [
    "type (str1)"
   ]
  },
  {
   "cell_type": "code",
   "execution_count": 3,
   "id": "411e78d6-eb25-4ded-83a0-fd94f9420ccf",
   "metadata": {},
   "outputs": [
    {
     "data": {
      "text/plain": [
       "['__add__',\n",
       " '__class__',\n",
       " '__contains__',\n",
       " '__delattr__',\n",
       " '__dir__',\n",
       " '__doc__',\n",
       " '__eq__',\n",
       " '__format__',\n",
       " '__ge__',\n",
       " '__getattribute__',\n",
       " '__getitem__',\n",
       " '__getnewargs__',\n",
       " '__gt__',\n",
       " '__hash__',\n",
       " '__init__',\n",
       " '__init_subclass__',\n",
       " '__iter__',\n",
       " '__le__',\n",
       " '__len__',\n",
       " '__lt__',\n",
       " '__mod__',\n",
       " '__mul__',\n",
       " '__ne__',\n",
       " '__new__',\n",
       " '__reduce__',\n",
       " '__reduce_ex__',\n",
       " '__repr__',\n",
       " '__rmod__',\n",
       " '__rmul__',\n",
       " '__setattr__',\n",
       " '__sizeof__',\n",
       " '__str__',\n",
       " '__subclasshook__',\n",
       " 'capitalize',\n",
       " 'casefold',\n",
       " 'center',\n",
       " 'count',\n",
       " 'encode',\n",
       " 'endswith',\n",
       " 'expandtabs',\n",
       " 'find',\n",
       " 'format',\n",
       " 'format_map',\n",
       " 'index',\n",
       " 'isalnum',\n",
       " 'isalpha',\n",
       " 'isascii',\n",
       " 'isdecimal',\n",
       " 'isdigit',\n",
       " 'isidentifier',\n",
       " 'islower',\n",
       " 'isnumeric',\n",
       " 'isprintable',\n",
       " 'isspace',\n",
       " 'istitle',\n",
       " 'isupper',\n",
       " 'join',\n",
       " 'ljust',\n",
       " 'lower',\n",
       " 'lstrip',\n",
       " 'maketrans',\n",
       " 'partition',\n",
       " 'removeprefix',\n",
       " 'removesuffix',\n",
       " 'replace',\n",
       " 'rfind',\n",
       " 'rindex',\n",
       " 'rjust',\n",
       " 'rpartition',\n",
       " 'rsplit',\n",
       " 'rstrip',\n",
       " 'split',\n",
       " 'splitlines',\n",
       " 'startswith',\n",
       " 'strip',\n",
       " 'swapcase',\n",
       " 'title',\n",
       " 'translate',\n",
       " 'upper',\n",
       " 'zfill']"
      ]
     },
     "execution_count": 3,
     "metadata": {},
     "output_type": "execute_result"
    }
   ],
   "source": [
    "dir (str1)"
   ]
  },
  {
   "cell_type": "code",
   "execution_count": 2,
   "id": "9413f749-9f03-4455-b676-76e757542a04",
   "metadata": {},
   "outputs": [],
   "source": [
    "string = \"pw skills data science\""
   ]
  },
  {
   "cell_type": "code",
   "execution_count": 5,
   "id": "d7a7e462-5a57-4bf6-9fe3-6c9c26638dd9",
   "metadata": {},
   "outputs": [
    {
     "data": {
      "text/plain": [
       "'i'"
      ]
     },
     "execution_count": 5,
     "metadata": {},
     "output_type": "execute_result"
    }
   ],
   "source": [
    "string[5]"
   ]
  },
  {
   "cell_type": "markdown",
   "id": "147fca6a-0526-4dd6-b6e1-f73833c366d0",
   "metadata": {},
   "source": [
    "## slice operations"
   ]
  },
  {
   "cell_type": "code",
   "execution_count": 6,
   "id": "70a3e123-def1-4009-8d48-9440384d9a7d",
   "metadata": {},
   "outputs": [
    {
     "data": {
      "text/plain": [
       "'ills data science'"
      ]
     },
     "execution_count": 6,
     "metadata": {},
     "output_type": "execute_result"
    }
   ],
   "source": [
    "## slice operatios\n",
    "string[5:]"
   ]
  },
  {
   "cell_type": "code",
   "execution_count": 7,
   "id": "9b792a66-3bde-47b2-a363-4ae454897916",
   "metadata": {},
   "outputs": [
    {
     "data": {
      "text/plain": [
       "'ills d'"
      ]
     },
     "execution_count": 7,
     "metadata": {},
     "output_type": "execute_result"
    }
   ],
   "source": [
    "string[5:11]"
   ]
  },
  {
   "cell_type": "code",
   "execution_count": 8,
   "id": "28031732-e17b-4e20-8579-8db285feccc5",
   "metadata": {},
   "outputs": [
    {
     "data": {
      "text/plain": [
       "'e'"
      ]
     },
     "execution_count": 8,
     "metadata": {},
     "output_type": "execute_result"
    }
   ],
   "source": [
    "string[-1]"
   ]
  },
  {
   "cell_type": "code",
   "execution_count": 7,
   "id": "981ffc33-b521-44ac-9043-baf1f13ef8cb",
   "metadata": {},
   "outputs": [
    {
     "data": {
      "text/plain": [
       "'sci'"
      ]
     },
     "execution_count": 7,
     "metadata": {},
     "output_type": "execute_result"
    }
   ],
   "source": [
    "string[-7:-4]"
   ]
  },
  {
   "cell_type": "code",
   "execution_count": 9,
   "id": "213238e6-3b30-42ae-a1e1-d4169c503d2b",
   "metadata": {},
   "outputs": [
    {
     "data": {
      "text/plain": [
       "'t'"
      ]
     },
     "execution_count": 9,
     "metadata": {},
     "output_type": "execute_result"
    }
   ],
   "source": [
    "string[-10]"
   ]
  },
  {
   "cell_type": "code",
   "execution_count": 10,
   "id": "38c0ea80-fc37-4220-94b3-f67e9bbe8180",
   "metadata": {},
   "outputs": [
    {
     "data": {
      "text/plain": [
       "'pw skills data scienc'"
      ]
     },
     "execution_count": 10,
     "metadata": {},
     "output_type": "execute_result"
    }
   ],
   "source": [
    "string[:-1]"
   ]
  },
  {
   "cell_type": "code",
   "execution_count": 11,
   "id": "8361b5ed-5033-4b11-b861-69b436ec45dd",
   "metadata": {},
   "outputs": [
    {
     "data": {
      "text/plain": [
       "'pw skills data science'"
      ]
     },
     "execution_count": 11,
     "metadata": {},
     "output_type": "execute_result"
    }
   ],
   "source": [
    "string[:]"
   ]
  },
  {
   "cell_type": "code",
   "execution_count": 15,
   "id": "d203835f-42aa-4c7c-920d-069e892096bf",
   "metadata": {},
   "outputs": [
    {
     "data": {
      "text/plain": [
       "'atul'"
      ]
     },
     "execution_count": 15,
     "metadata": {},
     "output_type": "execute_result"
    }
   ],
   "source": [
    "name = \"atulp\"\n",
    "name[-5:4]"
   ]
  },
  {
   "cell_type": "code",
   "execution_count": 14,
   "id": "7095257e-b96c-4f8f-8218-32dcb47018ff",
   "metadata": {},
   "outputs": [
    {
     "data": {
      "text/plain": [
       "'atul'"
      ]
     },
     "execution_count": 14,
     "metadata": {},
     "output_type": "execute_result"
    }
   ],
   "source": [
    "name[-5:4]"
   ]
  },
  {
   "cell_type": "code",
   "execution_count": null,
   "id": "72fd8741-915b-49fb-881f-bf04b6960a75",
   "metadata": {},
   "outputs": [],
   "source": []
  },
  {
   "cell_type": "code",
   "execution_count": null,
   "id": "6aeb5ec5-b928-4d92-8399-5e5b26285b89",
   "metadata": {},
   "outputs": [],
   "source": []
  },
  {
   "cell_type": "code",
   "execution_count": 16,
   "id": "5e4236a1-9170-4d8d-aa5a-35e2aa58ac24",
   "metadata": {},
   "outputs": [
    {
     "data": {
      "text/plain": [
       "'pw skills data science'"
      ]
     },
     "execution_count": 16,
     "metadata": {},
     "output_type": "execute_result"
    }
   ],
   "source": [
    "string"
   ]
  },
  {
   "cell_type": "code",
   "execution_count": 18,
   "id": "ad6d2cbf-e3a2-416a-806e-4661e1903b39",
   "metadata": {},
   "outputs": [
    {
     "data": {
      "text/plain": [
       "'pw skills data science'"
      ]
     },
     "execution_count": 18,
     "metadata": {},
     "output_type": "execute_result"
    }
   ],
   "source": [
    "string[:\n",
    "    ]"
   ]
  },
  {
   "cell_type": "code",
   "execution_count": 23,
   "id": "b94e7860-af4d-472c-97c9-96c5639ba25c",
   "metadata": {},
   "outputs": [
    {
     "data": {
      "text/plain": [
       "'pw skills data science'"
      ]
     },
     "execution_count": 23,
     "metadata": {},
     "output_type": "execute_result"
    }
   ],
   "source": [
    "string[::]"
   ]
  },
  {
   "cell_type": "code",
   "execution_count": null,
   "id": "98464c4a-3103-479a-9aba-aa75ffb870c1",
   "metadata": {},
   "outputs": [
    {
     "data": {
      "text/plain": [
       "'ecneics atad slliks wp'"
      ]
     },
     "execution_count": 19,
     "metadata": {},
     "output_type": "execute_result"
    }
   ],
   "source": [
    "string[::-1]"
   ]
  },
  {
   "cell_type": "code",
   "execution_count": 20,
   "id": "e1a75abb-eefa-44ad-9c9d-43cc8e5c0e8f",
   "metadata": {},
   "outputs": [
    {
     "data": {
      "text/plain": [
       "'enisaa lisw'"
      ]
     },
     "execution_count": 20,
     "metadata": {},
     "output_type": "execute_result"
    }
   ],
   "source": [
    "string[::-2]"
   ]
  },
  {
   "cell_type": "code",
   "execution_count": 24,
   "id": "dc7ad9d9-ee92-44d2-aa97-18409d85b1aa",
   "metadata": {},
   "outputs": [
    {
     "data": {
      "text/plain": [
       "'s wp'"
      ]
     },
     "execution_count": 24,
     "metadata": {},
     "output_type": "execute_result"
    }
   ],
   "source": [
    "string[3 ::-1]"
   ]
  },
  {
   "cell_type": "code",
   "execution_count": 25,
   "id": "4c3c21a1-0afc-4c29-ae08-ee1229e58acc",
   "metadata": {},
   "outputs": [
    {
     "data": {
      "text/plain": [
       "'liks wp'"
      ]
     },
     "execution_count": 25,
     "metadata": {},
     "output_type": "execute_result"
    }
   ],
   "source": [
    "string[6::-1]"
   ]
  },
  {
   "cell_type": "code",
   "execution_count": 27,
   "id": "5c1c984f-0198-44db-967f-1ecae7548a72",
   "metadata": {},
   "outputs": [
    {
     "data": {
      "text/plain": [
       "'pkstcc'"
      ]
     },
     "execution_count": 27,
     "metadata": {},
     "output_type": "execute_result"
    }
   ],
   "source": [
    "string[::4]"
   ]
  },
  {
   "cell_type": "code",
   "execution_count": 28,
   "id": "3c5a6e08-9dc5-4348-8611-e8b0754a718f",
   "metadata": {},
   "outputs": [],
   "source": [
    "name = \"atul\" "
   ]
  },
  {
   "cell_type": "code",
   "execution_count": 30,
   "id": "f5a6d617-bdbf-4ae0-8948-69ca5777717f",
   "metadata": {},
   "outputs": [
    {
     "data": {
      "text/plain": [
       "'luta'"
      ]
     },
     "execution_count": 30,
     "metadata": {},
     "output_type": "execute_result"
    }
   ],
   "source": [
    "name[::\n",
    "    -1]"
   ]
  },
  {
   "cell_type": "code",
   "execution_count": 32,
   "id": "864f2560-bdcf-44aa-9508-d2e899c5e4df",
   "metadata": {},
   "outputs": [
    {
     "data": {
      "text/plain": [
       "'la'"
      ]
     },
     "execution_count": 32,
     "metadata": {},
     "output_type": "execute_result"
    }
   ],
   "source": [
    "name[::-3]"
   ]
  },
  {
   "cell_type": "code",
   "execution_count": 34,
   "id": "2f20163a-c178-456a-890b-bc3e67e749a0",
   "metadata": {},
   "outputs": [
    {
     "data": {
      "text/plain": [
       "'al'"
      ]
     },
     "execution_count": 34,
     "metadata": {},
     "output_type": "execute_result"
    }
   ],
   "source": [
    "name[::3]"
   ]
  },
  {
   "cell_type": "code",
   "execution_count": 36,
   "id": "8ea71fb7-7dfd-4019-bc50-bacdbc18cdb7",
   "metadata": {},
   "outputs": [
    {
     "data": {
      "text/plain": [
       "'lt'"
      ]
     },
     "execution_count": 36,
     "metadata": {},
     "output_type": "execute_result"
    }
   ],
   "source": [
    "name[::-2]"
   ]
  },
  {
   "cell_type": "code",
   "execution_count": 40,
   "id": "2487ac14-5d05-4809-bdb7-dcf88f2513ee",
   "metadata": {},
   "outputs": [
    {
     "data": {
      "text/plain": [
       "'atul'"
      ]
     },
     "execution_count": 40,
     "metadata": {},
     "output_type": "execute_result"
    }
   ],
   "source": [
    "name"
   ]
  },
  {
   "cell_type": "code",
   "execution_count": 38,
   "id": "a7a2ba52-63da-4695-8bea-61511d8dc68d",
   "metadata": {},
   "outputs": [
    {
     "data": {
      "text/plain": [
       "'luta'"
      ]
     },
     "execution_count": 38,
     "metadata": {},
     "output_type": "execute_result"
    }
   ],
   "source": [
    "name[4::-1]"
   ]
  },
  {
   "cell_type": "code",
   "execution_count": 39,
   "id": "7be6fc8a-4b65-4270-bfe9-000b08f369b7",
   "metadata": {},
   "outputs": [
    {
     "data": {
      "text/plain": [
       "'lt'"
      ]
     },
     "execution_count": 39,
     "metadata": {},
     "output_type": "execute_result"
    }
   ],
   "source": [
    "name[3::-2]"
   ]
  },
  {
   "cell_type": "code",
   "execution_count": 43,
   "id": "bef09c65-1865-4956-a6d5-4839017be245",
   "metadata": {},
   "outputs": [
    {
     "data": {
      "text/plain": [
       "'lu'"
      ]
     },
     "execution_count": 43,
     "metadata": {},
     "output_type": "execute_result"
    }
   ],
   "source": [
    "name[3:1:-1]"
   ]
  },
  {
   "cell_type": "code",
   "execution_count": 2,
   "id": "a00436e0-73d6-46f0-a324-bd0e83366dd7",
   "metadata": {},
   "outputs": [],
   "source": [
    "course_name = \"data science master\"\n"
   ]
  },
  {
   "cell_type": "code",
   "execution_count": 57,
   "id": "daba5a57-1056-427c-bbfb-b30866ae5a7e",
   "metadata": {},
   "outputs": [
    {
     "data": {
      "text/plain": [
       "'science'"
      ]
     },
     "execution_count": 57,
     "metadata": {},
     "output_type": "execute_result"
    }
   ],
   "source": [
    "course_name [5:12]"
   ]
  },
  {
   "cell_type": "code",
   "execution_count": null,
   "id": "22aede5a-ceff-428d-bad0-47deb4c3d1ba",
   "metadata": {},
   "outputs": [],
   "source": []
  },
  {
   "cell_type": "code",
   "execution_count": 50,
   "id": "6af38cde-6f70-41ec-a151-1852d4c5f4bf",
   "metadata": {},
   "outputs": [
    {
     "data": {
      "text/plain": [
       "'ecneics'"
      ]
     },
     "execution_count": 50,
     "metadata": {},
     "output_type": "execute_result"
    }
   ],
   "source": [
    "course_name [11:4:-1]"
   ]
  },
  {
   "cell_type": "code",
   "execution_count": 55,
   "id": "2afe4dc0-322a-4bad-82b0-9f808b2a6da1",
   "metadata": {},
   "outputs": [
    {
     "data": {
      "text/plain": [
       "' science'"
      ]
     },
     "execution_count": 55,
     "metadata": {},
     "output_type": "execute_result"
    }
   ],
   "source": [
    "course_name [4:12:1]"
   ]
  },
  {
   "cell_type": "markdown",
   "id": "6426272d-97ee-4703-b778-108e3f4ff7fd",
   "metadata": {},
   "source": [
    "## concatenation"
   ]
  },
  {
   "cell_type": "code",
   "execution_count": 58,
   "id": "17e87fd3-5d9b-4ba1-a47c-b3c50d9390dc",
   "metadata": {},
   "outputs": [
    {
     "data": {
      "text/plain": [
       "'data science masterCourse'"
      ]
     },
     "execution_count": 58,
     "metadata": {},
     "output_type": "execute_result"
    }
   ],
   "source": [
    "course_name + \"Course\""
   ]
  },
  {
   "cell_type": "code",
   "execution_count": 59,
   "id": "5479eb2e-d806-4247-b097-78d90dbadf3d",
   "metadata": {},
   "outputs": [
    {
     "name": "stdout",
     "output_type": "stream",
     "text": [
      "Helloworlds\n"
     ]
    }
   ],
   "source": [
    "print(\"Hello\"+ \"worlds\")"
   ]
  },
  {
   "cell_type": "code",
   "execution_count": 60,
   "id": "7cbc9a07-c490-4bce-ba04-613984c96376",
   "metadata": {},
   "outputs": [
    {
     "data": {
      "text/plain": [
       "'data science masterdata science masterdata science masterdata science masterdata science master'"
      ]
     },
     "execution_count": 60,
     "metadata": {},
     "output_type": "execute_result"
    }
   ],
   "source": [
    "course_name *5"
   ]
  },
  {
   "cell_type": "code",
   "execution_count": 3,
   "id": "5fa504bc-94c1-4c41-83e5-785cf5f47cfd",
   "metadata": {},
   "outputs": [
    {
     "data": {
      "text/plain": [
       "19"
      ]
     },
     "execution_count": 3,
     "metadata": {},
     "output_type": "execute_result"
    }
   ],
   "source": [
    "len(course_name)"
   ]
  },
  {
   "cell_type": "markdown",
   "id": "3acbd8c1-2c23-484c-a3a6-d13829f6b164",
   "metadata": {},
   "source": [
    "## find function (we ge index number) "
   ]
  },
  {
   "cell_type": "code",
   "execution_count": 4,
   "id": "97c021e4-5b4f-4716-97d7-55b856ca07e7",
   "metadata": {},
   "outputs": [
    {
     "data": {
      "text/plain": [
       "'data science master'"
      ]
     },
     "execution_count": 4,
     "metadata": {},
     "output_type": "execute_result"
    }
   ],
   "source": [
    "course_name"
   ]
  },
  {
   "cell_type": "code",
   "execution_count": 21,
   "id": "d04db5ea-b6ea-41a4-85ed-d727ae910d62",
   "metadata": {},
   "outputs": [
    {
     "data": {
      "text/plain": [
       "5"
      ]
     },
     "execution_count": 21,
     "metadata": {},
     "output_type": "execute_result"
    }
   ],
   "source": [
    "course_name.find(\"s\")"
   ]
  },
  {
   "cell_type": "code",
   "execution_count": 5,
   "id": "9ff35b76-e9ba-42d3-9f27-936286edec80",
   "metadata": {},
   "outputs": [
    {
     "data": {
      "text/plain": [
       "1"
      ]
     },
     "execution_count": 5,
     "metadata": {},
     "output_type": "execute_result"
    }
   ],
   "source": [
    "course_name.find(\"a\")"
   ]
  },
  {
   "cell_type": "code",
   "execution_count": 8,
   "id": "114c3491-37da-4c64-bc1f-476bd5a9dae1",
   "metadata": {},
   "outputs": [
    {
     "data": {
      "text/plain": [
       "3"
      ]
     },
     "execution_count": 8,
     "metadata": {},
     "output_type": "execute_result"
    }
   ],
   "source": [
    "course_name.find(\"a\" ,2, 10) "
   ]
  },
  {
   "cell_type": "code",
   "execution_count": 8,
   "id": "9bd0a261-d12e-43fd-aa44-a0dea771ad70",
   "metadata": {},
   "outputs": [
    {
     "data": {
      "text/plain": [
       "-1"
      ]
     },
     "execution_count": 8,
     "metadata": {},
     "output_type": "execute_result"
    }
   ],
   "source": [
    "course_name.find(\"z\")"
   ]
  },
  {
   "cell_type": "markdown",
   "id": "589ab3b7-fdcf-48e1-a7e7-c2805cf0bf52",
   "metadata": {},
   "source": [
    "## count (we get the total number)"
   ]
  },
  {
   "cell_type": "code",
   "execution_count": 9,
   "id": "8e82949c-3ae9-422c-9494-c6564447703f",
   "metadata": {},
   "outputs": [
    {
     "data": {
      "text/plain": [
       "'data science master'"
      ]
     },
     "execution_count": 9,
     "metadata": {},
     "output_type": "execute_result"
    }
   ],
   "source": [
    "course_name"
   ]
  },
  {
   "cell_type": "code",
   "execution_count": 9,
   "id": "69e5c25e-9ac5-408c-80a2-91e1e6ea6726",
   "metadata": {},
   "outputs": [
    {
     "data": {
      "text/plain": [
       "3"
      ]
     },
     "execution_count": 9,
     "metadata": {},
     "output_type": "execute_result"
    }
   ],
   "source": [
    "course_name.count(\"a\")"
   ]
  },
  {
   "cell_type": "code",
   "execution_count": 14,
   "id": "0d8d2910-ac1e-4940-98ec-052239ada7ee",
   "metadata": {},
   "outputs": [
    {
     "data": {
      "text/plain": [
       "2"
      ]
     },
     "execution_count": 14,
     "metadata": {},
     "output_type": "execute_result"
    }
   ],
   "source": [
    "course_name.count(' ')"
   ]
  },
  {
   "cell_type": "code",
   "execution_count": 15,
   "id": "4f44a5b3-9837-48c4-ade3-36205dbe0d4f",
   "metadata": {},
   "outputs": [
    {
     "data": {
      "text/plain": [
       "2"
      ]
     },
     "execution_count": 15,
     "metadata": {},
     "output_type": "execute_result"
    }
   ],
   "source": [
    "course_name.count(\" \")"
   ]
  },
  {
   "cell_type": "code",
   "execution_count": 13,
   "id": "d9be0eb9-ab02-4c9d-aedd-6f50fe1020ae",
   "metadata": {},
   "outputs": [
    {
     "data": {
      "text/plain": [
       "14"
      ]
     },
     "execution_count": 13,
     "metadata": {},
     "output_type": "execute_result"
    }
   ],
   "source": [
    "course_name.find(\"a\",6,18)"
   ]
  },
  {
   "cell_type": "code",
   "execution_count": 17,
   "id": "9875710b-3caa-4ccf-a811-bebbbfbcc3ee",
   "metadata": {},
   "outputs": [
    {
     "data": {
      "text/plain": [
       "'data science master'"
      ]
     },
     "execution_count": 17,
     "metadata": {},
     "output_type": "execute_result"
    }
   ],
   "source": [
    "course_name"
   ]
  },
  {
   "cell_type": "code",
   "execution_count": 22,
   "id": "5a3f46c2-2e8a-4ba4-898d-2dd802d168f0",
   "metadata": {},
   "outputs": [
    {
     "data": {
      "text/plain": [
       "1"
      ]
     },
     "execution_count": 22,
     "metadata": {},
     "output_type": "execute_result"
    }
   ],
   "source": [
    "course_name.count(\"science\")"
   ]
  },
  {
   "cell_type": "code",
   "execution_count": null,
   "id": "6026524d-587a-4031-b318-b100ee711bf1",
   "metadata": {},
   "outputs": [],
   "source": []
  },
  {
   "cell_type": "markdown",
   "id": "4ef0b74a-d3d6-4a4c-968c-b514aa2f482f",
   "metadata": {},
   "source": [
    "## string split function"
   ]
  },
  {
   "cell_type": "code",
   "execution_count": 14,
   "id": "cbafa7b6-7697-4ac8-a146-77150cb64e15",
   "metadata": {},
   "outputs": [
    {
     "data": {
      "text/plain": [
       "'data science master'"
      ]
     },
     "execution_count": 14,
     "metadata": {},
     "output_type": "execute_result"
    }
   ],
   "source": [
    "course_name"
   ]
  },
  {
   "cell_type": "code",
   "execution_count": 15,
   "id": "f6efb261-e621-4f62-a511-36e0cc2249da",
   "metadata": {},
   "outputs": [
    {
     "data": {
      "text/plain": [
       "['data', 'science', 'master']"
      ]
     },
     "execution_count": 15,
     "metadata": {},
     "output_type": "execute_result"
    }
   ],
   "source": [
    "course_name.split(' ')"
   ]
  },
  {
   "cell_type": "code",
   "execution_count": 16,
   "id": "6015e26f-89f8-4851-a2f3-a7869f3a3f67",
   "metadata": {},
   "outputs": [
    {
     "data": {
      "text/plain": [
       "['data ', 'cience ma', 'ter']"
      ]
     },
     "execution_count": 16,
     "metadata": {},
     "output_type": "execute_result"
    }
   ],
   "source": [
    "course_name.split(\"s\")"
   ]
  },
  {
   "cell_type": "code",
   "execution_count": 17,
   "id": "e7f2d45e-81ba-4890-9db3-9e9058658416",
   "metadata": {},
   "outputs": [
    {
     "data": {
      "text/plain": [
       "['d', 't', ' science m', 'ster']"
      ]
     },
     "execution_count": 17,
     "metadata": {},
     "output_type": "execute_result"
    }
   ],
   "source": [
    "course_name.split('a')"
   ]
  },
  {
   "cell_type": "code",
   "execution_count": 22,
   "id": "c52f4cff-e3da-4499-9357-0119e29d0897",
   "metadata": {},
   "outputs": [
    {
     "data": {
      "text/plain": [
       "['d', 't', ' science m', 'ster']"
      ]
     },
     "execution_count": 22,
     "metadata": {},
     "output_type": "execute_result"
    }
   ],
   "source": [
    "course_name.split('a')"
   ]
  },
  {
   "cell_type": "markdown",
   "id": "5d14c821-cbf7-402b-8e16-b7d46770217e",
   "metadata": {},
   "source": [
    "## partition"
   ]
  },
  {
   "cell_type": "code",
   "execution_count": 19,
   "id": "107b7550-c06f-45c9-a99e-aea6cff5da1d",
   "metadata": {},
   "outputs": [
    {
     "data": {
      "text/plain": [
       "('data ', 's', 'cience master')"
      ]
     },
     "execution_count": 19,
     "metadata": {},
     "output_type": "execute_result"
    }
   ],
   "source": [
    "course_name.partition('s')"
   ]
  },
  {
   "cell_type": "code",
   "execution_count": 20,
   "id": "3f69021b-d508-463a-9d00-3fe01066e4c8",
   "metadata": {},
   "outputs": [
    {
     "data": {
      "text/plain": [
       "('d', 'a', 'ta science master')"
      ]
     },
     "execution_count": 20,
     "metadata": {},
     "output_type": "execute_result"
    }
   ],
   "source": [
    "course_name.partition('a')"
   ]
  },
  {
   "cell_type": "code",
   "execution_count": null,
   "id": "7669e715-f381-4604-bcf3-e84b81266973",
   "metadata": {},
   "outputs": [],
   "source": []
  },
  {
   "cell_type": "markdown",
   "id": "98726df6-aac1-4679-a9ca-f9c5e4b9fbcc",
   "metadata": {},
   "source": [
    "## string upper and lower case"
   ]
  },
  {
   "cell_type": "code",
   "execution_count": 24,
   "id": "877a03f2-a2cc-4ed3-931b-9239e5472b0d",
   "metadata": {},
   "outputs": [
    {
     "data": {
      "text/plain": [
       "'data science master'"
      ]
     },
     "execution_count": 24,
     "metadata": {},
     "output_type": "execute_result"
    }
   ],
   "source": [
    "course_name"
   ]
  },
  {
   "cell_type": "code",
   "execution_count": 25,
   "id": "3068dc68-8b18-4e08-b16e-2082ef25e9dc",
   "metadata": {},
   "outputs": [
    {
     "data": {
      "text/plain": [
       "'DATA SCIENCE MASTER'"
      ]
     },
     "execution_count": 25,
     "metadata": {},
     "output_type": "execute_result"
    }
   ],
   "source": [
    "course_name.upper()"
   ]
  },
  {
   "cell_type": "code",
   "execution_count": 26,
   "id": "5357dc49-2418-43f2-b840-83eecb5aa314",
   "metadata": {},
   "outputs": [
    {
     "data": {
      "text/plain": [
       "'data science master'"
      ]
     },
     "execution_count": 26,
     "metadata": {},
     "output_type": "execute_result"
    }
   ],
   "source": [
    "course_name.lower()"
   ]
  },
  {
   "cell_type": "code",
   "execution_count": 27,
   "id": "7a10c99c-8256-4217-ac63-c834b1887c7f",
   "metadata": {},
   "outputs": [
    {
     "data": {
      "text/plain": [
       "'DATA SCIENCE MASTER'"
      ]
     },
     "execution_count": 27,
     "metadata": {},
     "output_type": "execute_result"
    }
   ],
   "source": [
    "course_name.swapcase()"
   ]
  },
  {
   "cell_type": "markdown",
   "id": "44eadf64-0b1d-40d1-aa7b-2bfe27f8679e",
   "metadata": {},
   "source": [
    "## every word of the 1st letter is in the title case"
   ]
  },
  {
   "cell_type": "code",
   "execution_count": 28,
   "id": "cdb8bb94-341f-40d3-9346-52f6e4af86c7",
   "metadata": {},
   "outputs": [
    {
     "data": {
      "text/plain": [
       "'Data Science Master'"
      ]
     },
     "execution_count": 28,
     "metadata": {},
     "output_type": "execute_result"
    }
   ],
   "source": [
    "course_name.title()"
   ]
  },
  {
   "cell_type": "code",
   "execution_count": 29,
   "id": "a05e367a-3a32-4a6c-8342-4175f5e29a12",
   "metadata": {},
   "outputs": [],
   "source": [
    "name = \"atul\""
   ]
  },
  {
   "cell_type": "code",
   "execution_count": 30,
   "id": "c80cd4e9-48a6-4630-9d3d-6bd300a6a48d",
   "metadata": {},
   "outputs": [
    {
     "data": {
      "text/plain": [
       "'Atul'"
      ]
     },
     "execution_count": 30,
     "metadata": {},
     "output_type": "execute_result"
    }
   ],
   "source": [
    "name.title()"
   ]
  },
  {
   "cell_type": "code",
   "execution_count": null,
   "id": "db3b6e50-0879-437b-997e-8f62f0a57768",
   "metadata": {},
   "outputs": [],
   "source": []
  }
 ],
 "metadata": {
  "kernelspec": {
   "display_name": "Python 3 (ipykernel)",
   "language": "python",
   "name": "python3"
  },
  "language_info": {
   "codemirror_mode": {
    "name": "ipython",
    "version": 3
   },
   "file_extension": ".py",
   "mimetype": "text/x-python",
   "name": "python",
   "nbconvert_exporter": "python",
   "pygments_lexer": "ipython3",
   "version": "3.10.8"
  }
 },
 "nbformat": 4,
 "nbformat_minor": 5
}
