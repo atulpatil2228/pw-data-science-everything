{
 "cells": [
  {
   "cell_type": "code",
   "execution_count": 1,
   "id": "1105c03c-25c3-4db7-a7b1-278780e8380a",
   "metadata": {},
   "outputs": [
    {
     "data": {
      "text/plain": [
       "2"
      ]
     },
     "execution_count": 1,
     "metadata": {},
     "output_type": "execute_result"
    }
   ],
   "source": [
    "1 + 1"
   ]
  },
  {
   "cell_type": "markdown",
   "id": "d8846627-2db8-415e-a3fc-6caedc851a75",
   "metadata": {},
   "source": [
    "## this is atul who is data scientist\n",
    "\n",
    "## welcome to the corporate world\n",
    "\n",
    "\n",
    "this ia test example"
   ]
  },
  {
   "cell_type": "code",
   "execution_count": 6,
   "id": "88bf3a63-c1fd-41d4-9b09-c94eb30531d5",
   "metadata": {},
   "outputs": [],
   "source": [
    "##comments\n",
    "## this is a function\n",
    "a = 20 "
   ]
  },
  {
   "cell_type": "code",
   "execution_count": null,
   "id": "9707d8b5-575e-4d64-8d52-c961172e5e45",
   "metadata": {},
   "outputs": [],
   "source": []
  },
  {
   "cell_type": "code",
   "execution_count": 7,
   "id": "f67dd02c-63e4-46dd-a883-223e960ea840",
   "metadata": {},
   "outputs": [
    {
     "data": {
      "text/plain": [
       "20"
      ]
     },
     "execution_count": 7,
     "metadata": {},
     "output_type": "execute_result"
    }
   ],
   "source": [
    "\"\"\"\n",
    "hello this is a example of python\n",
    "\"\"\"\n",
    "a = 20\n",
    "a"
   ]
  },
  {
   "cell_type": "markdown",
   "id": "7349dbe4-6058-4209-8806-d9e331fe73e6",
   "metadata": {},
   "source": [
    "# markdownn\n",
    "1. hello guys how are you"
   ]
  },
  {
   "cell_type": "markdown",
   "id": "daf1b2ff-2de9-43d6-9860-83bac5ff52aa",
   "metadata": {},
   "source": [
    "## numbers"
   ]
  },
  {
   "cell_type": "code",
   "execution_count": 8,
   "id": "30e24b3d-0cc7-4fc5-9400-dd26c2e79d79",
   "metadata": {},
   "outputs": [
    {
     "name": "stdout",
     "output_type": "stream",
     "text": [
      "4\n"
     ]
    }
   ],
   "source": [
    "print (1 + 3)"
   ]
  },
  {
   "cell_type": "code",
   "execution_count": 9,
   "id": "863cca97-f6e7-456c-9b29-4aa453df1c89",
   "metadata": {},
   "outputs": [
    {
     "data": {
      "text/plain": [
       "4"
      ]
     },
     "execution_count": 9,
     "metadata": {},
     "output_type": "execute_result"
    }
   ],
   "source": [
    "1 + 3"
   ]
  },
  {
   "cell_type": "code",
   "execution_count": 10,
   "id": "df144433-e37a-47d1-bf5e-4e9d7c405158",
   "metadata": {},
   "outputs": [
    {
     "name": "stdout",
     "output_type": "stream",
     "text": [
      "5\n"
     ]
    }
   ],
   "source": [
    "a = 5\n",
    "print(a)"
   ]
  },
  {
   "cell_type": "code",
   "execution_count": 15,
   "id": "fbda2f4d-af8f-41a0-bf20-d4e89c0c3919",
   "metadata": {},
   "outputs": [
    {
     "name": "stdout",
     "output_type": "stream",
     "text": [
      "hello world my name is atul i work in \n",
      " home and study pwskills\n"
     ]
    }
   ],
   "source": [
    "print(\"hello world my name is atul i work in \\n home and study pwskills\")"
   ]
  },
  {
   "cell_type": "code",
   "execution_count": null,
   "id": "c8ec2181-12dd-4fe8-bd5f-e19f336df2d1",
   "metadata": {},
   "outputs": [],
   "source": []
  },
  {
   "cell_type": "markdown",
   "id": "392a544a-a42f-41c7-9a5a-e92b64aad1fd",
   "metadata": {},
   "source": [
    "## variable assignments"
   ]
  },
  {
   "cell_type": "code",
   "execution_count": 16,
   "id": "70f75e8b-c6e0-42f6-872c-c2f1d63669c2",
   "metadata": {},
   "outputs": [],
   "source": [
    "name = \"atul\"\n",
    "company = \"pwskills\""
   ]
  },
  {
   "cell_type": "code",
   "execution_count": 17,
   "id": "bad43c2f-d302-4aa1-85b8-2825601303a5",
   "metadata": {},
   "outputs": [
    {
     "data": {
      "text/plain": [
       "'atul'"
      ]
     },
     "execution_count": 17,
     "metadata": {},
     "output_type": "execute_result"
    }
   ],
   "source": [
    "name"
   ]
  },
  {
   "cell_type": "code",
   "execution_count": 18,
   "id": "f5eef208-a05b-4f3e-9964-4b83f9b5eb7f",
   "metadata": {},
   "outputs": [
    {
     "data": {
      "text/plain": [
       "'pwskills'"
      ]
     },
     "execution_count": 18,
     "metadata": {},
     "output_type": "execute_result"
    }
   ],
   "source": [
    "company"
   ]
  },
  {
   "cell_type": "code",
   "execution_count": 19,
   "id": "a16f0760-c6c3-4c30-b665-226d8ada833b",
   "metadata": {},
   "outputs": [],
   "source": [
    "name = \"atlya\""
   ]
  },
  {
   "cell_type": "code",
   "execution_count": 20,
   "id": "0e33b35a-4aa9-4bb1-a5ff-6cf409709b34",
   "metadata": {},
   "outputs": [
    {
     "data": {
      "text/plain": [
       "'atlya'"
      ]
     },
     "execution_count": 20,
     "metadata": {},
     "output_type": "execute_result"
    }
   ],
   "source": [
    "name "
   ]
  },
  {
   "cell_type": "code",
   "execution_count": 21,
   "id": "d2045f75-21c4-450a-8b5d-b0010dae1329",
   "metadata": {},
   "outputs": [],
   "source": [
    "nimber = 30 "
   ]
  },
  {
   "cell_type": "code",
   "execution_count": 22,
   "id": "5ace91f1-2140-4a73-980c-bf581fe6c023",
   "metadata": {},
   "outputs": [
    {
     "data": {
      "text/plain": [
       "30"
      ]
     },
     "execution_count": 22,
     "metadata": {},
     "output_type": "execute_result"
    }
   ],
   "source": [
    "nimber\n"
   ]
  },
  {
   "cell_type": "code",
   "execution_count": 1,
   "id": "367c9e76-8c9a-40ee-8ca8-2d9d9b159154",
   "metadata": {},
   "outputs": [
    {
     "data": {
      "text/plain": [
       "str"
      ]
     },
     "execution_count": 1,
     "metadata": {},
     "output_type": "execute_result"
    }
   ],
   "source": [
    "type('')"
   ]
  },
  {
   "cell_type": "code",
   "execution_count": 32,
   "id": "0fafd1b3-0c24-4466-ba8e-7d9e62c1f9af",
   "metadata": {},
   "outputs": [
    {
     "data": {
      "text/plain": [
       "str"
      ]
     },
     "execution_count": 32,
     "metadata": {},
     "output_type": "execute_result"
    }
   ],
   "source": [
    "type(\"23\")"
   ]
  },
  {
   "cell_type": "code",
   "execution_count": 2,
   "id": "85327382-ea7e-44c7-a7ed-b30c00afbdf1",
   "metadata": {},
   "outputs": [
    {
     "data": {
      "text/plain": [
       "int"
      ]
     },
     "execution_count": 2,
     "metadata": {},
     "output_type": "execute_result"
    }
   ],
   "source": [
    "type(78)"
   ]
  },
  {
   "cell_type": "code",
   "execution_count": 3,
   "id": "7a6a4a74-8c36-407b-8f7c-8cc94a322e81",
   "metadata": {},
   "outputs": [],
   "source": [
    "decimal_number = 67.8"
   ]
  },
  {
   "cell_type": "code",
   "execution_count": 4,
   "id": "4189cda5-687c-49f2-b593-25ee3de6c5e7",
   "metadata": {},
   "outputs": [
    {
     "data": {
      "text/plain": [
       "67.8"
      ]
     },
     "execution_count": 4,
     "metadata": {},
     "output_type": "execute_result"
    }
   ],
   "source": [
    "decimal_number"
   ]
  },
  {
   "cell_type": "code",
   "execution_count": 5,
   "id": "17f33b85-fac0-47d3-875a-6d9704b070d1",
   "metadata": {},
   "outputs": [
    {
     "data": {
      "text/plain": [
       "float"
      ]
     },
     "execution_count": 5,
     "metadata": {},
     "output_type": "execute_result"
    }
   ],
   "source": [
    "type(decimal_number)"
   ]
  },
  {
   "cell_type": "code",
   "execution_count": 6,
   "id": "13fa96dc-94bf-4c10-a472-344ce4b1afe1",
   "metadata": {},
   "outputs": [
    {
     "data": {
      "text/plain": [
       "67.8"
      ]
     },
     "execution_count": 6,
     "metadata": {},
     "output_type": "execute_result"
    }
   ],
   "source": [
    "decimal_number"
   ]
  },
  {
   "cell_type": "code",
   "execution_count": 7,
   "id": "60cee8cb-0321-4221-8eb1-55494624aa97",
   "metadata": {},
   "outputs": [
    {
     "data": {
      "text/plain": [
       "complex"
      ]
     },
     "execution_count": 7,
     "metadata": {},
     "output_type": "execute_result"
    }
   ],
   "source": [
    "type (1 + 2j)"
   ]
  },
  {
   "cell_type": "code",
   "execution_count": 8,
   "id": "7d3dbe31-ef4a-4d2b-94f1-a115d2411541",
   "metadata": {},
   "outputs": [
    {
     "name": "stdout",
     "output_type": "stream",
     "text": [
      "hello\n",
      "hello\n"
     ]
    }
   ],
   "source": [
    "print(\"hello\")\n",
    "print('hello')"
   ]
  },
  {
   "cell_type": "code",
   "execution_count": 9,
   "id": "daa15b74-09af-4c31-825c-6486173ccb97",
   "metadata": {},
   "outputs": [
    {
     "ename": "SyntaxError",
     "evalue": "invalid decimal literal (4116674555.py, line 4)",
     "output_type": "error",
     "traceback": [
      "\u001b[0;36m  Cell \u001b[0;32mIn[9], line 4\u001b[0;36m\u001b[0m\n\u001b[0;31m    3a\u001b[0m\n\u001b[0m    ^\u001b[0m\n\u001b[0;31mSyntaxError\u001b[0m\u001b[0;31m:\u001b[0m invalid decimal literal\n"
     ]
    }
   ],
   "source": [
    "##bad wAY\n",
    "## dont write the variable name with number\n",
    "ia \n",
    "3a"
   ]
  },
  {
   "cell_type": "code",
   "execution_count": 10,
   "id": "884924e7-69fc-4f2d-91fe-2d8d8f4674e9",
   "metadata": {},
   "outputs": [],
   "source": [
    "number1  = 23"
   ]
  },
  {
   "cell_type": "code",
   "execution_count": 14,
   "id": "715fcd7c-0ff5-4b8a-9b33-185fa7c1cc70",
   "metadata": {},
   "outputs": [
    {
     "name": "stdout",
     "output_type": "stream",
     "text": [
      "atul\n",
      "atul\n"
     ]
    }
   ],
   "source": [
    "## varaibles are case sensitives \n",
    "company = \"atul\"\n",
    "compant =\"pwskills\"\n",
    "\n",
    "print(company)\n",
    "print(company)"
   ]
  },
  {
   "cell_type": "code",
   "execution_count": null,
   "id": "4ddffe52-6939-40e9-aefb-95bd3506da74",
   "metadata": {},
   "outputs": [],
   "source": [
    "## reserved keywords\n",
    "\n",
    "'''\n",
    "int,float,len,complex,bool,htr,return,yield\n",
    "'''"
   ]
  },
  {
   "cell_type": "code",
   "execution_count": 16,
   "id": "e7020282-98fd-47ef-9cc1-55b6a00649b1",
   "metadata": {},
   "outputs": [
    {
     "name": "stdout",
     "output_type": "stream",
     "text": [
      "True\n"
     ]
    }
   ],
   "source": [
    "#boolean\n",
    "print(True)"
   ]
  },
  {
   "cell_type": "code",
   "execution_count": 17,
   "id": "a5e4ccb5-0261-48e3-a885-2ac68acd4e0d",
   "metadata": {},
   "outputs": [
    {
     "data": {
      "text/plain": [
       "False"
      ]
     },
     "execution_count": 17,
     "metadata": {},
     "output_type": "execute_result"
    }
   ],
   "source": [
    "True and False"
   ]
  },
  {
   "cell_type": "raw",
   "id": "97f09c06-7652-453e-bf48-f44d556fe93d",
   "metadata": {},
   "source": []
  },
  {
   "cell_type": "code",
   "execution_count": 18,
   "id": "b9f2e36e-96b3-4cbf-8231-1e8bdcde8602",
   "metadata": {},
   "outputs": [
    {
     "data": {
      "text/plain": [
       "False"
      ]
     },
     "execution_count": 18,
     "metadata": {},
     "output_type": "execute_result"
    }
   ],
   "source": [
    "True and False"
   ]
  },
  {
   "cell_type": "code",
   "execution_count": 20,
   "id": "2be3921f-291d-4cf1-b4f5-8b9a8072aad4",
   "metadata": {},
   "outputs": [
    {
     "data": {
      "text/plain": [
       "bool"
      ]
     },
     "execution_count": 20,
     "metadata": {},
     "output_type": "execute_result"
    }
   ],
   "source": [
    "type(not True) "
   ]
  },
  {
   "cell_type": "raw",
   "id": "2cb0ba87-8c22-4be3-ab0c-a9ee558b9dc5",
   "metadata": {},
   "source": []
  },
  {
   "cell_type": "code",
   "execution_count": 21,
   "id": "bc565a99-8b9b-4c7e-ac27-371965568571",
   "metadata": {},
   "outputs": [
    {
     "data": {
      "text/plain": [
       "False"
      ]
     },
     "execution_count": 21,
     "metadata": {},
     "output_type": "execute_result"
    }
   ],
   "source": [
    "## type casting\n",
    "bool(0)"
   ]
  },
  {
   "cell_type": "code",
   "execution_count": 22,
   "id": "09fafdde-999c-418e-bcc0-d14b097482fc",
   "metadata": {},
   "outputs": [
    {
     "data": {
      "text/plain": [
       "True"
      ]
     },
     "execution_count": 22,
     "metadata": {},
     "output_type": "execute_result"
    }
   ],
   "source": [
    "bool(1)"
   ]
  },
  {
   "cell_type": "code",
   "execution_count": null,
   "id": "cf0ed456-9117-4595-b827-beff946cfcd7",
   "metadata": {},
   "outputs": [],
   "source": []
  },
  {
   "cell_type": "code",
   "execution_count": 23,
   "id": "5ef78507-d182-4cb5-ae4c-3cc329f513a0",
   "metadata": {},
   "outputs": [
    {
     "name": "stdout",
     "output_type": "stream",
     "text": [
      "True\n"
     ]
    }
   ],
   "source": [
    "a = 1\n",
    "if bool(a)== 1:\n",
    "    print(\"True\")"
   ]
  },
  {
   "cell_type": "code",
   "execution_count": 24,
   "id": "8592edce-1b36-4205-97e4-d3f0ecd767d0",
   "metadata": {},
   "outputs": [
    {
     "data": {
      "text/plain": [
       "'23'"
      ]
     },
     "execution_count": 24,
     "metadata": {},
     "output_type": "execute_result"
    }
   ],
   "source": [
    "str(23)"
   ]
  },
  {
   "cell_type": "code",
   "execution_count": 25,
   "id": "9777ccad-a851-4c5c-a479-60501df54ff3",
   "metadata": {},
   "outputs": [
    {
     "data": {
      "text/plain": [
       "23"
      ]
     },
     "execution_count": 25,
     "metadata": {},
     "output_type": "execute_result"
    }
   ],
   "source": [
    "int(\"23\")"
   ]
  },
  {
   "cell_type": "markdown",
   "id": "99d40744-9016-4807-823d-bcc1e7982b78",
   "metadata": {},
   "source": [
    "### dynamic typing"
   ]
  },
  {
   "cell_type": "code",
   "execution_count": 27,
   "id": "04accb5f-fcc3-4a52-ac33-a169b56fa7c3",
   "metadata": {},
   "outputs": [],
   "source": [
    "a = 12 \n",
    "str1 = \"atul \"\n",
    "a = \"var\""
   ]
  },
  {
   "cell_type": "code",
   "execution_count": 28,
   "id": "6831d998-9884-44e3-8790-730ffc51e1c1",
   "metadata": {},
   "outputs": [
    {
     "name": "stdout",
     "output_type": "stream",
     "text": [
      "<class 'str'>\n"
     ]
    }
   ],
   "source": [
    "print(type(a))"
   ]
  },
  {
   "cell_type": "code",
   "execution_count": null,
   "id": "4ae6d2ee-4ebe-45f5-8cc8-d23559254d06",
   "metadata": {},
   "outputs": [],
   "source": [
    "## concatenation betweeen different types "
   ]
  },
  {
   "cell_type": "code",
   "execution_count": 29,
   "id": "56aa16d6-692e-4f69-bcfb-ef04e02323d6",
   "metadata": {},
   "outputs": [
    {
     "data": {
      "text/plain": [
       "'11'"
      ]
     },
     "execution_count": 29,
     "metadata": {},
     "output_type": "execute_result"
    }
   ],
   "source": [
    "\"1\" + \"1\""
   ]
  },
  {
   "cell_type": "code",
   "execution_count": 30,
   "id": "8c6fcf0c-8dbe-4c97-84f4-a7aab2365f9e",
   "metadata": {},
   "outputs": [
    {
     "data": {
      "text/plain": [
       "2"
      ]
     },
     "execution_count": 30,
     "metadata": {},
     "output_type": "execute_result"
    }
   ],
   "source": [
    "int(\"1\") + int(\"1\")"
   ]
  },
  {
   "cell_type": "code",
   "execution_count": 31,
   "id": "15574063-36cd-416f-b937-b642482b1e8e",
   "metadata": {},
   "outputs": [
    {
     "data": {
      "text/plain": [
       "'1111111111111111111111111111111111111111111111111111111111111111111111111111111111111111111111111111'"
      ]
     },
     "execution_count": 31,
     "metadata": {},
     "output_type": "execute_result"
    }
   ],
   "source": [
    "\"1\" * 100  "
   ]
  },
  {
   "cell_type": "code",
   "execution_count": null,
   "id": "0faba20d-7e21-4f62-8bd5-3aeb3d2ed123",
   "metadata": {},
   "outputs": [],
   "source": []
  }
 ],
 "metadata": {
  "kernelspec": {
   "display_name": "Python 3 (ipykernel)",
   "language": "python",
   "name": "python3"
  },
  "language_info": {
   "codemirror_mode": {
    "name": "ipython",
    "version": 3
   },
   "file_extension": ".py",
   "mimetype": "text/x-python",
   "name": "python",
   "nbconvert_exporter": "python",
   "pygments_lexer": "ipython3",
   "version": "3.10.8"
  }
 },
 "nbformat": 4,
 "nbformat_minor": 5
}
