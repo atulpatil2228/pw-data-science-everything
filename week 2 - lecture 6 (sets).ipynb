{
 "cells": [
  {
   "cell_type": "code",
   "execution_count": 1,
   "id": "bbf89c3e-39f1-40fd-acf8-cd78e1c12b75",
   "metadata": {},
   "outputs": [],
   "source": [
    "s = {}"
   ]
  },
  {
   "cell_type": "code",
   "execution_count": 2,
   "id": "d1d6be69-9abc-4076-8a5c-d89a57e2a5ba",
   "metadata": {},
   "outputs": [
    {
     "data": {
      "text/plain": [
       "dict"
      ]
     },
     "execution_count": 2,
     "metadata": {},
     "output_type": "execute_result"
    }
   ],
   "source": [
    "type(s)"
   ]
  },
  {
   "cell_type": "markdown",
   "id": "71432d8f-7e8a-451d-a009-396123d4d2bc",
   "metadata": {},
   "source": [
    "s1 = {1,2,3,4,5}"
   ]
  },
  {
   "cell_type": "code",
   "execution_count": 3,
   "id": "736cff1f-953f-4243-bf07-753841bcceb9",
   "metadata": {},
   "outputs": [],
   "source": [
    "s1 = {1,2,3,4,5}"
   ]
  },
  {
   "cell_type": "code",
   "execution_count": 4,
   "id": "e3f678aa-98f8-4ef9-ba1e-4d98051ac3e9",
   "metadata": {},
   "outputs": [
    {
     "data": {
      "text/plain": [
       "set"
      ]
     },
     "execution_count": 4,
     "metadata": {},
     "output_type": "execute_result"
    }
   ],
   "source": [
    "type(s1)"
   ]
  },
  {
   "cell_type": "code",
   "execution_count": 5,
   "id": "8f93629d-861a-4c0a-9ea8-4fb067d99baf",
   "metadata": {},
   "outputs": [],
   "source": [
    "s2 = {1,1,2,3,12,4,55,555,5,55,5,5,5,6,6,6,67,67,45}  "
   ]
  },
  {
   "cell_type": "code",
   "execution_count": 7,
   "id": "befe5b58-a4eb-4022-a88d-201e5cba9c90",
   "metadata": {},
   "outputs": [
    {
     "data": {
      "text/plain": [
       "{1, 2, 3, 4, 5, 6, 12, 45, 55, 67, 555}"
      ]
     },
     "execution_count": 7,
     "metadata": {},
     "output_type": "execute_result"
    }
   ],
   "source": [
    "s2 # it removed all duplicates"
   ]
  },
  {
   "cell_type": "code",
   "execution_count": 10,
   "id": "d811bd4c-eb6a-4612-9d36-b73ab07c5733",
   "metadata": {},
   "outputs": [],
   "source": [
    " l = list (s2)"
   ]
  },
  {
   "cell_type": "code",
   "execution_count": 9,
   "id": "e7513245-9f46-481c-99de-cacc305e07f9",
   "metadata": {},
   "outputs": [
    {
     "data": {
      "text/plain": [
       "(1, 2, 3, 4, 5, 6, 67, 555, 12, 45, 55)"
      ]
     },
     "execution_count": 9,
     "metadata": {},
     "output_type": "execute_result"
    }
   ],
   "source": [
    "tuple(s2)"
   ]
  },
  {
   "cell_type": "code",
   "execution_count": 11,
   "id": "0d4cb40a-0b27-4f76-93bf-01b5d617d9b9",
   "metadata": {},
   "outputs": [
    {
     "data": {
      "text/plain": [
       "[1, 2, 3, 4, 5, 6, 67, 555, 12, 45, 55]"
      ]
     },
     "execution_count": 11,
     "metadata": {},
     "output_type": "execute_result"
    }
   ],
   "source": [
    "l"
   ]
  },
  {
   "cell_type": "code",
   "execution_count": 12,
   "id": "a961777f-e8ea-40ef-b7d5-88a54b104a4f",
   "metadata": {},
   "outputs": [
    {
     "data": {
      "text/plain": [
       "{1, 2, 3, 4, 5, 6, 12, 45, 55, 67, 555}"
      ]
     },
     "execution_count": 12,
     "metadata": {},
     "output_type": "execute_result"
    }
   ],
   "source": [
    "set(l)"
   ]
  },
  {
   "cell_type": "code",
   "execution_count": 17,
   "id": "4247747a-d2ec-42f0-a3fd-4848a91e10e2",
   "metadata": {
    "tags": []
   },
   "outputs": [
    {
     "ename": "TypeError",
     "evalue": "unhashable type: 'list'",
     "output_type": "error",
     "traceback": [
      "\u001b[0;31m---------------------------------------------------------------------------\u001b[0m",
      "\u001b[0;31mTypeError\u001b[0m                                 Traceback (most recent call last)",
      "Cell \u001b[0;32mIn[17], line 1\u001b[0m\n\u001b[0;32m----> 1\u001b[0m s4 \u001b[38;5;241m=\u001b[39m {\u001b[38;5;241m1\u001b[39m,\u001b[38;5;241m2\u001b[39m,\u001b[38;5;241m3\u001b[39m,\u001b[38;5;241m4\u001b[39m,[\u001b[38;5;241m1\u001b[39m,\u001b[38;5;241m2\u001b[39m,\u001b[38;5;241m3\u001b[39m,\u001b[38;5;241m4\u001b[39m]}\n\u001b[1;32m      2\u001b[0m \u001b[38;5;66;03m### in case of list we can mutate entity\u001b[39;00m\n",
      "\u001b[0;31mTypeError\u001b[0m: unhashable type: 'list'"
     ]
    }
   ],
   "source": [
    "s4 = {1,2,3,4,[1,2,3,4]}\n",
    "### in case of list we can mutate entity\n"
   ]
  },
  {
   "cell_type": "code",
   "execution_count": 14,
   "id": "c636f4b4-3583-4385-9992-6d014c44756d",
   "metadata": {},
   "outputs": [],
   "source": [
    "s5 = {1,2,3,4,(1,2,3,4)}"
   ]
  },
  {
   "cell_type": "code",
   "execution_count": 15,
   "id": "2c352f01-ea79-4cef-aef2-d9b446a9fa9e",
   "metadata": {},
   "outputs": [
    {
     "data": {
      "text/plain": [
       "{(1, 2, 3, 4), 1, 2, 3, 4}"
      ]
     },
     "execution_count": 15,
     "metadata": {},
     "output_type": "execute_result"
    }
   ],
   "source": [
    "s5"
   ]
  },
  {
   "cell_type": "code",
   "execution_count": 18,
   "id": "16f6e27b-d7cc-45b8-bff6-c3012d35b3e6",
   "metadata": {},
   "outputs": [],
   "source": [
    "s6 = {\"atul\",\"Atul\",2,3,4,5}"
   ]
  },
  {
   "cell_type": "code",
   "execution_count": 19,
   "id": "75c32e16-248f-49c3-98ed-32d0df95ff8f",
   "metadata": {},
   "outputs": [
    {
     "data": {
      "text/plain": [
       "{2, 3, 4, 5, 'Atul', 'atul'}"
      ]
     },
     "execution_count": 19,
     "metadata": {},
     "output_type": "execute_result"
    }
   ],
   "source": [
    "s6"
   ]
  },
  {
   "cell_type": "code",
   "execution_count": 20,
   "id": "c864fa46-8b8b-4458-aaad-83b7a7f2c4c0",
   "metadata": {},
   "outputs": [],
   "source": [
    "s7 =  {\"atul\",\"atul\",2,3,4,5}"
   ]
  },
  {
   "cell_type": "code",
   "execution_count": 21,
   "id": "1c3b0ab6-5451-413a-b85f-f5af28fd6914",
   "metadata": {},
   "outputs": [
    {
     "data": {
      "text/plain": [
       "{2, 3, 4, 5, 'atul'}"
      ]
     },
     "execution_count": 21,
     "metadata": {},
     "output_type": "execute_result"
    }
   ],
   "source": [
    "s7"
   ]
  },
  {
   "cell_type": "code",
   "execution_count": 22,
   "id": "7145482f-ed89-4903-99d8-e29a4efbd445",
   "metadata": {},
   "outputs": [
    {
     "ename": "TypeError",
     "evalue": "'set' object is not subscriptable",
     "output_type": "error",
     "traceback": [
      "\u001b[0;31m---------------------------------------------------------------------------\u001b[0m",
      "\u001b[0;31mTypeError\u001b[0m                                 Traceback (most recent call last)",
      "Cell \u001b[0;32mIn[22], line 1\u001b[0m\n\u001b[0;32m----> 1\u001b[0m \u001b[43ms7\u001b[49m\u001b[43m[\u001b[49m\u001b[38;5;241;43m0\u001b[39;49m\u001b[43m]\u001b[49m\n",
      "\u001b[0;31mTypeError\u001b[0m: 'set' object is not subscriptable"
     ]
    }
   ],
   "source": [
    "s7[0]"
   ]
  },
  {
   "cell_type": "code",
   "execution_count": 23,
   "id": "a28cb7e0-ce24-496a-ae32-361d13bee93d",
   "metadata": {},
   "outputs": [
    {
     "ename": "TypeError",
     "evalue": "'set' object is not subscriptable",
     "output_type": "error",
     "traceback": [
      "\u001b[0;31m---------------------------------------------------------------------------\u001b[0m",
      "\u001b[0;31mTypeError\u001b[0m                                 Traceback (most recent call last)",
      "Cell \u001b[0;32mIn[23], line 1\u001b[0m\n\u001b[0;32m----> 1\u001b[0m \u001b[43ms7\u001b[49m\u001b[43m[\u001b[49m\u001b[43m:\u001b[49m\u001b[43m:\u001b[49m\u001b[38;5;241;43m1\u001b[39;49m\u001b[43m]\u001b[49m\n",
      "\u001b[0;31mTypeError\u001b[0m: 'set' object is not subscriptable"
     ]
    }
   ],
   "source": [
    "s7[::1]"
   ]
  },
  {
   "cell_type": "code",
   "execution_count": 24,
   "id": "49f80fa4-d56d-4f7d-b564-d1b86188576f",
   "metadata": {},
   "outputs": [
    {
     "data": {
      "text/plain": [
       "{2, 3, 4, 5, 'atul'}"
      ]
     },
     "execution_count": 24,
     "metadata": {},
     "output_type": "execute_result"
    }
   ],
   "source": [
    "s7"
   ]
  },
  {
   "cell_type": "code",
   "execution_count": 25,
   "id": "6813e3f1-9fc6-475d-a7d2-be5de1d800d9",
   "metadata": {},
   "outputs": [
    {
     "name": "stdout",
     "output_type": "stream",
     "text": [
      "2\n",
      "3\n",
      "4\n",
      "5\n",
      "atul\n"
     ]
    }
   ],
   "source": [
    "for i in s7:\n",
    "    print(i)"
   ]
  },
  {
   "cell_type": "code",
   "execution_count": 26,
   "id": "c2aa1d0c-55ed-4642-b49f-36386bae5f69",
   "metadata": {},
   "outputs": [
    {
     "data": {
      "text/plain": [
       "{2, 3, 4, 5, 'atul'}"
      ]
     },
     "execution_count": 26,
     "metadata": {},
     "output_type": "execute_result"
    }
   ],
   "source": [
    "s7 "
   ]
  },
  {
   "cell_type": "code",
   "execution_count": 27,
   "id": "46e0fda1-7d4d-4cb5-a054-5b18c71808d3",
   "metadata": {},
   "outputs": [],
   "source": [
    "s7.add(\"patil\")"
   ]
  },
  {
   "cell_type": "code",
   "execution_count": 28,
   "id": "b48b98f7-8337-4f8d-8650-079b78d4bc5c",
   "metadata": {},
   "outputs": [
    {
     "data": {
      "text/plain": [
       "{2, 3, 4, 5, 'atul', 'patil'}"
      ]
     },
     "execution_count": 28,
     "metadata": {},
     "output_type": "execute_result"
    }
   ],
   "source": [
    "s7"
   ]
  },
  {
   "cell_type": "code",
   "execution_count": 29,
   "id": "6bdbd671-6f36-4373-ad62-61589069ce76",
   "metadata": {},
   "outputs": [],
   "source": [
    "s7.add(2)"
   ]
  },
  {
   "cell_type": "code",
   "execution_count": 30,
   "id": "3c7f9fe0-3839-472c-a462-211fdbdd9c80",
   "metadata": {},
   "outputs": [
    {
     "data": {
      "text/plain": [
       "{2, 3, 4, 5, 'atul', 'patil'}"
      ]
     },
     "execution_count": 30,
     "metadata": {},
     "output_type": "execute_result"
    }
   ],
   "source": [
    "s7"
   ]
  },
  {
   "cell_type": "code",
   "execution_count": 31,
   "id": "9059f75e-563d-41b3-93af-b5ee79671128",
   "metadata": {},
   "outputs": [
    {
     "data": {
      "text/plain": [
       "{2, 3, 4, 5, 'atul', 'patil'}"
      ]
     },
     "execution_count": 31,
     "metadata": {},
     "output_type": "execute_result"
    }
   ],
   "source": [
    "s7"
   ]
  },
  {
   "cell_type": "code",
   "execution_count": 32,
   "id": "5d9f4d36-040c-452a-ac25-32b2fc70dc64",
   "metadata": {},
   "outputs": [
    {
     "data": {
      "text/plain": [
       "6"
      ]
     },
     "execution_count": 32,
     "metadata": {},
     "output_type": "execute_result"
    }
   ],
   "source": [
    "len(s7)"
   ]
  },
  {
   "cell_type": "code",
   "execution_count": 33,
   "id": "d149a56f-458e-43ee-abe4-708f34816a4c",
   "metadata": {},
   "outputs": [
    {
     "data": {
      "text/plain": [
       "2"
      ]
     },
     "execution_count": 33,
     "metadata": {},
     "output_type": "execute_result"
    }
   ],
   "source": [
    "s7.pop()"
   ]
  },
  {
   "cell_type": "code",
   "execution_count": 34,
   "id": "17b0c0e8-fb3c-4ac1-8c1d-3be266dbf388",
   "metadata": {},
   "outputs": [
    {
     "data": {
      "text/plain": [
       "{3, 4, 5, 'atul', 'patil'}"
      ]
     },
     "execution_count": 34,
     "metadata": {},
     "output_type": "execute_result"
    }
   ],
   "source": [
    "s7"
   ]
  },
  {
   "cell_type": "code",
   "execution_count": 35,
   "id": "5bb34864-3dd6-411d-b531-af84c1bb07fb",
   "metadata": {},
   "outputs": [
    {
     "data": {
      "text/plain": [
       "3"
      ]
     },
     "execution_count": 35,
     "metadata": {},
     "output_type": "execute_result"
    }
   ],
   "source": [
    "s7.pop()"
   ]
  },
  {
   "cell_type": "code",
   "execution_count": 36,
   "id": "e4f44947-3e03-4d1f-a4d4-dcb0b374cd91",
   "metadata": {},
   "outputs": [
    {
     "data": {
      "text/plain": [
       "{4, 5, 'atul', 'patil'}"
      ]
     },
     "execution_count": 36,
     "metadata": {},
     "output_type": "execute_result"
    }
   ],
   "source": [
    "s7"
   ]
  },
  {
   "cell_type": "code",
   "execution_count": 37,
   "id": "00a8a86b-7ad7-4ead-88c4-930d34768e88",
   "metadata": {},
   "outputs": [
    {
     "data": {
      "text/plain": [
       "4"
      ]
     },
     "execution_count": 37,
     "metadata": {},
     "output_type": "execute_result"
    }
   ],
   "source": [
    "s7.pop()"
   ]
  },
  {
   "cell_type": "code",
   "execution_count": 38,
   "id": "f93a57aa-0348-4cd8-890c-9b5312e4fdee",
   "metadata": {},
   "outputs": [
    {
     "data": {
      "text/plain": [
       "{5, 'atul', 'patil'}"
      ]
     },
     "execution_count": 38,
     "metadata": {},
     "output_type": "execute_result"
    }
   ],
   "source": [
    "s7"
   ]
  },
  {
   "cell_type": "code",
   "execution_count": 39,
   "id": "c7f1bfe5-5546-4230-a1a4-3dd32bc85219",
   "metadata": {},
   "outputs": [
    {
     "data": {
      "text/plain": [
       "{5, 'atul', 'patil'}"
      ]
     },
     "execution_count": 39,
     "metadata": {},
     "output_type": "execute_result"
    }
   ],
   "source": [
    "s7"
   ]
  },
  {
   "cell_type": "code",
   "execution_count": 40,
   "id": "13f0514f-41d1-47f0-9979-f19b57bde849",
   "metadata": {},
   "outputs": [],
   "source": [
    "s7.clear()"
   ]
  },
  {
   "cell_type": "code",
   "execution_count": 41,
   "id": "d8171c52-8218-4384-aea8-e82a56da8cb5",
   "metadata": {},
   "outputs": [
    {
     "data": {
      "text/plain": [
       "set()"
      ]
     },
     "execution_count": 41,
     "metadata": {},
     "output_type": "execute_result"
    }
   ],
   "source": [
    "s7"
   ]
  },
  {
   "cell_type": "code",
   "execution_count": 42,
   "id": "df0d3540-83d2-485c-920e-6947c004d581",
   "metadata": {},
   "outputs": [],
   "source": [
    "s8 = {1,2,3,4}\n",
    "s9 = {1,2,3,5}"
   ]
  },
  {
   "cell_type": "code",
   "execution_count": 43,
   "id": "cee07df3-bcd3-4450-a03b-fa2ae8c908c1",
   "metadata": {},
   "outputs": [
    {
     "data": {
      "text/plain": [
       "{4}"
      ]
     },
     "execution_count": 43,
     "metadata": {},
     "output_type": "execute_result"
    }
   ],
   "source": [
    "s8.difference(s9)"
   ]
  },
  {
   "cell_type": "code",
   "execution_count": 44,
   "id": "8e190634-4354-43ec-8d39-7f1b58bfc1d3",
   "metadata": {},
   "outputs": [
    {
     "data": {
      "text/plain": [
       "{5}"
      ]
     },
     "execution_count": 44,
     "metadata": {},
     "output_type": "execute_result"
    }
   ],
   "source": [
    "s9.difference(s8)"
   ]
  },
  {
   "cell_type": "code",
   "execution_count": null,
   "id": "984e3956-69d7-4c34-92da-df4c039bc86f",
   "metadata": {},
   "outputs": [],
   "source": []
  },
  {
   "cell_type": "code",
   "execution_count": null,
   "id": "22b99eb0-46ea-440e-b993-be7bce6f26e6",
   "metadata": {},
   "outputs": [],
   "source": []
  },
  {
   "cell_type": "code",
   "execution_count": null,
   "id": "4cf3c2f6-76ae-480a-8de6-ddbb97ad6dd4",
   "metadata": {},
   "outputs": [],
   "source": []
  },
  {
   "cell_type": "code",
   "execution_count": null,
   "id": "6d6906ad-2888-4cd5-bd9c-6dbcfe2e409d",
   "metadata": {},
   "outputs": [],
   "source": []
  },
  {
   "cell_type": "code",
   "execution_count": null,
   "id": "52b1493b-ec55-4ab1-941e-784e84dd9753",
   "metadata": {},
   "outputs": [],
   "source": []
  },
  {
   "cell_type": "code",
   "execution_count": null,
   "id": "cd6b8a82-9f0b-49ff-823d-3d15d4d84644",
   "metadata": {},
   "outputs": [],
   "source": []
  },
  {
   "cell_type": "code",
   "execution_count": null,
   "id": "69c69fc6-1bfa-4cbd-85be-0d1a29bc3286",
   "metadata": {},
   "outputs": [],
   "source": []
  },
  {
   "cell_type": "code",
   "execution_count": null,
   "id": "eaa10708-b299-4ecf-9acd-61b25c7f70ba",
   "metadata": {},
   "outputs": [],
   "source": []
  },
  {
   "cell_type": "code",
   "execution_count": null,
   "id": "bf97388b-d6ab-4a7f-870d-8dc9278d460d",
   "metadata": {},
   "outputs": [],
   "source": []
  },
  {
   "cell_type": "code",
   "execution_count": null,
   "id": "739fb502-84e6-46cb-9f7c-34b7239d1656",
   "metadata": {},
   "outputs": [],
   "source": []
  },
  {
   "cell_type": "code",
   "execution_count": null,
   "id": "17831d32-1ad4-4cc6-b989-85c533ae9924",
   "metadata": {},
   "outputs": [],
   "source": []
  },
  {
   "cell_type": "code",
   "execution_count": null,
   "id": "8e1107ed-bbab-4e21-85cf-5653c8d7f6de",
   "metadata": {},
   "outputs": [],
   "source": []
  },
  {
   "cell_type": "code",
   "execution_count": null,
   "id": "3be3ed4e-7607-4ca4-b5b8-764743eaf60c",
   "metadata": {},
   "outputs": [],
   "source": []
  },
  {
   "cell_type": "code",
   "execution_count": null,
   "id": "77455f7b-bb62-4a89-a377-6a6095fdf805",
   "metadata": {},
   "outputs": [],
   "source": []
  },
  {
   "cell_type": "code",
   "execution_count": null,
   "id": "75820366-2f90-4779-8f67-125d561ded33",
   "metadata": {},
   "outputs": [],
   "source": []
  },
  {
   "cell_type": "code",
   "execution_count": null,
   "id": "2febb6bd-d879-4c40-90a4-f09ec98e8245",
   "metadata": {},
   "outputs": [],
   "source": []
  },
  {
   "cell_type": "code",
   "execution_count": null,
   "id": "86c7209f-62d4-4a91-bc9e-f4815a231430",
   "metadata": {},
   "outputs": [],
   "source": []
  },
  {
   "cell_type": "code",
   "execution_count": null,
   "id": "37d599ac-815e-4388-ba4c-f5324a6a61cb",
   "metadata": {},
   "outputs": [],
   "source": []
  },
  {
   "cell_type": "code",
   "execution_count": null,
   "id": "d8548b97-40ea-4e27-9783-1dddee6b5226",
   "metadata": {},
   "outputs": [],
   "source": []
  },
  {
   "cell_type": "code",
   "execution_count": null,
   "id": "f6db7af6-8780-44cc-89f1-03072146d0bb",
   "metadata": {},
   "outputs": [],
   "source": []
  },
  {
   "cell_type": "code",
   "execution_count": null,
   "id": "09ef92bc-a1e6-4e4e-b094-843a1f7cc496",
   "metadata": {},
   "outputs": [],
   "source": []
  },
  {
   "cell_type": "code",
   "execution_count": null,
   "id": "a40987e9-a8ad-466b-bc57-b8816aab12a7",
   "metadata": {},
   "outputs": [],
   "source": []
  }
 ],
 "metadata": {
  "kernelspec": {
   "display_name": "Python 3 (ipykernel)",
   "language": "python",
   "name": "python3"
  },
  "language_info": {
   "codemirror_mode": {
    "name": "ipython",
    "version": 3
   },
   "file_extension": ".py",
   "mimetype": "text/x-python",
   "name": "python",
   "nbconvert_exporter": "python",
   "pygments_lexer": "ipython3",
   "version": "3.10.8"
  }
 },
 "nbformat": 4,
 "nbformat_minor": 5
}
